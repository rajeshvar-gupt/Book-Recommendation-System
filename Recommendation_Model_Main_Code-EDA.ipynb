{
 "cells": [
  {
   "cell_type": "code",
   "execution_count": 1,
   "id": "c92a6bc1",
   "metadata": {
    "ExecuteTime": {
     "end_time": "2023-06-07T05:28:09.385470Z",
     "start_time": "2023-06-07T05:28:03.449013Z"
    }
   },
   "outputs": [],
   "source": [
    "# Import basic libraries.\n",
    "import numpy as np\n",
    "import pandas as pd\n",
    "\n",
    "# For visualization\n",
    "import matplotlib.pyplot as plt\n",
    "import seaborn as sns\n",
    "import re\n",
    "\n",
    "import warnings\n",
    "warnings.filterwarnings('ignore')"
   ]
  },
  {
   "cell_type": "code",
   "execution_count": 2,
   "id": "d6c0442e",
   "metadata": {
    "ExecuteTime": {
     "end_time": "2023-06-07T05:28:11.446639Z",
     "start_time": "2023-06-07T05:28:09.385470Z"
    }
   },
   "outputs": [],
   "source": [
    "# read the book data set\n",
    "books = pd.read_csv(\"Books.csv\",encoding='latin-1') # In the data set having spaces so we us"
   ]
  },
  {
   "cell_type": "code",
   "execution_count": 3,
   "id": "dfcd5d80",
   "metadata": {
    "ExecuteTime": {
     "end_time": "2023-06-07T05:28:12.476998Z",
     "start_time": "2023-06-07T05:28:11.451404Z"
    }
   },
   "outputs": [],
   "source": [
    "ratings = pd.read_csv('Ratings.csv', encoding='latin-1')\n",
    "users = pd.read_csv('Users.csv', encoding='latin-1')"
   ]
  },
  {
   "cell_type": "code",
   "execution_count": 4,
   "id": "870b0aad",
   "metadata": {
    "ExecuteTime": {
     "end_time": "2023-06-07T05:28:12.524512Z",
     "start_time": "2023-06-07T05:28:12.476998Z"
    }
   },
   "outputs": [
    {
     "data": {
      "text/html": [
       "<div>\n",
       "<style scoped>\n",
       "    .dataframe tbody tr th:only-of-type {\n",
       "        vertical-align: middle;\n",
       "    }\n",
       "\n",
       "    .dataframe tbody tr th {\n",
       "        vertical-align: top;\n",
       "    }\n",
       "\n",
       "    .dataframe thead th {\n",
       "        text-align: right;\n",
       "    }\n",
       "</style>\n",
       "<table border=\"1\" class=\"dataframe\">\n",
       "  <thead>\n",
       "    <tr style=\"text-align: right;\">\n",
       "      <th></th>\n",
       "      <th>User-ID</th>\n",
       "      <th>Location</th>\n",
       "      <th>Age</th>\n",
       "    </tr>\n",
       "  </thead>\n",
       "  <tbody>\n",
       "    <tr>\n",
       "      <th>0</th>\n",
       "      <td>1</td>\n",
       "      <td>nyc, new york, usa</td>\n",
       "      <td>NaN</td>\n",
       "    </tr>\n",
       "    <tr>\n",
       "      <th>1</th>\n",
       "      <td>2</td>\n",
       "      <td>stockton, california, usa</td>\n",
       "      <td>18.0</td>\n",
       "    </tr>\n",
       "    <tr>\n",
       "      <th>2</th>\n",
       "      <td>3</td>\n",
       "      <td>moscow, yukon territory, russia</td>\n",
       "      <td>NaN</td>\n",
       "    </tr>\n",
       "    <tr>\n",
       "      <th>3</th>\n",
       "      <td>4</td>\n",
       "      <td>porto, v.n.gaia, portugal</td>\n",
       "      <td>17.0</td>\n",
       "    </tr>\n",
       "    <tr>\n",
       "      <th>4</th>\n",
       "      <td>5</td>\n",
       "      <td>farnborough, hants, united kingdom</td>\n",
       "      <td>NaN</td>\n",
       "    </tr>\n",
       "  </tbody>\n",
       "</table>\n",
       "</div>"
      ],
      "text/plain": [
       "   User-ID                            Location   Age\n",
       "0        1                  nyc, new york, usa   NaN\n",
       "1        2           stockton, california, usa  18.0\n",
       "2        3     moscow, yukon territory, russia   NaN\n",
       "3        4           porto, v.n.gaia, portugal  17.0\n",
       "4        5  farnborough, hants, united kingdom   NaN"
      ]
     },
     "execution_count": 4,
     "metadata": {},
     "output_type": "execute_result"
    }
   ],
   "source": [
    "users.head()"
   ]
  },
  {
   "cell_type": "code",
   "execution_count": 5,
   "id": "a7cdff1d",
   "metadata": {
    "ExecuteTime": {
     "end_time": "2023-06-07T05:28:12.540339Z",
     "start_time": "2023-06-07T05:28:12.524512Z"
    }
   },
   "outputs": [],
   "source": [
    "users.rename(columns={'User-ID': 'userId'}, inplace=True)"
   ]
  },
  {
   "cell_type": "code",
   "execution_count": 6,
   "id": "c05479cc",
   "metadata": {
    "ExecuteTime": {
     "end_time": "2023-06-07T05:28:12.555971Z",
     "start_time": "2023-06-07T05:28:12.543077Z"
    }
   },
   "outputs": [
    {
     "data": {
      "text/html": [
       "<div>\n",
       "<style scoped>\n",
       "    .dataframe tbody tr th:only-of-type {\n",
       "        vertical-align: middle;\n",
       "    }\n",
       "\n",
       "    .dataframe tbody tr th {\n",
       "        vertical-align: top;\n",
       "    }\n",
       "\n",
       "    .dataframe thead th {\n",
       "        text-align: right;\n",
       "    }\n",
       "</style>\n",
       "<table border=\"1\" class=\"dataframe\">\n",
       "  <thead>\n",
       "    <tr style=\"text-align: right;\">\n",
       "      <th></th>\n",
       "      <th>User-ID</th>\n",
       "      <th>ISBN</th>\n",
       "      <th>Book-Rating</th>\n",
       "    </tr>\n",
       "  </thead>\n",
       "  <tbody>\n",
       "    <tr>\n",
       "      <th>0</th>\n",
       "      <td>276725</td>\n",
       "      <td>034545104X</td>\n",
       "      <td>0</td>\n",
       "    </tr>\n",
       "    <tr>\n",
       "      <th>1</th>\n",
       "      <td>276726</td>\n",
       "      <td>0155061224</td>\n",
       "      <td>5</td>\n",
       "    </tr>\n",
       "    <tr>\n",
       "      <th>2</th>\n",
       "      <td>276727</td>\n",
       "      <td>0446520802</td>\n",
       "      <td>0</td>\n",
       "    </tr>\n",
       "    <tr>\n",
       "      <th>3</th>\n",
       "      <td>276729</td>\n",
       "      <td>052165615X</td>\n",
       "      <td>3</td>\n",
       "    </tr>\n",
       "    <tr>\n",
       "      <th>4</th>\n",
       "      <td>276729</td>\n",
       "      <td>0521795028</td>\n",
       "      <td>6</td>\n",
       "    </tr>\n",
       "  </tbody>\n",
       "</table>\n",
       "</div>"
      ],
      "text/plain": [
       "   User-ID        ISBN  Book-Rating\n",
       "0   276725  034545104X            0\n",
       "1   276726  0155061224            5\n",
       "2   276727  0446520802            0\n",
       "3   276729  052165615X            3\n",
       "4   276729  0521795028            6"
      ]
     },
     "execution_count": 6,
     "metadata": {},
     "output_type": "execute_result"
    }
   ],
   "source": [
    "ratings.head()"
   ]
  },
  {
   "cell_type": "code",
   "execution_count": 7,
   "id": "5be3e606",
   "metadata": {
    "ExecuteTime": {
     "end_time": "2023-06-07T05:28:12.572086Z",
     "start_time": "2023-06-07T05:28:12.558790Z"
    }
   },
   "outputs": [],
   "source": [
    "ratings.rename(columns={'User-ID': 'userId', 'Book-Rating': 'bookRating'}, inplace=True)"
   ]
  },
  {
   "cell_type": "code",
   "execution_count": 8,
   "id": "e7e2a52f",
   "metadata": {
    "ExecuteTime": {
     "end_time": "2023-06-07T05:28:12.587655Z",
     "start_time": "2023-06-07T05:28:12.575100Z"
    }
   },
   "outputs": [
    {
     "name": "stdout",
     "output_type": "stream",
     "text": [
      "(271360, 8)\n",
      "(1149780, 3)\n",
      "(278858, 3)\n"
     ]
    }
   ],
   "source": [
    "print(books.shape)\n",
    "print(ratings.shape)\n",
    "print(users.shape)"
   ]
  },
  {
   "cell_type": "markdown",
   "id": "1ff5f1d5",
   "metadata": {},
   "source": [
    "## Checking Books Data"
   ]
  },
  {
   "cell_type": "code",
   "execution_count": 9,
   "id": "284ad6ed",
   "metadata": {
    "ExecuteTime": {
     "end_time": "2023-06-07T05:28:13.111417Z",
     "start_time": "2023-06-07T05:28:12.591531Z"
    }
   },
   "outputs": [
    {
     "data": {
      "text/plain": [
       "ISBN                   0\n",
       "Book-Title             0\n",
       "Book-Author            1\n",
       "Year-Of-Publication    0\n",
       "Publisher              2\n",
       "Image-URL-S            0\n",
       "Image-URL-M            0\n",
       "Image-URL-L            3\n",
       "dtype: int64"
      ]
     },
     "execution_count": 9,
     "metadata": {},
     "output_type": "execute_result"
    }
   ],
   "source": [
    "books.isnull().sum()"
   ]
  },
  {
   "cell_type": "code",
   "execution_count": 10,
   "id": "f243d55a",
   "metadata": {
    "ExecuteTime": {
     "end_time": "2023-06-07T05:28:14.125017Z",
     "start_time": "2023-06-07T05:28:13.118181Z"
    }
   },
   "outputs": [
    {
     "data": {
      "text/plain": [
       "0"
      ]
     },
     "execution_count": 10,
     "metadata": {},
     "output_type": "execute_result"
    }
   ],
   "source": [
    "books.duplicated().sum()"
   ]
  },
  {
   "cell_type": "code",
   "execution_count": 11,
   "id": "fb656b2f",
   "metadata": {
    "ExecuteTime": {
     "end_time": "2023-06-07T05:28:14.140793Z",
     "start_time": "2023-06-07T05:28:14.128703Z"
    }
   },
   "outputs": [],
   "source": [
    "## Renaming columns\n",
    "books.rename(columns={'Year-Of-Publication': 'yearOfPublication'}, inplace=True)\n",
    "books.rename(columns={'Book-Title': 'bookTitle', 'Book-Author': 'bookAuthor','Publisher': 'publisher', 'Image-URL-S': 'imageUrlS', 'Image-URL-M': 'imageUrlM', 'Image-URL-L': 'imageUrlL'}, inplace=True)"
   ]
  },
  {
   "cell_type": "code",
   "execution_count": 12,
   "id": "c0938e77",
   "metadata": {
    "ExecuteTime": {
     "end_time": "2023-06-07T05:28:14.599745Z",
     "start_time": "2023-06-07T05:28:14.140793Z"
    }
   },
   "outputs": [
    {
     "name": "stdout",
     "output_type": "stream",
     "text": [
      "<class 'pandas.core.frame.DataFrame'>\n",
      "RangeIndex: 271360 entries, 0 to 271359\n",
      "Data columns (total 8 columns):\n",
      " #   Column             Non-Null Count   Dtype \n",
      "---  ------             --------------   ----- \n",
      " 0   ISBN               271360 non-null  object\n",
      " 1   bookTitle          271360 non-null  object\n",
      " 2   bookAuthor         271359 non-null  object\n",
      " 3   yearOfPublication  271360 non-null  object\n",
      " 4   publisher          271358 non-null  object\n",
      " 5   imageUrlS          271360 non-null  object\n",
      " 6   imageUrlM          271360 non-null  object\n",
      " 7   imageUrlL          271357 non-null  object\n",
      "dtypes: object(8)\n",
      "memory usage: 16.6+ MB\n"
     ]
    }
   ],
   "source": [
    "books.info()"
   ]
  },
  {
   "cell_type": "markdown",
   "id": "499cfacb",
   "metadata": {},
   "source": [
    "- Here we can see Year-Of-Publication should have dtype as int, so now we check the unique values of Year-Of-Publication using unqiue() method, so that we can see is there any data because of which our data type is converted in object"
   ]
  },
  {
   "cell_type": "code",
   "execution_count": 13,
   "id": "9bc78532",
   "metadata": {
    "ExecuteTime": {
     "end_time": "2023-06-07T05:28:14.631924Z",
     "start_time": "2023-06-07T05:28:14.602637Z"
    }
   },
   "outputs": [
    {
     "data": {
      "text/plain": [
       "array([2002, 2001, 1991, 1999, 2000, 1993, 1996, 1988, 2004, 1998, 1994,\n",
       "       2003, 1997, 1983, 1979, 1995, 1982, 1985, 1992, 1986, 1978, 1980,\n",
       "       1952, 1987, 1990, 1981, 1989, 1984, 0, 1968, 1961, 1958, 1974,\n",
       "       1976, 1971, 1977, 1975, 1965, 1941, 1970, 1962, 1973, 1972, 1960,\n",
       "       1966, 1920, 1956, 1959, 1953, 1951, 1942, 1963, 1964, 1969, 1954,\n",
       "       1950, 1967, 2005, 1957, 1940, 1937, 1955, 1946, 1936, 1930, 2011,\n",
       "       1925, 1948, 1943, 1947, 1945, 1923, 2020, 1939, 1926, 1938, 2030,\n",
       "       1911, 1904, 1949, 1932, 1928, 1929, 1927, 1931, 1914, 2050, 1934,\n",
       "       1910, 1933, 1902, 1924, 1921, 1900, 2038, 2026, 1944, 1917, 1901,\n",
       "       2010, 1908, 1906, 1935, 1806, 2021, '2000', '1995', '1999', '2004',\n",
       "       '2003', '1990', '1994', '1986', '1989', '2002', '1981', '1993',\n",
       "       '1983', '1982', '1976', '1991', '1977', '1998', '1992', '1996',\n",
       "       '0', '1997', '2001', '1974', '1968', '1987', '1984', '1988',\n",
       "       '1963', '1956', '1970', '1985', '1978', '1973', '1980', '1979',\n",
       "       '1975', '1969', '1961', '1965', '1939', '1958', '1950', '1953',\n",
       "       '1966', '1971', '1959', '1972', '1955', '1957', '1945', '1960',\n",
       "       '1967', '1932', '1924', '1964', '2012', '1911', '1927', '1948',\n",
       "       '1962', '2006', '1952', '1940', '1951', '1931', '1954', '2005',\n",
       "       '1930', '1941', '1944', 'DK Publishing Inc', '1943', '1938',\n",
       "       '1900', '1942', '1923', '1920', '1933', 'Gallimard', '1909',\n",
       "       '1946', '2008', '1378', '2030', '1936', '1947', '2011', '2020',\n",
       "       '1919', '1949', '1922', '1897', '2024', '1376', '1926', '2037'],\n",
       "      dtype=object)"
      ]
     },
     "execution_count": 13,
     "metadata": {},
     "output_type": "execute_result"
    }
   ],
   "source": [
    "books.yearOfPublication.unique()"
   ]
  },
  {
   "cell_type": "markdown",
   "id": "95e71a1a",
   "metadata": {},
   "source": [
    "- We can see that some author names are mixed in year of publication data example : 'DK Publishing Inc' and 'Gallimard'\n",
    "\n",
    "- Now we will check the row which have 'DK Publishing Inc' as yearOfPublication"
   ]
  },
  {
   "cell_type": "code",
   "execution_count": 14,
   "id": "b53ac90b",
   "metadata": {
    "ExecuteTime": {
     "end_time": "2023-06-07T05:28:14.678895Z",
     "start_time": "2023-06-07T05:28:14.635407Z"
    }
   },
   "outputs": [
    {
     "data": {
      "text/html": [
       "<div>\n",
       "<style scoped>\n",
       "    .dataframe tbody tr th:only-of-type {\n",
       "        vertical-align: middle;\n",
       "    }\n",
       "\n",
       "    .dataframe tbody tr th {\n",
       "        vertical-align: top;\n",
       "    }\n",
       "\n",
       "    .dataframe thead th {\n",
       "        text-align: right;\n",
       "    }\n",
       "</style>\n",
       "<table border=\"1\" class=\"dataframe\">\n",
       "  <thead>\n",
       "    <tr style=\"text-align: right;\">\n",
       "      <th></th>\n",
       "      <th>ISBN</th>\n",
       "      <th>bookTitle</th>\n",
       "      <th>bookAuthor</th>\n",
       "      <th>yearOfPublication</th>\n",
       "      <th>publisher</th>\n",
       "      <th>imageUrlS</th>\n",
       "      <th>imageUrlM</th>\n",
       "      <th>imageUrlL</th>\n",
       "    </tr>\n",
       "  </thead>\n",
       "  <tbody>\n",
       "    <tr>\n",
       "      <th>209538</th>\n",
       "      <td>078946697X</td>\n",
       "      <td>DK Readers: Creating the X-Men, How It All Beg...</td>\n",
       "      <td>2000</td>\n",
       "      <td>DK Publishing Inc</td>\n",
       "      <td>http://images.amazon.com/images/P/078946697X.0...</td>\n",
       "      <td>http://images.amazon.com/images/P/078946697X.0...</td>\n",
       "      <td>http://images.amazon.com/images/P/078946697X.0...</td>\n",
       "      <td>NaN</td>\n",
       "    </tr>\n",
       "    <tr>\n",
       "      <th>221678</th>\n",
       "      <td>0789466953</td>\n",
       "      <td>DK Readers: Creating the X-Men, How Comic Book...</td>\n",
       "      <td>2000</td>\n",
       "      <td>DK Publishing Inc</td>\n",
       "      <td>http://images.amazon.com/images/P/0789466953.0...</td>\n",
       "      <td>http://images.amazon.com/images/P/0789466953.0...</td>\n",
       "      <td>http://images.amazon.com/images/P/0789466953.0...</td>\n",
       "      <td>NaN</td>\n",
       "    </tr>\n",
       "  </tbody>\n",
       "</table>\n",
       "</div>"
      ],
      "text/plain": [
       "              ISBN                                          bookTitle  \\\n",
       "209538  078946697X  DK Readers: Creating the X-Men, How It All Beg...   \n",
       "221678  0789466953  DK Readers: Creating the X-Men, How Comic Book...   \n",
       "\n",
       "       bookAuthor  yearOfPublication  \\\n",
       "209538       2000  DK Publishing Inc   \n",
       "221678       2000  DK Publishing Inc   \n",
       "\n",
       "                                                publisher  \\\n",
       "209538  http://images.amazon.com/images/P/078946697X.0...   \n",
       "221678  http://images.amazon.com/images/P/0789466953.0...   \n",
       "\n",
       "                                                imageUrlS  \\\n",
       "209538  http://images.amazon.com/images/P/078946697X.0...   \n",
       "221678  http://images.amazon.com/images/P/0789466953.0...   \n",
       "\n",
       "                                                imageUrlM imageUrlL  \n",
       "209538  http://images.amazon.com/images/P/078946697X.0...       NaN  \n",
       "221678  http://images.amazon.com/images/P/0789466953.0...       NaN  "
      ]
     },
     "execution_count": 14,
     "metadata": {},
     "output_type": "execute_result"
    }
   ],
   "source": [
    "books.loc[books.yearOfPublication == 'DK Publishing Inc',:]"
   ]
  },
  {
   "cell_type": "markdown",
   "id": "b4078d76",
   "metadata": {},
   "source": [
    "- As we can see there are two books with mixed data, hence we will correct it"
   ]
  },
  {
   "cell_type": "code",
   "execution_count": 15,
   "id": "0cc30e40",
   "metadata": {
    "ExecuteTime": {
     "end_time": "2023-06-07T05:28:14.867406Z",
     "start_time": "2023-06-07T05:28:14.682325Z"
    }
   },
   "outputs": [],
   "source": [
    "books.loc[books.ISBN == '078946697X','imageUrlL'] = 'http://images.amazon.com/images/P/078946697X.01.LZZZZZZZ.jpg'\n",
    "books.loc[books.ISBN == '078946697X','imageUrlM'] = 'http://images.amazon.com/images/P/078946697X.01.MZZZZZZZ.jpg'\n",
    "books.loc[books.ISBN == '078946697X','imageUrlS'] = 'http://images.amazon.com/images/P/078946697X.01.THUMBZZZ.jpg'\n",
    "books.loc[books.ISBN == '078946697X','publisher'] = 'DK Publishing Inc'\n",
    "books.loc[books.ISBN == '078946697X','yearOfPublication'] = '2000'\n",
    "books.loc[books.ISBN == '078946697X','bookAuthor'] = 'Michael Teitelbaum'\n",
    "books.loc[books.ISBN == '078946697X','bookTitle'] = 'DK Readers: Creating the X-Men, How It All Began (Level 4: Proficient Readers)'"
   ]
  },
  {
   "cell_type": "code",
   "execution_count": 16,
   "id": "7086c4e0",
   "metadata": {
    "ExecuteTime": {
     "end_time": "2023-06-07T05:28:15.058891Z",
     "start_time": "2023-06-07T05:28:14.870600Z"
    }
   },
   "outputs": [],
   "source": [
    "books.loc[books.ISBN == '0789466953','imageUrlL'] = 'http://images.amazon.com/images/P/0789466953.01.LZZZZZZZ.jpg'\n",
    "books.loc[books.ISBN == '0789466953','imageUrlM'] = 'http://images.amazon.com/images/P/0789466953.01.MZZZZZZZ.jpg'\n",
    "books.loc[books.ISBN == '0789466953','imageUrlS'] = 'http://images.amazon.com/images/P/0789466953.01.THUMBZZZ.jpg'\n",
    "books.loc[books.ISBN == '0789466953','publisher'] = 'DK Publishing Inc'\n",
    "books.loc[books.ISBN == '0789466953','yearOfPublication'] = '2000'\n",
    "books.loc[books.ISBN == '0789466953','bookAuthor'] = 'James Buckley'\n",
    "books.loc[books.ISBN == '0789466953','bookTitle'] = \"DK Readers: Creating the X-Men, How Comic Books Come to Life (Level 4: Proficient Readers)\""
   ]
  },
  {
   "cell_type": "markdown",
   "id": "c84b07a2",
   "metadata": {},
   "source": [
    "- Now data with 'Gallimard'"
   ]
  },
  {
   "cell_type": "code",
   "execution_count": 17,
   "id": "01a5f84e",
   "metadata": {
    "ExecuteTime": {
     "end_time": "2023-06-07T05:28:15.105970Z",
     "start_time": "2023-06-07T05:28:15.060966Z"
    }
   },
   "outputs": [
    {
     "data": {
      "text/html": [
       "<div>\n",
       "<style scoped>\n",
       "    .dataframe tbody tr th:only-of-type {\n",
       "        vertical-align: middle;\n",
       "    }\n",
       "\n",
       "    .dataframe tbody tr th {\n",
       "        vertical-align: top;\n",
       "    }\n",
       "\n",
       "    .dataframe thead th {\n",
       "        text-align: right;\n",
       "    }\n",
       "</style>\n",
       "<table border=\"1\" class=\"dataframe\">\n",
       "  <thead>\n",
       "    <tr style=\"text-align: right;\">\n",
       "      <th></th>\n",
       "      <th>ISBN</th>\n",
       "      <th>bookTitle</th>\n",
       "      <th>bookAuthor</th>\n",
       "      <th>yearOfPublication</th>\n",
       "      <th>publisher</th>\n",
       "      <th>imageUrlS</th>\n",
       "      <th>imageUrlM</th>\n",
       "      <th>imageUrlL</th>\n",
       "    </tr>\n",
       "  </thead>\n",
       "  <tbody>\n",
       "    <tr>\n",
       "      <th>220731</th>\n",
       "      <td>2070426769</td>\n",
       "      <td>Peuple du ciel, suivi de 'Les Bergers\\\";Jean-M...</td>\n",
       "      <td>2003</td>\n",
       "      <td>Gallimard</td>\n",
       "      <td>http://images.amazon.com/images/P/2070426769.0...</td>\n",
       "      <td>http://images.amazon.com/images/P/2070426769.0...</td>\n",
       "      <td>http://images.amazon.com/images/P/2070426769.0...</td>\n",
       "      <td>NaN</td>\n",
       "    </tr>\n",
       "  </tbody>\n",
       "</table>\n",
       "</div>"
      ],
      "text/plain": [
       "              ISBN                                          bookTitle  \\\n",
       "220731  2070426769  Peuple du ciel, suivi de 'Les Bergers\\\";Jean-M...   \n",
       "\n",
       "       bookAuthor yearOfPublication  \\\n",
       "220731       2003         Gallimard   \n",
       "\n",
       "                                                publisher  \\\n",
       "220731  http://images.amazon.com/images/P/2070426769.0...   \n",
       "\n",
       "                                                imageUrlS  \\\n",
       "220731  http://images.amazon.com/images/P/2070426769.0...   \n",
       "\n",
       "                                                imageUrlM imageUrlL  \n",
       "220731  http://images.amazon.com/images/P/2070426769.0...       NaN  "
      ]
     },
     "execution_count": 17,
     "metadata": {},
     "output_type": "execute_result"
    }
   ],
   "source": [
    "books.loc[books.yearOfPublication == 'Gallimard',:]"
   ]
  },
  {
   "cell_type": "code",
   "execution_count": 18,
   "id": "b62526e0",
   "metadata": {
    "ExecuteTime": {
     "end_time": "2023-06-07T05:28:15.279306Z",
     "start_time": "2023-06-07T05:28:15.106998Z"
    }
   },
   "outputs": [],
   "source": [
    "books.loc[books.ISBN == '2070426769','imageUrlL'] = 'http://images.amazon.com/images/P/2070426769.01.LZZZZZZZ.jpg'\n",
    "books.loc[books.ISBN == '2070426769','imageUrlM'] = 'http://images.amazon.com/images/P/2070426769.01.MZZZZZZZ.jpg'\n",
    "books.loc[books.ISBN == '2070426769','imageUrlS'] = 'http://images.amazon.com/images/P/2070426769.01.THUMBZZZ.jpg'\n",
    "books.loc[books.ISBN == '2070426769','publisher'] = 'Gallimard'\n",
    "books.loc[books.ISBN == '2070426769','yearOfPublication'] = '2003'\n",
    "books.loc[books.ISBN == '2070426769','bookAuthor'] = 'Jean-Marie Gustave Le ClÃ?Â©zio'\n",
    "books.loc[books.ISBN == '2070426769','bookTitle'] = \"Peuple du ciel, suivi de 'Les Bergers\""
   ]
  },
  {
   "cell_type": "code",
   "execution_count": 19,
   "id": "4c4f464a",
   "metadata": {
    "ExecuteTime": {
     "end_time": "2023-06-07T05:28:15.374764Z",
     "start_time": "2023-06-07T05:28:15.279306Z"
    }
   },
   "outputs": [
    {
     "data": {
      "text/html": [
       "<div>\n",
       "<style scoped>\n",
       "    .dataframe tbody tr th:only-of-type {\n",
       "        vertical-align: middle;\n",
       "    }\n",
       "\n",
       "    .dataframe tbody tr th {\n",
       "        vertical-align: top;\n",
       "    }\n",
       "\n",
       "    .dataframe thead th {\n",
       "        text-align: right;\n",
       "    }\n",
       "</style>\n",
       "<table border=\"1\" class=\"dataframe\">\n",
       "  <thead>\n",
       "    <tr style=\"text-align: right;\">\n",
       "      <th></th>\n",
       "      <th>ISBN</th>\n",
       "      <th>bookTitle</th>\n",
       "      <th>bookAuthor</th>\n",
       "      <th>yearOfPublication</th>\n",
       "      <th>publisher</th>\n",
       "      <th>imageUrlS</th>\n",
       "      <th>imageUrlM</th>\n",
       "      <th>imageUrlL</th>\n",
       "    </tr>\n",
       "  </thead>\n",
       "  <tbody>\n",
       "    <tr>\n",
       "      <th>209538</th>\n",
       "      <td>078946697X</td>\n",
       "      <td>DK Readers: Creating the X-Men, How It All Beg...</td>\n",
       "      <td>Michael Teitelbaum</td>\n",
       "      <td>2000</td>\n",
       "      <td>DK Publishing Inc</td>\n",
       "      <td>http://images.amazon.com/images/P/078946697X.0...</td>\n",
       "      <td>http://images.amazon.com/images/P/078946697X.0...</td>\n",
       "      <td>http://images.amazon.com/images/P/078946697X.0...</td>\n",
       "    </tr>\n",
       "    <tr>\n",
       "      <th>220731</th>\n",
       "      <td>2070426769</td>\n",
       "      <td>Peuple du ciel, suivi de 'Les Bergers</td>\n",
       "      <td>Jean-Marie Gustave Le ClÃ?Â©zio</td>\n",
       "      <td>2003</td>\n",
       "      <td>Gallimard</td>\n",
       "      <td>http://images.amazon.com/images/P/2070426769.0...</td>\n",
       "      <td>http://images.amazon.com/images/P/2070426769.0...</td>\n",
       "      <td>http://images.amazon.com/images/P/2070426769.0...</td>\n",
       "    </tr>\n",
       "    <tr>\n",
       "      <th>221678</th>\n",
       "      <td>0789466953</td>\n",
       "      <td>DK Readers: Creating the X-Men, How Comic Book...</td>\n",
       "      <td>James Buckley</td>\n",
       "      <td>2000</td>\n",
       "      <td>DK Publishing Inc</td>\n",
       "      <td>http://images.amazon.com/images/P/0789466953.0...</td>\n",
       "      <td>http://images.amazon.com/images/P/0789466953.0...</td>\n",
       "      <td>http://images.amazon.com/images/P/0789466953.0...</td>\n",
       "    </tr>\n",
       "  </tbody>\n",
       "</table>\n",
       "</div>"
      ],
      "text/plain": [
       "              ISBN                                          bookTitle  \\\n",
       "209538  078946697X  DK Readers: Creating the X-Men, How It All Beg...   \n",
       "220731  2070426769              Peuple du ciel, suivi de 'Les Bergers   \n",
       "221678  0789466953  DK Readers: Creating the X-Men, How Comic Book...   \n",
       "\n",
       "                             bookAuthor yearOfPublication          publisher  \\\n",
       "209538               Michael Teitelbaum              2000  DK Publishing Inc   \n",
       "220731  Jean-Marie Gustave Le ClÃ?Â©zio              2003          Gallimard   \n",
       "221678                    James Buckley              2000  DK Publishing Inc   \n",
       "\n",
       "                                                imageUrlS  \\\n",
       "209538  http://images.amazon.com/images/P/078946697X.0...   \n",
       "220731  http://images.amazon.com/images/P/2070426769.0...   \n",
       "221678  http://images.amazon.com/images/P/0789466953.0...   \n",
       "\n",
       "                                                imageUrlM  \\\n",
       "209538  http://images.amazon.com/images/P/078946697X.0...   \n",
       "220731  http://images.amazon.com/images/P/2070426769.0...   \n",
       "221678  http://images.amazon.com/images/P/0789466953.0...   \n",
       "\n",
       "                                                imageUrlL  \n",
       "209538  http://images.amazon.com/images/P/078946697X.0...  \n",
       "220731  http://images.amazon.com/images/P/2070426769.0...  \n",
       "221678  http://images.amazon.com/images/P/0789466953.0...  "
      ]
     },
     "execution_count": 19,
     "metadata": {},
     "output_type": "execute_result"
    }
   ],
   "source": [
    "## Verifying the change in YearOfPublication\n",
    "books.loc[(books.ISBN == '2070426769') | (books.ISBN == '078946697X') | (books.ISBN == '0789466953'),: ]"
   ]
  },
  {
   "cell_type": "markdown",
   "id": "c95e2425",
   "metadata": {},
   "source": [
    "- As we have seen that dtype of YearOfPublication is object so we will convert it into numeric dtype"
   ]
  },
  {
   "cell_type": "code",
   "execution_count": 20,
   "id": "b51f7488",
   "metadata": {
    "ExecuteTime": {
     "end_time": "2023-06-07T05:28:15.580177Z",
     "start_time": "2023-06-07T05:28:15.377808Z"
    }
   },
   "outputs": [],
   "source": [
    "books.yearOfPublication = pd.to_numeric(books.yearOfPublication, errors='coerce')"
   ]
  },
  {
   "cell_type": "code",
   "execution_count": 21,
   "id": "f2af04e1",
   "metadata": {
    "ExecuteTime": {
     "end_time": "2023-06-07T05:28:15.896602Z",
     "start_time": "2023-06-07T05:28:15.583314Z"
    }
   },
   "outputs": [
    {
     "name": "stdout",
     "output_type": "stream",
     "text": [
      "<class 'pandas.core.frame.DataFrame'>\n",
      "RangeIndex: 271360 entries, 0 to 271359\n",
      "Data columns (total 8 columns):\n",
      " #   Column             Non-Null Count   Dtype \n",
      "---  ------             --------------   ----- \n",
      " 0   ISBN               271360 non-null  object\n",
      " 1   bookTitle          271360 non-null  object\n",
      " 2   bookAuthor         271359 non-null  object\n",
      " 3   yearOfPublication  271360 non-null  int64 \n",
      " 4   publisher          271358 non-null  object\n",
      " 5   imageUrlS          271360 non-null  object\n",
      " 6   imageUrlM          271360 non-null  object\n",
      " 7   imageUrlL          271360 non-null  object\n",
      "dtypes: int64(1), object(7)\n",
      "memory usage: 16.6+ MB\n"
     ]
    }
   ],
   "source": [
    "books.info()"
   ]
  },
  {
   "cell_type": "code",
   "execution_count": 22,
   "id": "f3dbe507",
   "metadata": {
    "ExecuteTime": {
     "end_time": "2023-06-07T05:28:15.912285Z",
     "start_time": "2023-06-07T05:28:15.899658Z"
    }
   },
   "outputs": [
    {
     "data": {
      "text/plain": [
       "array([2002, 2001, 1991, 1999, 2000, 1993, 1996, 1988, 2004, 1998, 1994,\n",
       "       2003, 1997, 1983, 1979, 1995, 1982, 1985, 1992, 1986, 1978, 1980,\n",
       "       1952, 1987, 1990, 1981, 1989, 1984,    0, 1968, 1961, 1958, 1974,\n",
       "       1976, 1971, 1977, 1975, 1965, 1941, 1970, 1962, 1973, 1972, 1960,\n",
       "       1966, 1920, 1956, 1959, 1953, 1951, 1942, 1963, 1964, 1969, 1954,\n",
       "       1950, 1967, 2005, 1957, 1940, 1937, 1955, 1946, 1936, 1930, 2011,\n",
       "       1925, 1948, 1943, 1947, 1945, 1923, 2020, 1939, 1926, 1938, 2030,\n",
       "       1911, 1904, 1949, 1932, 1928, 1929, 1927, 1931, 1914, 2050, 1934,\n",
       "       1910, 1933, 1902, 1924, 1921, 1900, 2038, 2026, 1944, 1917, 1901,\n",
       "       2010, 1908, 1906, 1935, 1806, 2021, 2012, 2006, 1909, 2008, 1378,\n",
       "       1919, 1922, 1897, 2024, 1376, 2037], dtype=int64)"
      ]
     },
     "execution_count": 22,
     "metadata": {},
     "output_type": "execute_result"
    }
   ],
   "source": [
    "books.yearOfPublication.unique()"
   ]
  },
  {
   "cell_type": "code",
   "execution_count": 23,
   "id": "1bcea1e7",
   "metadata": {
    "ExecuteTime": {
     "end_time": "2023-06-07T05:28:15.944286Z",
     "start_time": "2023-06-07T05:28:15.912285Z"
    }
   },
   "outputs": [
    {
     "data": {
      "text/html": [
       "<div>\n",
       "<style scoped>\n",
       "    .dataframe tbody tr th:only-of-type {\n",
       "        vertical-align: middle;\n",
       "    }\n",
       "\n",
       "    .dataframe tbody tr th {\n",
       "        vertical-align: top;\n",
       "    }\n",
       "\n",
       "    .dataframe thead th {\n",
       "        text-align: right;\n",
       "    }\n",
       "</style>\n",
       "<table border=\"1\" class=\"dataframe\">\n",
       "  <thead>\n",
       "    <tr style=\"text-align: right;\">\n",
       "      <th></th>\n",
       "      <th>ISBN</th>\n",
       "      <th>bookTitle</th>\n",
       "      <th>bookAuthor</th>\n",
       "      <th>yearOfPublication</th>\n",
       "      <th>publisher</th>\n",
       "      <th>imageUrlS</th>\n",
       "      <th>imageUrlM</th>\n",
       "      <th>imageUrlL</th>\n",
       "    </tr>\n",
       "  </thead>\n",
       "  <tbody>\n",
       "    <tr>\n",
       "      <th>176</th>\n",
       "      <td>3150000335</td>\n",
       "      <td>Kabale Und Liebe</td>\n",
       "      <td>Schiller</td>\n",
       "      <td>0</td>\n",
       "      <td>Philipp Reclam, Jun Verlag GmbH</td>\n",
       "      <td>http://images.amazon.com/images/P/3150000335.0...</td>\n",
       "      <td>http://images.amazon.com/images/P/3150000335.0...</td>\n",
       "      <td>http://images.amazon.com/images/P/3150000335.0...</td>\n",
       "    </tr>\n",
       "    <tr>\n",
       "      <th>188</th>\n",
       "      <td>342311360X</td>\n",
       "      <td>Die Liebe in Den Zelten</td>\n",
       "      <td>Gabriel Garcia Marquez</td>\n",
       "      <td>0</td>\n",
       "      <td>Deutscher Taschenbuch Verlag (DTV)</td>\n",
       "      <td>http://images.amazon.com/images/P/342311360X.0...</td>\n",
       "      <td>http://images.amazon.com/images/P/342311360X.0...</td>\n",
       "      <td>http://images.amazon.com/images/P/342311360X.0...</td>\n",
       "    </tr>\n",
       "    <tr>\n",
       "      <th>288</th>\n",
       "      <td>0571197639</td>\n",
       "      <td>Poisonwood Bible Edition Uk</td>\n",
       "      <td>Barbara Kingsolver</td>\n",
       "      <td>0</td>\n",
       "      <td>Faber Faber Inc</td>\n",
       "      <td>http://images.amazon.com/images/P/0571197639.0...</td>\n",
       "      <td>http://images.amazon.com/images/P/0571197639.0...</td>\n",
       "      <td>http://images.amazon.com/images/P/0571197639.0...</td>\n",
       "    </tr>\n",
       "    <tr>\n",
       "      <th>351</th>\n",
       "      <td>3596214629</td>\n",
       "      <td>Herr Der Fliegen (Fiction, Poetry and Drama)</td>\n",
       "      <td>Golding</td>\n",
       "      <td>0</td>\n",
       "      <td>Fischer Taschenbuch Verlag GmbH</td>\n",
       "      <td>http://images.amazon.com/images/P/3596214629.0...</td>\n",
       "      <td>http://images.amazon.com/images/P/3596214629.0...</td>\n",
       "      <td>http://images.amazon.com/images/P/3596214629.0...</td>\n",
       "    </tr>\n",
       "    <tr>\n",
       "      <th>542</th>\n",
       "      <td>8845229041</td>\n",
       "      <td>Biblioteca Universale Rizzoli: Sulla Sponda De...</td>\n",
       "      <td>P Coelho</td>\n",
       "      <td>0</td>\n",
       "      <td>Fabbri - RCS Libri</td>\n",
       "      <td>http://images.amazon.com/images/P/8845229041.0...</td>\n",
       "      <td>http://images.amazon.com/images/P/8845229041.0...</td>\n",
       "      <td>http://images.amazon.com/images/P/8845229041.0...</td>\n",
       "    </tr>\n",
       "    <tr>\n",
       "      <th>...</th>\n",
       "      <td>...</td>\n",
       "      <td>...</td>\n",
       "      <td>...</td>\n",
       "      <td>...</td>\n",
       "      <td>...</td>\n",
       "      <td>...</td>\n",
       "      <td>...</td>\n",
       "      <td>...</td>\n",
       "    </tr>\n",
       "    <tr>\n",
       "      <th>270794</th>\n",
       "      <td>014029953X</td>\n",
       "      <td>Foe (Essential.penguin S.)</td>\n",
       "      <td>J.M. Coetzee</td>\n",
       "      <td>0</td>\n",
       "      <td>Penguin Books Ltd</td>\n",
       "      <td>http://images.amazon.com/images/P/014029953X.0...</td>\n",
       "      <td>http://images.amazon.com/images/P/014029953X.0...</td>\n",
       "      <td>http://images.amazon.com/images/P/014029953X.0...</td>\n",
       "    </tr>\n",
       "    <tr>\n",
       "      <th>270913</th>\n",
       "      <td>0340571187</td>\n",
       "      <td>Postmens House</td>\n",
       "      <td>Maggie Hemingway</td>\n",
       "      <td>0</td>\n",
       "      <td>Trafalgar Square</td>\n",
       "      <td>http://images.amazon.com/images/P/0340571187.0...</td>\n",
       "      <td>http://images.amazon.com/images/P/0340571187.0...</td>\n",
       "      <td>http://images.amazon.com/images/P/0340571187.0...</td>\n",
       "    </tr>\n",
       "    <tr>\n",
       "      <th>271094</th>\n",
       "      <td>8427201079</td>\n",
       "      <td>El Misterio De Sittaford</td>\n",
       "      <td>Agatha Christie</td>\n",
       "      <td>0</td>\n",
       "      <td>Editorial Molino</td>\n",
       "      <td>http://images.amazon.com/images/P/8427201079.0...</td>\n",
       "      <td>http://images.amazon.com/images/P/8427201079.0...</td>\n",
       "      <td>http://images.amazon.com/images/P/8427201079.0...</td>\n",
       "    </tr>\n",
       "    <tr>\n",
       "      <th>271182</th>\n",
       "      <td>0887781721</td>\n",
       "      <td>Tom Penny</td>\n",
       "      <td>Tony German</td>\n",
       "      <td>0</td>\n",
       "      <td>P. Martin Associates</td>\n",
       "      <td>http://images.amazon.com/images/P/0887781721.0...</td>\n",
       "      <td>http://images.amazon.com/images/P/0887781721.0...</td>\n",
       "      <td>http://images.amazon.com/images/P/0887781721.0...</td>\n",
       "    </tr>\n",
       "    <tr>\n",
       "      <th>271196</th>\n",
       "      <td>3150013763</td>\n",
       "      <td>Der Hofmeister</td>\n",
       "      <td>Jakob Lenz</td>\n",
       "      <td>0</td>\n",
       "      <td>Philipp Reclam, Jun Verlag GmbH</td>\n",
       "      <td>http://images.amazon.com/images/P/3150013763.0...</td>\n",
       "      <td>http://images.amazon.com/images/P/3150013763.0...</td>\n",
       "      <td>http://images.amazon.com/images/P/3150013763.0...</td>\n",
       "    </tr>\n",
       "  </tbody>\n",
       "</table>\n",
       "<p>4618 rows × 8 columns</p>\n",
       "</div>"
      ],
      "text/plain": [
       "              ISBN                                          bookTitle  \\\n",
       "176     3150000335                                   Kabale Und Liebe   \n",
       "188     342311360X                            Die Liebe in Den Zelten   \n",
       "288     0571197639                        Poisonwood Bible Edition Uk   \n",
       "351     3596214629       Herr Der Fliegen (Fiction, Poetry and Drama)   \n",
       "542     8845229041  Biblioteca Universale Rizzoli: Sulla Sponda De...   \n",
       "...            ...                                                ...   \n",
       "270794  014029953X                         Foe (Essential.penguin S.)   \n",
       "270913  0340571187                                     Postmens House   \n",
       "271094  8427201079                           El Misterio De Sittaford   \n",
       "271182  0887781721                                          Tom Penny   \n",
       "271196  3150013763                                     Der Hofmeister   \n",
       "\n",
       "                    bookAuthor  yearOfPublication  \\\n",
       "176                   Schiller                  0   \n",
       "188     Gabriel Garcia Marquez                  0   \n",
       "288         Barbara Kingsolver                  0   \n",
       "351                    Golding                  0   \n",
       "542                   P Coelho                  0   \n",
       "...                        ...                ...   \n",
       "270794            J.M. Coetzee                  0   \n",
       "270913        Maggie Hemingway                  0   \n",
       "271094         Agatha Christie                  0   \n",
       "271182             Tony German                  0   \n",
       "271196              Jakob Lenz                  0   \n",
       "\n",
       "                                 publisher  \\\n",
       "176        Philipp Reclam, Jun Verlag GmbH   \n",
       "188     Deutscher Taschenbuch Verlag (DTV)   \n",
       "288                        Faber Faber Inc   \n",
       "351        Fischer Taschenbuch Verlag GmbH   \n",
       "542                     Fabbri - RCS Libri   \n",
       "...                                    ...   \n",
       "270794                   Penguin Books Ltd   \n",
       "270913                    Trafalgar Square   \n",
       "271094                    Editorial Molino   \n",
       "271182                P. Martin Associates   \n",
       "271196     Philipp Reclam, Jun Verlag GmbH   \n",
       "\n",
       "                                                imageUrlS  \\\n",
       "176     http://images.amazon.com/images/P/3150000335.0...   \n",
       "188     http://images.amazon.com/images/P/342311360X.0...   \n",
       "288     http://images.amazon.com/images/P/0571197639.0...   \n",
       "351     http://images.amazon.com/images/P/3596214629.0...   \n",
       "542     http://images.amazon.com/images/P/8845229041.0...   \n",
       "...                                                   ...   \n",
       "270794  http://images.amazon.com/images/P/014029953X.0...   \n",
       "270913  http://images.amazon.com/images/P/0340571187.0...   \n",
       "271094  http://images.amazon.com/images/P/8427201079.0...   \n",
       "271182  http://images.amazon.com/images/P/0887781721.0...   \n",
       "271196  http://images.amazon.com/images/P/3150013763.0...   \n",
       "\n",
       "                                                imageUrlM  \\\n",
       "176     http://images.amazon.com/images/P/3150000335.0...   \n",
       "188     http://images.amazon.com/images/P/342311360X.0...   \n",
       "288     http://images.amazon.com/images/P/0571197639.0...   \n",
       "351     http://images.amazon.com/images/P/3596214629.0...   \n",
       "542     http://images.amazon.com/images/P/8845229041.0...   \n",
       "...                                                   ...   \n",
       "270794  http://images.amazon.com/images/P/014029953X.0...   \n",
       "270913  http://images.amazon.com/images/P/0340571187.0...   \n",
       "271094  http://images.amazon.com/images/P/8427201079.0...   \n",
       "271182  http://images.amazon.com/images/P/0887781721.0...   \n",
       "271196  http://images.amazon.com/images/P/3150013763.0...   \n",
       "\n",
       "                                                imageUrlL  \n",
       "176     http://images.amazon.com/images/P/3150000335.0...  \n",
       "188     http://images.amazon.com/images/P/342311360X.0...  \n",
       "288     http://images.amazon.com/images/P/0571197639.0...  \n",
       "351     http://images.amazon.com/images/P/3596214629.0...  \n",
       "542     http://images.amazon.com/images/P/8845229041.0...  \n",
       "...                                                   ...  \n",
       "270794  http://images.amazon.com/images/P/014029953X.0...  \n",
       "270913  http://images.amazon.com/images/P/0340571187.0...  \n",
       "271094  http://images.amazon.com/images/P/8427201079.0...  \n",
       "271182  http://images.amazon.com/images/P/0887781721.0...  \n",
       "271196  http://images.amazon.com/images/P/3150013763.0...  \n",
       "\n",
       "[4618 rows x 8 columns]"
      ]
     },
     "execution_count": 23,
     "metadata": {},
     "output_type": "execute_result"
    }
   ],
   "source": [
    "## Checking if any year has 0 value\n",
    "books.loc[(books.yearOfPublication ==0), : ]"
   ]
  },
  {
   "cell_type": "markdown",
   "id": "bfc61a90",
   "metadata": {},
   "source": [
    "- The value 0 for year is invalid, so setting invalid year as NaN"
   ]
  },
  {
   "cell_type": "code",
   "execution_count": 24,
   "id": "ee7e5805",
   "metadata": {
    "ExecuteTime": {
     "end_time": "2023-06-07T05:28:15.960071Z",
     "start_time": "2023-06-07T05:28:15.947197Z"
    }
   },
   "outputs": [],
   "source": [
    "books.loc[(books.yearOfPublication == 0),'yearOfPublication'] = np.NAN"
   ]
  },
  {
   "cell_type": "markdown",
   "id": "e2eea0d8",
   "metadata": {},
   "source": [
    "- There are some values in Year column which is greater than Year 2023 which is invalid, so setting invalid year as NaN"
   ]
  },
  {
   "cell_type": "code",
   "execution_count": 25,
   "id": "366bdd5a",
   "metadata": {
    "ExecuteTime": {
     "end_time": "2023-06-07T05:28:15.991694Z",
     "start_time": "2023-06-07T05:28:15.960071Z"
    }
   },
   "outputs": [
    {
     "data": {
      "text/html": [
       "<div>\n",
       "<style scoped>\n",
       "    .dataframe tbody tr th:only-of-type {\n",
       "        vertical-align: middle;\n",
       "    }\n",
       "\n",
       "    .dataframe tbody tr th {\n",
       "        vertical-align: top;\n",
       "    }\n",
       "\n",
       "    .dataframe thead th {\n",
       "        text-align: right;\n",
       "    }\n",
       "</style>\n",
       "<table border=\"1\" class=\"dataframe\">\n",
       "  <thead>\n",
       "    <tr style=\"text-align: right;\">\n",
       "      <th></th>\n",
       "      <th>ISBN</th>\n",
       "      <th>bookTitle</th>\n",
       "      <th>bookAuthor</th>\n",
       "      <th>yearOfPublication</th>\n",
       "      <th>publisher</th>\n",
       "      <th>imageUrlS</th>\n",
       "      <th>imageUrlM</th>\n",
       "      <th>imageUrlL</th>\n",
       "    </tr>\n",
       "  </thead>\n",
       "  <tbody>\n",
       "    <tr>\n",
       "      <th>37487</th>\n",
       "      <td>0671746103</td>\n",
       "      <td>MY TEACHER FRIED MY BRAINS (RACK SIZE) (MY TEA...</td>\n",
       "      <td>Coville</td>\n",
       "      <td>2030.0</td>\n",
       "      <td>Aladdin</td>\n",
       "      <td>http://images.amazon.com/images/P/0671746103.0...</td>\n",
       "      <td>http://images.amazon.com/images/P/0671746103.0...</td>\n",
       "      <td>http://images.amazon.com/images/P/0671746103.0...</td>\n",
       "    </tr>\n",
       "    <tr>\n",
       "      <th>55676</th>\n",
       "      <td>0671791990</td>\n",
       "      <td>MY TEACHER FLUNKED THE PLANET (RACK SIZE) (MY ...</td>\n",
       "      <td>Bruce Coville</td>\n",
       "      <td>2030.0</td>\n",
       "      <td>Aladdin</td>\n",
       "      <td>http://images.amazon.com/images/P/0671791990.0...</td>\n",
       "      <td>http://images.amazon.com/images/P/0671791990.0...</td>\n",
       "      <td>http://images.amazon.com/images/P/0671791990.0...</td>\n",
       "    </tr>\n",
       "    <tr>\n",
       "      <th>78168</th>\n",
       "      <td>0870449842</td>\n",
       "      <td>Crossing America</td>\n",
       "      <td>National Geographic Society</td>\n",
       "      <td>2030.0</td>\n",
       "      <td>National Geographic</td>\n",
       "      <td>http://images.amazon.com/images/P/0870449842.0...</td>\n",
       "      <td>http://images.amazon.com/images/P/0870449842.0...</td>\n",
       "      <td>http://images.amazon.com/images/P/0870449842.0...</td>\n",
       "    </tr>\n",
       "    <tr>\n",
       "      <th>80264</th>\n",
       "      <td>0140301690</td>\n",
       "      <td>Alice's Adventures in Wonderland and Through t...</td>\n",
       "      <td>Lewis Carroll</td>\n",
       "      <td>2050.0</td>\n",
       "      <td>Puffin Books</td>\n",
       "      <td>http://images.amazon.com/images/P/0140301690.0...</td>\n",
       "      <td>http://images.amazon.com/images/P/0140301690.0...</td>\n",
       "      <td>http://images.amazon.com/images/P/0140301690.0...</td>\n",
       "    </tr>\n",
       "    <tr>\n",
       "      <th>97826</th>\n",
       "      <td>0140201092</td>\n",
       "      <td>Outline of European Architecture (Pelican S.)</td>\n",
       "      <td>Nikolaus Pevsner</td>\n",
       "      <td>2050.0</td>\n",
       "      <td>Penguin USA</td>\n",
       "      <td>http://images.amazon.com/images/P/0140201092.0...</td>\n",
       "      <td>http://images.amazon.com/images/P/0140201092.0...</td>\n",
       "      <td>http://images.amazon.com/images/P/0140201092.0...</td>\n",
       "    </tr>\n",
       "    <tr>\n",
       "      <th>116053</th>\n",
       "      <td>0394701658</td>\n",
       "      <td>Three Plays of Eugene Oneill</td>\n",
       "      <td>Eugene O'Neill</td>\n",
       "      <td>2038.0</td>\n",
       "      <td>Vintage Books USA</td>\n",
       "      <td>http://images.amazon.com/images/P/0394701658.0...</td>\n",
       "      <td>http://images.amazon.com/images/P/0394701658.0...</td>\n",
       "      <td>http://images.amazon.com/images/P/0394701658.0...</td>\n",
       "    </tr>\n",
       "    <tr>\n",
       "      <th>118294</th>\n",
       "      <td>3442436893</td>\n",
       "      <td>Das groÃ?Â?e BÃ?Â¶se- MÃ?Â¤dchen- Lesebuch.</td>\n",
       "      <td>Kathy Lette</td>\n",
       "      <td>2026.0</td>\n",
       "      <td>Goldmann</td>\n",
       "      <td>http://images.amazon.com/images/P/3442436893.0...</td>\n",
       "      <td>http://images.amazon.com/images/P/3442436893.0...</td>\n",
       "      <td>http://images.amazon.com/images/P/3442436893.0...</td>\n",
       "    </tr>\n",
       "    <tr>\n",
       "      <th>192993</th>\n",
       "      <td>0870446924</td>\n",
       "      <td>Field Guide to the Birds of North America, 3rd...</td>\n",
       "      <td>National Geographic Society</td>\n",
       "      <td>2030.0</td>\n",
       "      <td>National Geographic</td>\n",
       "      <td>http://images.amazon.com/images/P/0870446924.0...</td>\n",
       "      <td>http://images.amazon.com/images/P/0870446924.0...</td>\n",
       "      <td>http://images.amazon.com/images/P/0870446924.0...</td>\n",
       "    </tr>\n",
       "    <tr>\n",
       "      <th>228173</th>\n",
       "      <td>0671266500</td>\n",
       "      <td>FOREST PEOPLE (Touchstone Books (Hardcover))</td>\n",
       "      <td>Colin M. Turnbull</td>\n",
       "      <td>2030.0</td>\n",
       "      <td>Simon &amp;amp; Schuster</td>\n",
       "      <td>http://images.amazon.com/images/P/0671266500.0...</td>\n",
       "      <td>http://images.amazon.com/images/P/0671266500.0...</td>\n",
       "      <td>http://images.amazon.com/images/P/0671266500.0...</td>\n",
       "    </tr>\n",
       "    <tr>\n",
       "      <th>240169</th>\n",
       "      <td>0684718022</td>\n",
       "      <td>In Our Time: Stories (Scribner Classic)</td>\n",
       "      <td>Ernest Hemingway</td>\n",
       "      <td>2030.0</td>\n",
       "      <td>Collier Books</td>\n",
       "      <td>http://images.amazon.com/images/P/0684718022.0...</td>\n",
       "      <td>http://images.amazon.com/images/P/0684718022.0...</td>\n",
       "      <td>http://images.amazon.com/images/P/0684718022.0...</td>\n",
       "    </tr>\n",
       "    <tr>\n",
       "      <th>246842</th>\n",
       "      <td>0380000059</td>\n",
       "      <td>CLOUT</td>\n",
       "      <td>D. GIBBONS</td>\n",
       "      <td>2024.0</td>\n",
       "      <td>Avon</td>\n",
       "      <td>http://images.amazon.com/images/P/0380000059.0...</td>\n",
       "      <td>http://images.amazon.com/images/P/0380000059.0...</td>\n",
       "      <td>http://images.amazon.com/images/P/0380000059.0...</td>\n",
       "    </tr>\n",
       "    <tr>\n",
       "      <th>255409</th>\n",
       "      <td>068471809X</td>\n",
       "      <td>To Have and Have Not</td>\n",
       "      <td>Ernest Hemingway</td>\n",
       "      <td>2037.0</td>\n",
       "      <td>Simon &amp;amp; Schuster</td>\n",
       "      <td>http://images.amazon.com/images/P/068471809X.0...</td>\n",
       "      <td>http://images.amazon.com/images/P/068471809X.0...</td>\n",
       "      <td>http://images.amazon.com/images/P/068471809X.0...</td>\n",
       "    </tr>\n",
       "    <tr>\n",
       "      <th>260974</th>\n",
       "      <td>0671740989</td>\n",
       "      <td>FOOTBALL SUPER TEAMS : FOOTBALL SUPER TEAMS</td>\n",
       "      <td>Bill Gutman</td>\n",
       "      <td>2030.0</td>\n",
       "      <td>Simon &amp;amp; Schuster Children's Publishing</td>\n",
       "      <td>http://images.amazon.com/images/P/0671740989.0...</td>\n",
       "      <td>http://images.amazon.com/images/P/0671740989.0...</td>\n",
       "      <td>http://images.amazon.com/images/P/0671740989.0...</td>\n",
       "    </tr>\n",
       "  </tbody>\n",
       "</table>\n",
       "</div>"
      ],
      "text/plain": [
       "              ISBN                                          bookTitle  \\\n",
       "37487   0671746103  MY TEACHER FRIED MY BRAINS (RACK SIZE) (MY TEA...   \n",
       "55676   0671791990  MY TEACHER FLUNKED THE PLANET (RACK SIZE) (MY ...   \n",
       "78168   0870449842                                   Crossing America   \n",
       "80264   0140301690  Alice's Adventures in Wonderland and Through t...   \n",
       "97826   0140201092      Outline of European Architecture (Pelican S.)   \n",
       "116053  0394701658                       Three Plays of Eugene Oneill   \n",
       "118294  3442436893        Das groÃ?Â?e BÃ?Â¶se- MÃ?Â¤dchen- Lesebuch.   \n",
       "192993  0870446924  Field Guide to the Birds of North America, 3rd...   \n",
       "228173  0671266500       FOREST PEOPLE (Touchstone Books (Hardcover))   \n",
       "240169  0684718022            In Our Time: Stories (Scribner Classic)   \n",
       "246842  0380000059                                              CLOUT   \n",
       "255409  068471809X                               To Have and Have Not   \n",
       "260974  0671740989        FOOTBALL SUPER TEAMS : FOOTBALL SUPER TEAMS   \n",
       "\n",
       "                         bookAuthor  yearOfPublication  \\\n",
       "37487                       Coville             2030.0   \n",
       "55676                 Bruce Coville             2030.0   \n",
       "78168   National Geographic Society             2030.0   \n",
       "80264                 Lewis Carroll             2050.0   \n",
       "97826              Nikolaus Pevsner             2050.0   \n",
       "116053               Eugene O'Neill             2038.0   \n",
       "118294                  Kathy Lette             2026.0   \n",
       "192993  National Geographic Society             2030.0   \n",
       "228173            Colin M. Turnbull             2030.0   \n",
       "240169             Ernest Hemingway             2030.0   \n",
       "246842                   D. GIBBONS             2024.0   \n",
       "255409             Ernest Hemingway             2037.0   \n",
       "260974                  Bill Gutman             2030.0   \n",
       "\n",
       "                                         publisher  \\\n",
       "37487                                      Aladdin   \n",
       "55676                                      Aladdin   \n",
       "78168                          National Geographic   \n",
       "80264                                 Puffin Books   \n",
       "97826                                  Penguin USA   \n",
       "116053                           Vintage Books USA   \n",
       "118294                                    Goldmann   \n",
       "192993                         National Geographic   \n",
       "228173                        Simon &amp; Schuster   \n",
       "240169                               Collier Books   \n",
       "246842                                        Avon   \n",
       "255409                        Simon &amp; Schuster   \n",
       "260974  Simon &amp; Schuster Children's Publishing   \n",
       "\n",
       "                                                imageUrlS  \\\n",
       "37487   http://images.amazon.com/images/P/0671746103.0...   \n",
       "55676   http://images.amazon.com/images/P/0671791990.0...   \n",
       "78168   http://images.amazon.com/images/P/0870449842.0...   \n",
       "80264   http://images.amazon.com/images/P/0140301690.0...   \n",
       "97826   http://images.amazon.com/images/P/0140201092.0...   \n",
       "116053  http://images.amazon.com/images/P/0394701658.0...   \n",
       "118294  http://images.amazon.com/images/P/3442436893.0...   \n",
       "192993  http://images.amazon.com/images/P/0870446924.0...   \n",
       "228173  http://images.amazon.com/images/P/0671266500.0...   \n",
       "240169  http://images.amazon.com/images/P/0684718022.0...   \n",
       "246842  http://images.amazon.com/images/P/0380000059.0...   \n",
       "255409  http://images.amazon.com/images/P/068471809X.0...   \n",
       "260974  http://images.amazon.com/images/P/0671740989.0...   \n",
       "\n",
       "                                                imageUrlM  \\\n",
       "37487   http://images.amazon.com/images/P/0671746103.0...   \n",
       "55676   http://images.amazon.com/images/P/0671791990.0...   \n",
       "78168   http://images.amazon.com/images/P/0870449842.0...   \n",
       "80264   http://images.amazon.com/images/P/0140301690.0...   \n",
       "97826   http://images.amazon.com/images/P/0140201092.0...   \n",
       "116053  http://images.amazon.com/images/P/0394701658.0...   \n",
       "118294  http://images.amazon.com/images/P/3442436893.0...   \n",
       "192993  http://images.amazon.com/images/P/0870446924.0...   \n",
       "228173  http://images.amazon.com/images/P/0671266500.0...   \n",
       "240169  http://images.amazon.com/images/P/0684718022.0...   \n",
       "246842  http://images.amazon.com/images/P/0380000059.0...   \n",
       "255409  http://images.amazon.com/images/P/068471809X.0...   \n",
       "260974  http://images.amazon.com/images/P/0671740989.0...   \n",
       "\n",
       "                                                imageUrlL  \n",
       "37487   http://images.amazon.com/images/P/0671746103.0...  \n",
       "55676   http://images.amazon.com/images/P/0671791990.0...  \n",
       "78168   http://images.amazon.com/images/P/0870449842.0...  \n",
       "80264   http://images.amazon.com/images/P/0140301690.0...  \n",
       "97826   http://images.amazon.com/images/P/0140201092.0...  \n",
       "116053  http://images.amazon.com/images/P/0394701658.0...  \n",
       "118294  http://images.amazon.com/images/P/3442436893.0...  \n",
       "192993  http://images.amazon.com/images/P/0870446924.0...  \n",
       "228173  http://images.amazon.com/images/P/0671266500.0...  \n",
       "240169  http://images.amazon.com/images/P/0684718022.0...  \n",
       "246842  http://images.amazon.com/images/P/0380000059.0...  \n",
       "255409  http://images.amazon.com/images/P/068471809X.0...  \n",
       "260974  http://images.amazon.com/images/P/0671740989.0...  "
      ]
     },
     "execution_count": 25,
     "metadata": {},
     "output_type": "execute_result"
    }
   ],
   "source": [
    "books.loc[(books[\"yearOfPublication\"] >= 2023), : ]"
   ]
  },
  {
   "cell_type": "code",
   "execution_count": 26,
   "id": "762fdcc2",
   "metadata": {
    "ExecuteTime": {
     "end_time": "2023-06-07T05:28:16.007484Z",
     "start_time": "2023-06-07T05:28:15.991694Z"
    }
   },
   "outputs": [],
   "source": [
    "books.loc[(books.yearOfPublication >= 2023),'yearOfPublication'] = np.NAN"
   ]
  },
  {
   "cell_type": "code",
   "execution_count": 27,
   "id": "22b94c5d",
   "metadata": {
    "ExecuteTime": {
     "end_time": "2023-06-07T05:28:16.086927Z",
     "start_time": "2023-06-07T05:28:16.009452Z"
    }
   },
   "outputs": [],
   "source": [
    "books.yearOfPublication.fillna(round(books.yearOfPublication.mean()),inplace=True)\n",
    "convert_dict = {'yearOfPublication': np.int64,}\n",
    "books = books.astype(convert_dict)"
   ]
  },
  {
   "cell_type": "markdown",
   "id": "b2b9f590",
   "metadata": {},
   "source": [
    "- Here using .fillna(), we fill the NAN values with mean value of the year and convert the dtype to int"
   ]
  },
  {
   "cell_type": "code",
   "execution_count": 28,
   "id": "e4c5c3f4",
   "metadata": {
    "ExecuteTime": {
     "end_time": "2023-06-07T05:28:16.307663Z",
     "start_time": "2023-06-07T05:28:16.090666Z"
    }
   },
   "outputs": [],
   "source": [
    "books_data = books[['ISBN', 'bookTitle','imageUrlS', 'imageUrlL']]\n",
    "books = books[['ISBN', 'bookTitle', 'bookAuthor', 'yearOfPublication', 'publisher', 'imageUrlM']]"
   ]
  },
  {
   "cell_type": "markdown",
   "id": "d2788927",
   "metadata": {},
   "source": [
    "- as of now we don't need img link so we save them in different dataframe"
   ]
  },
  {
   "cell_type": "code",
   "execution_count": 29,
   "id": "5c515285",
   "metadata": {
    "ExecuteTime": {
     "end_time": "2023-06-07T05:28:16.339370Z",
     "start_time": "2023-06-07T05:28:16.309871Z"
    }
   },
   "outputs": [],
   "source": [
    "## Applying clean_text() function on bookTitle column\n",
    "def clean_text(text):\n",
    "    #removal of url\n",
    "    text = re.sub(r'https?://\\S+|www\\.\\S+|http?://\\S+',' ',text) \n",
    "    \n",
    "    #removal of html tags\n",
    "    text = re.sub(r'<.*?>',' ',text) \n",
    "    \n",
    "    text = re.sub(\"[\"\n",
    "                           u\"\\U0001F600-\\U0001F64F\"  # removal of emoticons\n",
    "                           u\"\\U0001F300-\\U0001F5FF\"  # symbols & pictographs\n",
    "                           u\"\\U0001F680-\\U0001F6FF\"  # transport & map symbols\n",
    "                           u\"\\U0001F1E0-\\U0001F1FF\"  # flags (iOS)\n",
    "                           u\"\\U00002702-\\U000027B0\"\n",
    "                           u\"\\U000024C2-\\U0001F251\"\n",
    "                           \"]+\",' ',text)\n",
    "    \n",
    "    \n",
    "    #remove newline char\n",
    "    text = re.sub('\\n', '', text)\n",
    "    \n",
    "    return text"
   ]
  },
  {
   "cell_type": "markdown",
   "id": "d35303ee",
   "metadata": {},
   "source": [
    "The provided code defines a function clean_text() that performs several text cleaning operations using regular expressions (re module). Here's a breakdown of the different steps performed in the function:\n",
    "\n",
    "Removal of URLs: The regular expression r'https?://\\S+|www.\\S+|http?://\\S+' matches URLs and replaces them with a space.\n",
    "\n",
    "Removal of HTML tags: The regular expression r'<.*?>' matches HTML tags and replaces them with a space.\n",
    "\n",
    "Removal of Emoticons, Symbols, and Flags: The regular expression \"[\"u\"\\U0001F600-\\U0001F64F\" u\"\\U0001F300-\\U0001F5FF\" u\"\\U0001F680-\\U0001F6FF\" u\"\\U0001F1E0-\\U0001F1FF\" u\"\\U00002702-\\U000027B0\" u\"\\U000024C2-\\U0001F251\" \"]+\",' ' removes emoticons, symbols, and flags from the text by replacing them with a space.\n",
    "\n",
    "Removal of Newline Characters: The '\\n' character is replaced with an empty string to remove newline characters from the text.\n",
    "\n",
    "The function then returns the cleaned text."
   ]
  },
  {
   "cell_type": "code",
   "execution_count": 30,
   "id": "5453f386",
   "metadata": {
    "ExecuteTime": {
     "end_time": "2023-06-07T05:28:17.965774Z",
     "start_time": "2023-06-07T05:28:16.339370Z"
    }
   },
   "outputs": [],
   "source": [
    "books.bookTitle = books.bookTitle.apply(lambda x:clean_text(x))"
   ]
  },
  {
   "cell_type": "code",
   "execution_count": 31,
   "id": "0ab6a22c",
   "metadata": {
    "ExecuteTime": {
     "end_time": "2023-06-07T05:28:17.997878Z",
     "start_time": "2023-06-07T05:28:17.969647Z"
    }
   },
   "outputs": [
    {
     "data": {
      "text/html": [
       "<div>\n",
       "<style scoped>\n",
       "    .dataframe tbody tr th:only-of-type {\n",
       "        vertical-align: middle;\n",
       "    }\n",
       "\n",
       "    .dataframe tbody tr th {\n",
       "        vertical-align: top;\n",
       "    }\n",
       "\n",
       "    .dataframe thead th {\n",
       "        text-align: right;\n",
       "    }\n",
       "</style>\n",
       "<table border=\"1\" class=\"dataframe\">\n",
       "  <thead>\n",
       "    <tr style=\"text-align: right;\">\n",
       "      <th></th>\n",
       "      <th>ISBN</th>\n",
       "      <th>bookTitle</th>\n",
       "      <th>bookAuthor</th>\n",
       "      <th>yearOfPublication</th>\n",
       "      <th>publisher</th>\n",
       "      <th>imageUrlM</th>\n",
       "    </tr>\n",
       "  </thead>\n",
       "  <tbody>\n",
       "    <tr>\n",
       "      <th>0</th>\n",
       "      <td>0195153448</td>\n",
       "      <td>Classical Mythology</td>\n",
       "      <td>Mark P. O. Morford</td>\n",
       "      <td>2002</td>\n",
       "      <td>Oxford University Press</td>\n",
       "      <td>http://images.amazon.com/images/P/0195153448.0...</td>\n",
       "    </tr>\n",
       "    <tr>\n",
       "      <th>1</th>\n",
       "      <td>0002005018</td>\n",
       "      <td>Clara Callan</td>\n",
       "      <td>Richard Bruce Wright</td>\n",
       "      <td>2001</td>\n",
       "      <td>HarperFlamingo Canada</td>\n",
       "      <td>http://images.amazon.com/images/P/0002005018.0...</td>\n",
       "    </tr>\n",
       "    <tr>\n",
       "      <th>2</th>\n",
       "      <td>0060973129</td>\n",
       "      <td>Decision in Normandy</td>\n",
       "      <td>Carlo D'Este</td>\n",
       "      <td>1991</td>\n",
       "      <td>HarperPerennial</td>\n",
       "      <td>http://images.amazon.com/images/P/0060973129.0...</td>\n",
       "    </tr>\n",
       "    <tr>\n",
       "      <th>3</th>\n",
       "      <td>0374157065</td>\n",
       "      <td>Flu: The Story of the Great Influenza Pandemic...</td>\n",
       "      <td>Gina Bari Kolata</td>\n",
       "      <td>1999</td>\n",
       "      <td>Farrar Straus Giroux</td>\n",
       "      <td>http://images.amazon.com/images/P/0374157065.0...</td>\n",
       "    </tr>\n",
       "    <tr>\n",
       "      <th>4</th>\n",
       "      <td>0393045218</td>\n",
       "      <td>The Mummies of Urumchi</td>\n",
       "      <td>E. J. W. Barber</td>\n",
       "      <td>1999</td>\n",
       "      <td>W. W. Norton &amp;amp; Company</td>\n",
       "      <td>http://images.amazon.com/images/P/0393045218.0...</td>\n",
       "    </tr>\n",
       "    <tr>\n",
       "      <th>...</th>\n",
       "      <td>...</td>\n",
       "      <td>...</td>\n",
       "      <td>...</td>\n",
       "      <td>...</td>\n",
       "      <td>...</td>\n",
       "      <td>...</td>\n",
       "    </tr>\n",
       "    <tr>\n",
       "      <th>271355</th>\n",
       "      <td>0440400988</td>\n",
       "      <td>There's a Bat in Bunk Five</td>\n",
       "      <td>Paula Danziger</td>\n",
       "      <td>1988</td>\n",
       "      <td>Random House Childrens Pub (Mm)</td>\n",
       "      <td>http://images.amazon.com/images/P/0440400988.0...</td>\n",
       "    </tr>\n",
       "    <tr>\n",
       "      <th>271356</th>\n",
       "      <td>0525447644</td>\n",
       "      <td>From One to One Hundred</td>\n",
       "      <td>Teri Sloat</td>\n",
       "      <td>1991</td>\n",
       "      <td>Dutton Books</td>\n",
       "      <td>http://images.amazon.com/images/P/0525447644.0...</td>\n",
       "    </tr>\n",
       "    <tr>\n",
       "      <th>271357</th>\n",
       "      <td>006008667X</td>\n",
       "      <td>Lily Dale : The True Story of the Town that Ta...</td>\n",
       "      <td>Christine Wicker</td>\n",
       "      <td>2004</td>\n",
       "      <td>HarperSanFrancisco</td>\n",
       "      <td>http://images.amazon.com/images/P/006008667X.0...</td>\n",
       "    </tr>\n",
       "    <tr>\n",
       "      <th>271358</th>\n",
       "      <td>0192126040</td>\n",
       "      <td>Republic (World's Classics)</td>\n",
       "      <td>Plato</td>\n",
       "      <td>1996</td>\n",
       "      <td>Oxford University Press</td>\n",
       "      <td>http://images.amazon.com/images/P/0192126040.0...</td>\n",
       "    </tr>\n",
       "    <tr>\n",
       "      <th>271359</th>\n",
       "      <td>0767409752</td>\n",
       "      <td>A Guided Tour of Rene Descartes' Meditations o...</td>\n",
       "      <td>Christopher  Biffle</td>\n",
       "      <td>2000</td>\n",
       "      <td>McGraw-Hill Humanities/Social Sciences/Languages</td>\n",
       "      <td>http://images.amazon.com/images/P/0767409752.0...</td>\n",
       "    </tr>\n",
       "  </tbody>\n",
       "</table>\n",
       "<p>271360 rows × 6 columns</p>\n",
       "</div>"
      ],
      "text/plain": [
       "              ISBN                                          bookTitle  \\\n",
       "0       0195153448                                Classical Mythology   \n",
       "1       0002005018                                       Clara Callan   \n",
       "2       0060973129                               Decision in Normandy   \n",
       "3       0374157065  Flu: The Story of the Great Influenza Pandemic...   \n",
       "4       0393045218                             The Mummies of Urumchi   \n",
       "...            ...                                                ...   \n",
       "271355  0440400988                         There's a Bat in Bunk Five   \n",
       "271356  0525447644                            From One to One Hundred   \n",
       "271357  006008667X  Lily Dale : The True Story of the Town that Ta...   \n",
       "271358  0192126040                        Republic (World's Classics)   \n",
       "271359  0767409752  A Guided Tour of Rene Descartes' Meditations o...   \n",
       "\n",
       "                  bookAuthor  yearOfPublication  \\\n",
       "0         Mark P. O. Morford               2002   \n",
       "1       Richard Bruce Wright               2001   \n",
       "2               Carlo D'Este               1991   \n",
       "3           Gina Bari Kolata               1999   \n",
       "4            E. J. W. Barber               1999   \n",
       "...                      ...                ...   \n",
       "271355        Paula Danziger               1988   \n",
       "271356            Teri Sloat               1991   \n",
       "271357      Christine Wicker               2004   \n",
       "271358                 Plato               1996   \n",
       "271359   Christopher  Biffle               2000   \n",
       "\n",
       "                                               publisher  \\\n",
       "0                                Oxford University Press   \n",
       "1                                  HarperFlamingo Canada   \n",
       "2                                        HarperPerennial   \n",
       "3                                   Farrar Straus Giroux   \n",
       "4                             W. W. Norton &amp; Company   \n",
       "...                                                  ...   \n",
       "271355                   Random House Childrens Pub (Mm)   \n",
       "271356                                      Dutton Books   \n",
       "271357                                HarperSanFrancisco   \n",
       "271358                           Oxford University Press   \n",
       "271359  McGraw-Hill Humanities/Social Sciences/Languages   \n",
       "\n",
       "                                                imageUrlM  \n",
       "0       http://images.amazon.com/images/P/0195153448.0...  \n",
       "1       http://images.amazon.com/images/P/0002005018.0...  \n",
       "2       http://images.amazon.com/images/P/0060973129.0...  \n",
       "3       http://images.amazon.com/images/P/0374157065.0...  \n",
       "4       http://images.amazon.com/images/P/0393045218.0...  \n",
       "...                                                   ...  \n",
       "271355  http://images.amazon.com/images/P/0440400988.0...  \n",
       "271356  http://images.amazon.com/images/P/0525447644.0...  \n",
       "271357  http://images.amazon.com/images/P/006008667X.0...  \n",
       "271358  http://images.amazon.com/images/P/0192126040.0...  \n",
       "271359  http://images.amazon.com/images/P/0767409752.0...  \n",
       "\n",
       "[271360 rows x 6 columns]"
      ]
     },
     "execution_count": 31,
     "metadata": {},
     "output_type": "execute_result"
    }
   ],
   "source": [
    "books"
   ]
  },
  {
   "cell_type": "markdown",
   "id": "c0b12e32",
   "metadata": {},
   "source": [
    "## Top 10 Authors which have written the most books."
   ]
  },
  {
   "cell_type": "code",
   "execution_count": 32,
   "id": "b7070ab4",
   "metadata": {
    "ExecuteTime": {
     "end_time": "2023-06-07T05:28:18.849854Z",
     "start_time": "2023-06-07T05:28:17.997878Z"
    }
   },
   "outputs": [
    {
     "data": {
      "image/png": "[encoded data removed]",
      "text/plain": [
       "<Figure size 1500x700 with 1 Axes>"
      ]
     },
     "metadata": {},
     "output_type": "display_data"
    }
   ],
   "source": [
    "# Set the figure size\n",
    "plt.figure(figsize=(15, 7))\n",
    "\n",
    "# Define custom color palette\n",
    "custom_palette = ['#FFA726', '#FF7043', '#FF5252', '#FF4081', '#AB47BC',\n",
    "                  '#7E57C2', '#5C6BC0', '#42A5F5', '#26C6DA', '#26A69A']\n",
    "\n",
    "# Create the countplot\n",
    "sns.countplot(y='bookAuthor', data=books,\n",
    "              order=pd.value_counts(books['bookAuthor']).iloc[:10].index,\n",
    "              palette=custom_palette)\n",
    "\n",
    "# Set title and axis labels\n",
    "plt.title('Top 10 Authors', fontsize=18)\n",
    "plt.xlabel('Number of Books', fontsize=14)\n",
    "plt.ylabel('Author', fontsize=14)\n",
    "\n",
    "# Customize tick labels and font size\n",
    "plt.xticks(fontsize=12)\n",
    "plt.yticks(fontsize=12)\n",
    "\n",
    "# Remove the right and top spines\n",
    "sns.despine()\n",
    "\n",
    "# Display the plot\n",
    "plt.show()"
   ]
  },
  {
   "cell_type": "markdown",
   "id": "10b1a67e",
   "metadata": {},
   "source": [
    "- From this we conclude the top 10 author which have written the most Books\n",
    "- why: It will provide valuable insights into the Author popularity, Author influence, Genre specialization etc."
   ]
  },
  {
   "cell_type": "markdown",
   "id": "c6343d2a",
   "metadata": {},
   "source": [
    "## Top 10 Publisher which have published the most books."
   ]
  },
  {
   "cell_type": "code",
   "execution_count": 33,
   "id": "e48f4cc2",
   "metadata": {
    "ExecuteTime": {
     "end_time": "2023-06-07T05:28:19.196038Z",
     "start_time": "2023-06-07T05:28:18.852610Z"
    }
   },
   "outputs": [
    {
     "data": {
      "text/plain": [
       "Text(0.5, 1.0, 'Top 10 Publishers')"
      ]
     },
     "execution_count": 33,
     "metadata": {},
     "output_type": "execute_result"
    },
    {
     "data": {
      "image/png": "[encoded data removed]",
      "text/plain": [
       "<Figure size 1500x700 with 1 Axes>"
      ]
     },
     "metadata": {},
     "output_type": "display_data"
    }
   ],
   "source": [
    "plt.figure(figsize=(15,7))\n",
    "sns.countplot(y='publisher',data=books,order=pd.value_counts(books['publisher']).iloc[:10].index)\n",
    "plt.title('Top 10 Publishers')"
   ]
  },
  {
   "cell_type": "markdown",
   "id": "a56c9ecc",
   "metadata": {},
   "source": [
    "- Here we got the top 10 publisher who have published most books over the year\n",
    "- This information can indicate the publishers that have a significant presence in the industry and may suggest their ability to attract and work with a large number of authors or produce a wide range of titles."
   ]
  },
  {
   "cell_type": "markdown",
   "id": "a4e0a3ab",
   "metadata": {},
   "source": [
    "## Visualising top 10 most read books"
   ]
  },
  {
   "cell_type": "code",
   "execution_count": 34,
   "id": "b0e5f94e",
   "metadata": {
    "ExecuteTime": {
     "end_time": "2023-06-07T05:28:19.659947Z",
     "start_time": "2023-06-07T05:28:19.196038Z"
    }
   },
   "outputs": [
    {
     "data": {
      "image/png": "[encoded data removed]",
      "text/plain": [
       "<Figure size 640x480 with 1 Axes>"
      ]
     },
     "metadata": {},
     "output_type": "display_data"
    }
   ],
   "source": [
    "most_read = books.bookTitle.value_counts().reset_index()\n",
    "most_read.columns = ['bookTitle','count']\n",
    "\n",
    "plt.figure()\n",
    "plt.title(\"Most Read Books\")\n",
    "sns.barplot(x = 'count', y = 'bookTitle', data= most_read.head(10));"
   ]
  },
  {
   "cell_type": "markdown",
   "id": "1e7866b2",
   "metadata": {},
   "source": [
    "- What : I am visualising top 30 most read books\n",
    "- Why : to gain insights into popular and trending books, so I can understand user preferences, and improve personalization.\n",
    "- How : By using Series.value_counts() and sns.barplot for creating data and visualisation respectively."
   ]
  },
  {
   "cell_type": "markdown",
   "id": "3da09941",
   "metadata": {},
   "source": [
    "## Visualising top 10 years with most book being published"
   ]
  },
  {
   "cell_type": "code",
   "execution_count": 35,
   "id": "be6b91fe",
   "metadata": {
    "ExecuteTime": {
     "end_time": "2023-06-07T05:28:19.866156Z",
     "start_time": "2023-06-07T05:28:19.663998Z"
    }
   },
   "outputs": [
    {
     "data": {
      "image/png": "[encoded data removed]",
      "text/plain": [
       "<Figure size 640x480 with 1 Axes>"
      ]
     },
     "metadata": {},
     "output_type": "display_data"
    }
   ],
   "source": [
    "year = books['yearOfPublication'].value_counts().reset_index()\n",
    "year.columns = ['value', 'count']\n",
    "year['year'] = year['value'].astype(str) + ' year'\n",
    "year = year.sort_values('count',ascending=False)\n",
    "plt.figure()\n",
    "plt.title('Top 10 years of publishing')\n",
    "sns.barplot(data = year.head(10), x='count', y=\"year\");"
   ]
  },
  {
   "cell_type": "markdown",
   "id": "ca68062c",
   "metadata": {},
   "source": [
    "- What: We have visualize top 30 year with most book published\n",
    "- Why: we can gain insights into publishing trends and patterns over time. This can help you understand if there were specific periods of increased publishing activity or if the number of books published has been steadily increasing over the years. Publishing patterns: Examining the distribution of book publications over time can reveal patterns such as cyclic trends, periods of innovation or decline, or changes in genres or topics that are popular during different years."
   ]
  },
  {
   "cell_type": "code",
   "execution_count": null,
   "id": "479aa5f9",
   "metadata": {
    "ExecuteTime": {
     "end_time": "2023-06-05T11:07:34.195968Z",
     "start_time": "2023-06-05T11:07:33.983926Z"
    }
   },
   "outputs": [],
   "source": []
  },
  {
   "cell_type": "markdown",
   "id": "061e1626",
   "metadata": {},
   "source": [
    "# Checking Users Data"
   ]
  },
  {
   "cell_type": "code",
   "execution_count": 36,
   "id": "410b88cb",
   "metadata": {
    "ExecuteTime": {
     "end_time": "2023-06-07T05:28:19.945303Z",
     "start_time": "2023-06-07T05:28:19.868797Z"
    }
   },
   "outputs": [
    {
     "data": {
      "text/plain": [
       "userId           0\n",
       "Location         0\n",
       "Age         110762\n",
       "dtype: int64"
      ]
     },
     "execution_count": 36,
     "metadata": {},
     "output_type": "execute_result"
    }
   ],
   "source": [
    "users.isnull().sum()"
   ]
  },
  {
   "cell_type": "code",
   "execution_count": 37,
   "id": "69ebcc88",
   "metadata": {
    "ExecuteTime": {
     "end_time": "2023-06-07T05:28:20.088858Z",
     "start_time": "2023-06-07T05:28:19.950053Z"
    }
   },
   "outputs": [
    {
     "data": {
      "text/plain": [
       "0"
      ]
     },
     "execution_count": 37,
     "metadata": {},
     "output_type": "execute_result"
    }
   ],
   "source": [
    "users.duplicated().sum()"
   ]
  },
  {
   "cell_type": "code",
   "execution_count": 38,
   "id": "166d5b86",
   "metadata": {
    "ExecuteTime": {
     "end_time": "2023-06-07T05:28:20.136482Z",
     "start_time": "2023-06-07T05:28:20.093769Z"
    }
   },
   "outputs": [
    {
     "data": {
      "text/plain": [
       "0"
      ]
     },
     "execution_count": 38,
     "metadata": {},
     "output_type": "execute_result"
    }
   ],
   "source": [
    "users.duplicated('userId').sum()"
   ]
  },
  {
   "cell_type": "code",
   "execution_count": 39,
   "id": "c9477593",
   "metadata": {
    "ExecuteTime": {
     "end_time": "2023-06-07T05:28:20.199503Z",
     "start_time": "2023-06-07T05:28:20.136482Z"
    }
   },
   "outputs": [
    {
     "name": "stdout",
     "output_type": "stream",
     "text": [
      "<class 'pandas.core.frame.DataFrame'>\n",
      "RangeIndex: 278858 entries, 0 to 278857\n",
      "Data columns (total 3 columns):\n",
      " #   Column    Non-Null Count   Dtype  \n",
      "---  ------    --------------   -----  \n",
      " 0   userId    278858 non-null  int64  \n",
      " 1   Location  278858 non-null  object \n",
      " 2   Age       168096 non-null  float64\n",
      "dtypes: float64(1), int64(1), object(1)\n",
      "memory usage: 6.4+ MB\n"
     ]
    }
   ],
   "source": [
    "users.info()"
   ]
  },
  {
   "cell_type": "code",
   "execution_count": 40,
   "id": "273bbae0",
   "metadata": {
    "ExecuteTime": {
     "end_time": "2023-06-07T05:28:20.405617Z",
     "start_time": "2023-06-07T05:28:20.201511Z"
    }
   },
   "outputs": [
    {
     "data": {
      "image/png": "[encoded data removed]",
      "text/plain": [
       "<Figure size 640x480 with 1 Axes>"
      ]
     },
     "metadata": {},
     "output_type": "display_data"
    }
   ],
   "source": [
    "users.Age.hist()\n",
    "plt.title('Age Distribution\\n')\n",
    "plt.xlabel('Age')\n",
    "plt.ylabel('count')\n",
    "plt.show()"
   ]
  },
  {
   "cell_type": "markdown",
   "id": "e81c0bac",
   "metadata": {},
   "source": [
    "- Here we are visualizing the age distribuition of the users who are reading the books\n",
    "- From here we conclude that there are many users who have 0 age and age more than 100.\n",
    "- So we will find the unqiue values."
   ]
  },
  {
   "cell_type": "code",
   "execution_count": 41,
   "id": "a8fb02c9",
   "metadata": {
    "ExecuteTime": {
     "end_time": "2023-06-07T05:28:20.421627Z",
     "start_time": "2023-06-07T05:28:20.407796Z"
    }
   },
   "outputs": [
    {
     "data": {
      "text/plain": [
       "array([ nan,  18.,  17.,  61.,  26.,  14.,  25.,  19.,  46.,  55.,  32.,\n",
       "        24.,  20.,  34.,  23.,  51.,  31.,  21.,  44.,  30.,  57.,  43.,\n",
       "        37.,  41.,  54.,  42.,  50.,  39.,  53.,  47.,  36.,  28.,  35.,\n",
       "        13.,  58.,  49.,  38.,  45.,  62.,  63.,  27.,  33.,  29.,  66.,\n",
       "        40.,  15.,  60.,   0.,  79.,  22.,  16.,  65.,  59.,  48.,  72.,\n",
       "        56.,  67.,   1.,  80.,  52.,  69.,  71.,  73.,  78.,   9.,  64.,\n",
       "       103., 104.,  12.,  74.,  75., 231.,   3.,  76.,  83.,  68., 119.,\n",
       "        11.,  77.,   2.,  70.,  93.,   8.,   7.,   4.,  81., 114., 230.,\n",
       "       239.,  10.,   5., 148., 151.,   6., 101., 201.,  96.,  84.,  82.,\n",
       "        90., 123., 244., 133.,  91., 128.,  94.,  85., 141., 110.,  97.,\n",
       "       219.,  86., 124.,  92., 175., 172., 209., 212., 237.,  87., 162.,\n",
       "       100., 156., 136.,  95.,  89., 106.,  99., 108., 210.,  88., 199.,\n",
       "       147., 168., 132., 159., 186., 152., 102., 116., 200., 115., 226.,\n",
       "       137., 207., 229., 138., 109., 105., 228., 183., 204.,  98., 223.,\n",
       "       113., 208., 107., 157., 111., 146., 118., 220., 143., 140., 189.,\n",
       "       127.])"
      ]
     },
     "execution_count": 41,
     "metadata": {},
     "output_type": "execute_result"
    }
   ],
   "source": [
    "users['Age'].unique()"
   ]
  },
  {
   "cell_type": "markdown",
   "id": "c0aab818",
   "metadata": {},
   "source": [
    "- Here we can see we have age more than 100, which is invalid.\n",
    "- So we take the age from range (5,100) and in place of the nan values we put the mean values"
   ]
  },
  {
   "cell_type": "code",
   "execution_count": 42,
   "id": "2468e3fb",
   "metadata": {
    "ExecuteTime": {
     "end_time": "2023-06-07T05:28:20.453086Z",
     "start_time": "2023-06-07T05:28:20.423628Z"
    }
   },
   "outputs": [
    {
     "data": {
      "text/plain": [
       "array([ 34,  18,  17,  61,  26,  14,  25,  19,  46,  55,  32,  24,  20,\n",
       "        23,  51,  31,  21,  44,  30,  57,  43,  37,  41,  54,  42,  50,\n",
       "        39,  53,  47,  36,  28,  35,  13,  58,  49,  38,  45,  62,  63,\n",
       "        27,  33,  29,  66,  40,  15,  60,  79,  22,  16,  65,  59,  48,\n",
       "        72,  56,  67,  80,  52,  69,  71,  73,  78,   9,  64,  12,  74,\n",
       "        75,  76,  83,  68,  11,  77,  70,  93,   8,   7,  81,  10,   5,\n",
       "         6,  96,  84,  82,  90,  91,  94,  85,  97,  86,  92,  87, 100,\n",
       "        95,  89,  99,  88,  98], dtype=int64)"
      ]
     },
     "execution_count": 42,
     "metadata": {},
     "output_type": "execute_result"
    }
   ],
   "source": [
    "users.loc[(users['Age'] > 100) | (users['Age'] < 5)] = np.nan\n",
    "users['Age'].fillna((users['Age'].mean()), inplace=True)\n",
    "users['Age']= users['Age'].astype('int64')\n",
    "users['Age'].unique()"
   ]
  },
  {
   "cell_type": "code",
   "execution_count": 43,
   "id": "dfe1a33a",
   "metadata": {
    "ExecuteTime": {
     "end_time": "2023-06-07T05:28:20.468986Z",
     "start_time": "2023-06-07T05:28:20.455600Z"
    }
   },
   "outputs": [],
   "source": [
    "# For visualization which are the age groups are more \n",
    "def age_group(age):\n",
    "    if age<15:\n",
    "        x='Children'\n",
    "    elif age>=15 and age<35:\n",
    "        x='Youth'\n",
    "    elif age>=35 and age<65:\n",
    "        x='Adults'\n",
    "    else:\n",
    "        x='Senior Citizens'\n",
    "    return x"
   ]
  },
  {
   "cell_type": "markdown",
   "id": "abe9fa03",
   "metadata": {},
   "source": [
    "- Here we have categories the data into different age groups for visualization purpose."
   ]
  },
  {
   "cell_type": "code",
   "execution_count": 44,
   "id": "491a5d7a",
   "metadata": {
    "ExecuteTime": {
     "end_time": "2023-06-07T05:28:20.564669Z",
     "start_time": "2023-06-07T05:28:20.470802Z"
    }
   },
   "outputs": [],
   "source": [
    "users['Age_group']=users['Age'].apply(lambda x: age_group(x))"
   ]
  },
  {
   "cell_type": "code",
   "execution_count": 45,
   "id": "e31339b0",
   "metadata": {
    "ExecuteTime": {
     "end_time": "2023-06-07T05:28:20.864865Z",
     "start_time": "2023-06-07T05:28:20.565739Z"
    }
   },
   "outputs": [
    {
     "data": {
      "text/plain": [
       "<AxesSubplot:xlabel='Age_group', ylabel='count'>"
      ]
     },
     "execution_count": 45,
     "metadata": {},
     "output_type": "execute_result"
    },
    {
     "data": {
      "image/png": "[encoded data removed]",
      "text/plain": [
       "<Figure size 640x480 with 1 Axes>"
      ]
     },
     "metadata": {},
     "output_type": "display_data"
    }
   ],
   "source": [
    "#Age distribution of users\n",
    "sns.countplot(users['Age_group'])"
   ]
  },
  {
   "cell_type": "markdown",
   "id": "413b02c5",
   "metadata": {},
   "source": [
    "- From this graph we conclude that Youth are reading the most books followed by adults and childrens."
   ]
  },
  {
   "cell_type": "markdown",
   "id": "5cf25841",
   "metadata": {},
   "source": [
    "#### In below cells we are extracting the Country name from the location column,"
   ]
  },
  {
   "cell_type": "code",
   "execution_count": 46,
   "id": "bf87390b",
   "metadata": {
    "ExecuteTime": {
     "end_time": "2023-06-07T05:28:20.880925Z",
     "start_time": "2023-06-07T05:28:20.866116Z"
    }
   },
   "outputs": [],
   "source": [
    "# defining a function to extract the country names\n",
    "def get_country(x):\n",
    "    if isinstance(x, float):\n",
    "        x = str(x)\n",
    "    return x.split(',')[-1]"
   ]
  },
  {
   "cell_type": "code",
   "execution_count": 47,
   "id": "91396cf9",
   "metadata": {
    "ExecuteTime": {
     "end_time": "2023-06-07T05:28:21.101833Z",
     "start_time": "2023-06-07T05:28:20.885491Z"
    }
   },
   "outputs": [],
   "source": [
    "#applying the function the location column\n",
    "new_user = users.copy(deep=True)\n",
    "new_user['country'] = users['Location'].apply(get_country)"
   ]
  },
  {
   "cell_type": "code",
   "execution_count": 48,
   "id": "5b53f30e",
   "metadata": {
    "ExecuteTime": {
     "end_time": "2023-06-07T05:28:21.133095Z",
     "start_time": "2023-06-07T05:28:21.105197Z"
    }
   },
   "outputs": [
    {
     "data": {
      "text/html": [
       "<div>\n",
       "<style scoped>\n",
       "    .dataframe tbody tr th:only-of-type {\n",
       "        vertical-align: middle;\n",
       "    }\n",
       "\n",
       "    .dataframe tbody tr th {\n",
       "        vertical-align: top;\n",
       "    }\n",
       "\n",
       "    .dataframe thead th {\n",
       "        text-align: right;\n",
       "    }\n",
       "</style>\n",
       "<table border=\"1\" class=\"dataframe\">\n",
       "  <thead>\n",
       "    <tr style=\"text-align: right;\">\n",
       "      <th></th>\n",
       "      <th>userId</th>\n",
       "      <th>Location</th>\n",
       "      <th>Age</th>\n",
       "      <th>Age_group</th>\n",
       "      <th>country</th>\n",
       "    </tr>\n",
       "  </thead>\n",
       "  <tbody>\n",
       "    <tr>\n",
       "      <th>0</th>\n",
       "      <td>1.0</td>\n",
       "      <td>nyc, new york, usa</td>\n",
       "      <td>34</td>\n",
       "      <td>Youth</td>\n",
       "      <td>usa</td>\n",
       "    </tr>\n",
       "    <tr>\n",
       "      <th>1</th>\n",
       "      <td>2.0</td>\n",
       "      <td>stockton, california, usa</td>\n",
       "      <td>18</td>\n",
       "      <td>Youth</td>\n",
       "      <td>usa</td>\n",
       "    </tr>\n",
       "    <tr>\n",
       "      <th>2</th>\n",
       "      <td>3.0</td>\n",
       "      <td>moscow, yukon territory, russia</td>\n",
       "      <td>34</td>\n",
       "      <td>Youth</td>\n",
       "      <td>russia</td>\n",
       "    </tr>\n",
       "    <tr>\n",
       "      <th>3</th>\n",
       "      <td>4.0</td>\n",
       "      <td>porto, v.n.gaia, portugal</td>\n",
       "      <td>17</td>\n",
       "      <td>Youth</td>\n",
       "      <td>portugal</td>\n",
       "    </tr>\n",
       "    <tr>\n",
       "      <th>4</th>\n",
       "      <td>5.0</td>\n",
       "      <td>farnborough, hants, united kingdom</td>\n",
       "      <td>34</td>\n",
       "      <td>Youth</td>\n",
       "      <td>united kingdom</td>\n",
       "    </tr>\n",
       "    <tr>\n",
       "      <th>...</th>\n",
       "      <td>...</td>\n",
       "      <td>...</td>\n",
       "      <td>...</td>\n",
       "      <td>...</td>\n",
       "      <td>...</td>\n",
       "    </tr>\n",
       "    <tr>\n",
       "      <th>278853</th>\n",
       "      <td>278854.0</td>\n",
       "      <td>portland, oregon, usa</td>\n",
       "      <td>34</td>\n",
       "      <td>Youth</td>\n",
       "      <td>usa</td>\n",
       "    </tr>\n",
       "    <tr>\n",
       "      <th>278854</th>\n",
       "      <td>278855.0</td>\n",
       "      <td>tacoma, washington, united kingdom</td>\n",
       "      <td>50</td>\n",
       "      <td>Adults</td>\n",
       "      <td>united kingdom</td>\n",
       "    </tr>\n",
       "    <tr>\n",
       "      <th>278855</th>\n",
       "      <td>278856.0</td>\n",
       "      <td>brampton, ontario, canada</td>\n",
       "      <td>34</td>\n",
       "      <td>Youth</td>\n",
       "      <td>canada</td>\n",
       "    </tr>\n",
       "    <tr>\n",
       "      <th>278856</th>\n",
       "      <td>278857.0</td>\n",
       "      <td>knoxville, tennessee, usa</td>\n",
       "      <td>34</td>\n",
       "      <td>Youth</td>\n",
       "      <td>usa</td>\n",
       "    </tr>\n",
       "    <tr>\n",
       "      <th>278857</th>\n",
       "      <td>278858.0</td>\n",
       "      <td>dublin, n/a, ireland</td>\n",
       "      <td>34</td>\n",
       "      <td>Youth</td>\n",
       "      <td>ireland</td>\n",
       "    </tr>\n",
       "  </tbody>\n",
       "</table>\n",
       "<p>278858 rows × 5 columns</p>\n",
       "</div>"
      ],
      "text/plain": [
       "          userId                            Location  Age Age_group  \\\n",
       "0            1.0                  nyc, new york, usa   34     Youth   \n",
       "1            2.0           stockton, california, usa   18     Youth   \n",
       "2            3.0     moscow, yukon territory, russia   34     Youth   \n",
       "3            4.0           porto, v.n.gaia, portugal   17     Youth   \n",
       "4            5.0  farnborough, hants, united kingdom   34     Youth   \n",
       "...          ...                                 ...  ...       ...   \n",
       "278853  278854.0               portland, oregon, usa   34     Youth   \n",
       "278854  278855.0  tacoma, washington, united kingdom   50    Adults   \n",
       "278855  278856.0           brampton, ontario, canada   34     Youth   \n",
       "278856  278857.0           knoxville, tennessee, usa   34     Youth   \n",
       "278857  278858.0                dublin, n/a, ireland   34     Youth   \n",
       "\n",
       "                country  \n",
       "0                   usa  \n",
       "1                   usa  \n",
       "2                russia  \n",
       "3              portugal  \n",
       "4        united kingdom  \n",
       "...                 ...  \n",
       "278853              usa  \n",
       "278854   united kingdom  \n",
       "278855           canada  \n",
       "278856              usa  \n",
       "278857          ireland  \n",
       "\n",
       "[278858 rows x 5 columns]"
      ]
     },
     "execution_count": 48,
     "metadata": {},
     "output_type": "execute_result"
    }
   ],
   "source": [
    "new_user"
   ]
  },
  {
   "cell_type": "code",
   "execution_count": 49,
   "id": "5478a891",
   "metadata": {
    "ExecuteTime": {
     "end_time": "2023-06-07T05:28:21.148919Z",
     "start_time": "2023-06-07T05:28:21.135216Z"
    }
   },
   "outputs": [
    {
     "data": {
      "text/plain": [
       "0                     usa\n",
       "1                     usa\n",
       "2                  russia\n",
       "3                portugal\n",
       "4          united kingdom\n",
       "               ...       \n",
       "278853                usa\n",
       "278854     united kingdom\n",
       "278855             canada\n",
       "278856                usa\n",
       "278857            ireland\n",
       "Name: country, Length: 278858, dtype: object"
      ]
     },
     "execution_count": 49,
     "metadata": {},
     "output_type": "execute_result"
    }
   ],
   "source": [
    "new_user['country']"
   ]
  },
  {
   "cell_type": "code",
   "execution_count": 50,
   "id": "7e70fe2c",
   "metadata": {
    "ExecuteTime": {
     "end_time": "2023-06-07T05:28:21.180936Z",
     "start_time": "2023-06-07T05:28:21.152494Z"
    }
   },
   "outputs": [
    {
     "data": {
      "text/plain": [
       "array([' usa', ' russia', ' portugal', ' united kingdom', ' canada',\n",
       "       ' spain', ' australia', ' brazil', '', ' germany', ' mexico',\n",
       "       ' china', ' italy', ' distrito federal', ' france', ' netherlands',\n",
       "       ' iraq', ' finland', ' new zealand', ' india', ' ghana',\n",
       "       ' switzerland', ' slovenia', ' iran', ' peru',\n",
       "       ' bosnia and herzegovina', ' vietnam', ' sri lanka', ' pakistan',\n",
       "       ' denmark', ' belgium', ' malaysia', ' u.a.e', ' turkey',\n",
       "       ' philippines', ' greece', 'nan', ' norway', ' kuwait', ' chile',\n",
       "       ' quit', ' lj', ' taiwan', ' denmark\"', ' españa', ' sweden',\n",
       "       ' argentina', ' nigeria', ' london', ' bulgaria', ' austria',\n",
       "       ' romania', ' singapore', ' egypt', ' tunisia', ' uzbekistan',\n",
       "       ' qatar', ' syria', ' indonesia', ' sudan', ' saudi arabia',\n",
       "       ' somewherein space', ' poland', ' thailand', ' ireland',\n",
       "       ' malaysia\"', ' venezuela', ' paraguay', ' mozambique', ' morocco',\n",
       "       ' afghanistan', ' estonia', ' colombia', ' clackamas', ' spain\"',\n",
       "       '\"', ' lesotho', ' yugoslavia', ' slovakia', ' costa rica',\n",
       "       ' basque country', ' british virgin islands', ' ethiopia',\n",
       "       ' croatia', ' united kingdom\"', ' portugal\"', ' israel', ' japan',\n",
       "       ' israel\"', ' albania', ' iceland', ' the', ' south africa',\n",
       "       ' iran\"', ' cuba', ' antigua and barbuda', ' calabria',\n",
       "       ' alderney', ' puerto rico', ' hong kong', ' nigeria\"', ' latvia',\n",
       "       ' jersey', ' germany\"', ' luxembourg', ' belarus', ' cape verde\"',\n",
       "       ' lithuania', ' guyana', ' scotland', ' n/a', ' jordan',\n",
       "       ' la argentina', ' angola', ' algeria', ' andorra', ' kyrgyzstan',\n",
       "       ' panama', ' csa', ' ecuador', ' phils', ' kazakhstan',\n",
       "       ' dominican republic', ' turkey\"', ' brunei', ' bangladesh',\n",
       "       ' monterrey', ' bahrain', ' united arab emirates', ' urugua',\n",
       "       ' uruguay', ' l`italia', ' finland\"', ' honduras', ' georgia',\n",
       "       ' dominica', ' malta', ' india\"', ' faroe islands', ' east africa',\n",
       "       ' france\"', ' sierra leone', ' guatemala', ' mali',\n",
       "       ' czech republic', ' space', ' romania\"', ' south korea',\n",
       "       ' rwanda', ' trinidad and tobago', ' norway\"', ' yemen',\n",
       "       ' the philippines', ' öð¹ú', ' la france', ' eritrea', ' bahamas',\n",
       "       ' cameroon', ' nicaragua', ' zambia', ' bolivia', ' maroc',\n",
       "       ' isreal', ' belize', ' fernando de la mora', ' namibia',\n",
       "       ' macedonia', ' argentina\"', ' botswana', ' queenspark', ' monaco',\n",
       "       ' samoa', ' brasil', ' 19104', ' guernsey', ' euskal herria',\n",
       "       ' bermuda', ' barbados', ' trinidad', ' england', ' armenia',\n",
       "       ' hungary', ' deutschland', ' netherlands\"', ' austria\"',\n",
       "       ' cayman islands', ' ukraine', ' sweden\"', ' new zealand\"',\n",
       "       ' minnehaha', ' azerbaijan', ' galiza', ' de', ' switzerland\"',\n",
       "       ' suriname', ' doodedoo', ' jamaica', ' caribbean sea',\n",
       "       ' &#32654;&#22269;', ' u.s. virgin islands', ' u.s. of a.',\n",
       "       ' afganstand holla !!', ' catalunya', ' kosovo',\n",
       "       ' serbia & montenegro', ' somalia', ' moldova', ' pakistan.',\n",
       "       ' bangladesh\"', ' -------', ' trinidad & tobago', ' cyprus',\n",
       "       ' tanzania', ' burma', ' uk', ' ghana\"', ' turkei', ' ksa',\n",
       "       ' tajikistan', ' nepal', ' sri lanka\\\\\"n/a\\\\\"\"', ' valtesse',\n",
       "       ' lebanon', ' cote d`ivoire', ' maldives', ' catalunya(catalonia)',\n",
       "       ' mã?â©xico', ' nederlands', ' tdzimi', ' peru\"', ' hong kong\"',\n",
       "       ' oman', ' saint vincent and the grenadines\"', ' lleida',\n",
       "       ' antarctica', ' itlay', ' u.s.a.', ' palau', ' belgique',\n",
       "       ' st. vincent and the grenadines', ' deutsches reich',\n",
       "       ' catalonia', ' micronesia', ' kenya', ' collin', ' zhengjiang',\n",
       "       ' grenada', ' bhutan', ' baxter', ' guinea-bissau',\n",
       "       ' cote d`ivoire\"', ' evil empire', ' wales', ' mongolia',\n",
       "       ' hennipen', ' equatorial geuinea', ' italy\"', ' italia', ' rice',\n",
       "       ' good old usa !', ' philippines\"', ' polska', ' missouri',\n",
       "       ' goteborg', ' united states', ' senegal', ' bbbzzzzz',\n",
       "       ' saint lucia', ' zimbabwe', ' cass', ' baltimore', ' hampden',\n",
       "       ' thailand\"', ' ust', ' ama lurra', ' polk', ' hamilton', ' fiji',\n",
       "       ' bernalillo', ' effingham', ' lake', ' catalunya spain', ' *',\n",
       "       ' windham', ' belgium\"', ' ireland\"', ' papua new guinea',\n",
       "       ' costa rica\"', ' laos', ' slovakia\"', ' united stated',\n",
       "       ' the great white north', ' brazil\"',\n",
       "       ' saint vincent and the grenadines', ' burkina faso',\n",
       "       ' philippine', ' auckland', ' ?ú?{', ' c', ' gabon', ' pasco',\n",
       "       ' united states of america', ' ferrara', ' morgan', ' milano',\n",
       "       ' europe', ' slo', ' lkjlj', ' north korea', ' marrion',\n",
       "       ' commonwealth of northern mariana islands', ' mauritius',\n",
       "       ' benin', ' colombia\"', ' cnina', ' holy see', ' haiti', ' cn',\n",
       "       ' holland', ' jackson', ' cherokee', ' espaã?â±a', ' lazio',\n",
       "       ' dekalb', ' la belgique', ' maricopa', ' n/a - on the road',\n",
       "       ' ua', ' chile\"', ' algérie', ' san marino', ' nrw',\n",
       "       ' nyhamnsläge', ' egypt\"', ' aruba', ' richmond country',\n",
       "       ' srilanka', ' el salvador', ' slovenia\"', ' republic of korea',\n",
       "       ' luxembourg\"', ' côte d', ' saint loius', ' croatia\"', ' greece\"',\n",
       "       ' framingham', ' monroe', ' hornyonic', ' ouranos',\n",
       "       ' san bernardino', ' nyc', ' united kindgonm', ' ee.uu',\n",
       "       ' here and there', ' malawi', ' channel islands', ' espaã±a',\n",
       "       ' solomon islands', ' washtenaw', ' libya', ' universe', ' az',\n",
       "       ' suisse', ' uganda', ' la chine éternelle !', ' iceland\"',\n",
       "       ' macau', ' frome', ' brunei darussalam', ' netherlands antilles',\n",
       "       ' niger', ' cape town', ' st. helena', ' sultanate of oman',\n",
       "       ' aroostook', ' fredonia - land of the brave and free', ' china\"',\n",
       "       ' chad', ' la chine éternelle!', ' fifi', ' djibouti', ' america',\n",
       "       ' prince william', ' bademn würtemberg', ' marshall islands',\n",
       "       ' la suisse', ' gb', ' worcester', ' wood', ' rmi', ' hongkong',\n",
       "       ' serbia', ' méxico', ' poland\"', ' cape verde', ' congo',\n",
       "       ' osceola', ' van wert', ' deutschland\"', ' 87510', ' ä¸\\xadå?½',\n",
       "       ' lornsenland', ' hungary\"', ' saudia arabia', ' dublin', ' pr',\n",
       "       ' none', ' p.r.china', ' liberia', ' usa & canada', ' carter',\n",
       "       ' myanmar', ' rapides', ' american samoa', ' essex',\n",
       "       ' sao tome and principe\"', ' -', ' vietnam\"', ' aaa', ' can',\n",
       "       ' sicilia', ' sri lanka\"', ' english', ' singapore/united kingdom',\n",
       "       ' nowhere', ' scotland\"', ' alachua', ' macedonia\"', ' china öð¹ú',\n",
       "       ' czech republic\"', ' lombardia', ' cambodia', ' vanuatu',\n",
       "       ' turkmenistan', ' mérida', ' antigua & barbuda', ' hillsborough',\n",
       "       ' my', ' greece (=hellas)', ' isle of man', ' san franicsco',\n",
       "       ' u.s>', ' u.s.a!', ' 02458', ' 5057chadwick ct.',\n",
       "       ' the netherlands', ' south korea\"', ' far away...', ' us',\n",
       "       ' travelling', ' togo', ' belgi', ' pinallas', ' sudan\"',\n",
       "       ' guatemala\"', ' id', ' k1c7b1', ' orense', ' rutherford', ' pa',\n",
       "       ' bell', ' country', ' australia\"', ' serbia and montenegro',\n",
       "       ' mexico\"', ' .', ' camden', ' dfg', ' chian', ' strongbadia',\n",
       "       ' bfe', ' liaoning', ' united statea', ' china people`s republic',\n",
       "       ' italien', ' clinton', ' ventura county', ' berguedà',\n",
       "       ' basilicata', ' diy', ' ysa', 'lawrenceville', ' input error',\n",
       "       ' bladen', ' sardegna', ' thailoand', ' rosario',\n",
       "       ' the world tomorrow', ' perãº', ' u.s.a>', ' in your heart',\n",
       "       ' aotearoa', ' burkinafasu', ' adsgfdr', ' henry', ' kz',\n",
       "       ' singapore\"', ' good old u.s.a.', ' united stated of america',\n",
       "       ' unit', ' granville', ' england uk', ' trinidad and tobago\"',\n",
       "       ' petrolwar nation', ' guam', ' new london', ' harvatija',\n",
       "       ' 23232', ' copenhagen', ' burma\"', ' canda', ' prc', ' phippines',\n",
       "       ' jamaica\"', ' sardinia', ' u', ' oakland', ' lecce', ' u k',\n",
       "       ' moçambique', ' andorra\"', ' ventura', ' newzealand', ' europa',\n",
       "       ' shelby', ' p.r. china', ' malaysian', ' usa\"', ' fred',\n",
       "       ' usa (currently living in england)', ' tonga', ' roma', ' indiai',\n",
       "       ' cook', ' mordor', ' l`algérie', ' z', ' u.', ' fontana',\n",
       "       ' kiribati', ' australii', ' u.a.e\"', ' libya\"', ' uganda\"',\n",
       "       ' ukrain', ' onondaga nation', ' _ brasil', ' mauritius\"',\n",
       "       ' united kindgdom', ' hungary and usa', ' queensland', ' cananda',\n",
       "       ' pakistan\"', ' austbritania', ' united state', ' solano',\n",
       "       ' unite states', ' vorce', ' c.a.', ' pender',\n",
       "       ' la chine eternelle!', ' vicenza', ' p.r.c', ' xxxxxx',\n",
       "       ' espanha / galiza', ' maracopa', ' il canada',\n",
       "       ' republic of panama', ' phila', ' guinea', ' rsa', ' neverland',\n",
       "       ' west yorkshire', ' smith', ' pueblo', ' northern ireland',\n",
       "       ' pippo', ' türkiye', ' california', ' indonesia\"', ' uyo',\n",
       "       ' spotsylvania', ' der', ' swaziland', ' livingston', ' s.corea',\n",
       "       ' h.u.g.', ' ussurfing', ' phillipines', ' bosnia',\n",
       "       ' exactly where i am', ' cadd0', ' euskadi', ' canada eh', ' l',\n",
       "       ' le canada', ' korea', ' nh', ' uae', ' yanhill',\n",
       "       ' wonderful usa', ' burlington', ' uusa', ' madagascar',\n",
       "       ' rep san marino', ' swazilandia', ' u.k.', ' johnson', ' maine',\n",
       "       ' 30064', ' buncombe', ' bucks', ' santa barbara',\n",
       "       ' trinidad/tobago.', ' houston', ' slovak republik', ' fortaleza',\n",
       "       ' in', ' pistlavakia', ' bavaria', ' s.africa',\n",
       "       ' sao tome and principe', ' europe.', ' saint kitts and nevis',\n",
       "       ' palm beach', ' philippinies', ' north carolina',\n",
       "       ' los estados unidos de norte america', ' russian federation',\n",
       "       ' courtenay', ' mauritania', ' lee', ' comoros', ' hidalgo',\n",
       "       ' morocco\"', ' xinyu', ' lithuania\"', ' orange co', ' texas',\n",
       "       ' baden-württemberg', ' \\\\n/a\\\\\"\"', ' unknown', ' a', ' san mateo',\n",
       "       ' davidson', ' saint luica', ' 85021', ' tobago', ' vatican city',\n",
       "       ' ohio', ' venezuela\"', ' whatcom', ' madrid', ' toscana',\n",
       "       ' st. clair', ' butler', ' allen', ' autralia', ' fairyland',\n",
       "       ' we`re global!', ' thing', ' ahrensburg', ' kern', ' tanzania\"',\n",
       "       ' disgruntled states of america', ' cape may', ' the gambia',\n",
       "       ' españa\"', ' united sates', ' \\\\\"n/a\\\\\"\"', ' tyrtyrt',\n",
       "       ' mozambique\"', ' liushi', ' bih', ' w. malaysia', ' st.thomasi',\n",
       "       ' fort bend', ' geermany', ' fulton', ' le madagascar', ' yakima',\n",
       "       ' no more', ' dauphin', ' everywhere and anywhere', ' p r china',\n",
       "       ' citrus.', ' 01776', ' home of the van!!',\n",
       "       ' people`s republic of china', ' lane', ' x', ' chinaöð¹ú',\n",
       "       ' galiza neghra', ' united staes', ' asturies', ' nl',\n",
       "       ' &#20013;&#22269;', ' germay', ' yunling', ' rep. san marino',\n",
       "       ' r.o.c.', ' victoria', ' bkk', ' la svizzera', ' hernando',\n",
       "       ' united kingdom.'], dtype=object)"
      ]
     },
     "execution_count": 50,
     "metadata": {},
     "output_type": "execute_result"
    }
   ],
   "source": [
    "# TO know the unique values in the country column\n",
    "new_user['country'].unique()"
   ]
  },
  {
   "cell_type": "code",
   "execution_count": 51,
   "id": "365049ad",
   "metadata": {
    "ExecuteTime": {
     "end_time": "2023-06-07T05:28:21.212173Z",
     "start_time": "2023-06-07T05:28:21.184447Z"
    }
   },
   "outputs": [],
   "source": [
    "new_user['country']=new_user['country'].astype('str')"
   ]
  },
  {
   "cell_type": "code",
   "execution_count": 52,
   "id": "4f5c9de6",
   "metadata": {
    "ExecuteTime": {
     "end_time": "2023-06-07T05:28:21.355158Z",
     "start_time": "2023-06-07T05:28:21.216162Z"
    }
   },
   "outputs": [],
   "source": [
    "new_user['country'].replace(['01776', '02458', '19104', '23232', '30064', '85021', '87510', 'None'],\n",
    "                        ['usa','usa','usa','usa','usa','usa','usa','others'],inplace=True)"
   ]
  },
  {
   "cell_type": "code",
   "execution_count": 53,
   "id": "c3bb49c6",
   "metadata": {
    "ExecuteTime": {
     "end_time": "2023-06-07T05:28:21.749363Z",
     "start_time": "2023-06-07T05:28:21.357774Z"
    }
   },
   "outputs": [
    {
     "data": {
      "text/plain": [
       "Text(0.5, 1.0, 'Count of users Country wise')"
      ]
     },
     "execution_count": 53,
     "metadata": {},
     "output_type": "execute_result"
    },
    {
     "data": {
      "image/png": "[encoded data removed]",
      "text/plain": [
       "<Figure size 1500x700 with 1 Axes>"
      ]
     },
     "metadata": {},
     "output_type": "display_data"
    }
   ],
   "source": [
    "plt.figure(figsize=(15,7))\n",
    "sns.countplot(y='country',data=new_user,order=pd.value_counts(new_user['country']).iloc[:10].index)\n",
    "plt.title('Count of users Country wise')"
   ]
  },
  {
   "cell_type": "markdown",
   "id": "63bf0dc1",
   "metadata": {},
   "source": [
    "- From the above column we conclude that we have most of the readers from USA followed by Canada, UK etc."
   ]
  },
  {
   "cell_type": "markdown",
   "id": "f50dd041",
   "metadata": {},
   "source": [
    "# Checking Ratings Data"
   ]
  },
  {
   "cell_type": "code",
   "execution_count": 54,
   "id": "3e6e95dc",
   "metadata": {
    "ExecuteTime": {
     "end_time": "2023-06-07T05:28:21.938951Z",
     "start_time": "2023-06-07T05:28:21.753361Z"
    }
   },
   "outputs": [
    {
     "data": {
      "text/plain": [
       "userId        0\n",
       "ISBN          0\n",
       "bookRating    0\n",
       "dtype: int64"
      ]
     },
     "execution_count": 54,
     "metadata": {},
     "output_type": "execute_result"
    }
   ],
   "source": [
    "ratings.isnull().sum()"
   ]
  },
  {
   "cell_type": "code",
   "execution_count": 55,
   "id": "cc92827f",
   "metadata": {
    "ExecuteTime": {
     "end_time": "2023-06-07T05:28:22.460980Z",
     "start_time": "2023-06-07T05:28:21.941348Z"
    }
   },
   "outputs": [
    {
     "data": {
      "text/plain": [
       "0"
      ]
     },
     "execution_count": 55,
     "metadata": {},
     "output_type": "execute_result"
    }
   ],
   "source": [
    "ratings.duplicated().sum()"
   ]
  },
  {
   "cell_type": "code",
   "execution_count": 56,
   "id": "a512ebcb",
   "metadata": {
    "ExecuteTime": {
     "end_time": "2023-06-07T05:28:22.697006Z",
     "start_time": "2023-06-07T05:28:22.464289Z"
    }
   },
   "outputs": [
    {
     "name": "stdout",
     "output_type": "stream",
     "text": [
      "<class 'pandas.core.frame.DataFrame'>\n",
      "RangeIndex: 1149780 entries, 0 to 1149779\n",
      "Data columns (total 3 columns):\n",
      " #   Column      Non-Null Count    Dtype \n",
      "---  ------      --------------    ----- \n",
      " 0   userId      1149780 non-null  int64 \n",
      " 1   ISBN        1149780 non-null  object\n",
      " 2   bookRating  1149780 non-null  int64 \n",
      "dtypes: int64(2), object(1)\n",
      "memory usage: 26.3+ MB\n"
     ]
    }
   ],
   "source": [
    "ratings.info()"
   ]
  },
  {
   "cell_type": "code",
   "execution_count": 57,
   "id": "41e416ff",
   "metadata": {
    "ExecuteTime": {
     "end_time": "2023-06-07T05:28:22.728658Z",
     "start_time": "2023-06-07T05:28:22.699985Z"
    }
   },
   "outputs": [
    {
     "data": {
      "text/plain": [
       "array([ 0,  5,  3,  6,  8,  7, 10,  9,  4,  1,  2], dtype=int64)"
      ]
     },
     "execution_count": 57,
     "metadata": {},
     "output_type": "execute_result"
    }
   ],
   "source": [
    "ratings.bookRating.unique()"
   ]
  },
  {
   "cell_type": "code",
   "execution_count": 58,
   "id": "a4fc576a",
   "metadata": {
    "ExecuteTime": {
     "end_time": "2023-06-07T05:28:22.760647Z",
     "start_time": "2023-06-07T05:28:22.731426Z"
    }
   },
   "outputs": [
    {
     "data": {
      "text/plain": [
       "0     716109\n",
       "8     103736\n",
       "10     78610\n",
       "7      76457\n",
       "9      67541\n",
       "5      50974\n",
       "6      36924\n",
       "4       8904\n",
       "3       5996\n",
       "2       2759\n",
       "1       1770\n",
       "Name: bookRating, dtype: int64"
      ]
     },
     "execution_count": 58,
     "metadata": {},
     "output_type": "execute_result"
    }
   ],
   "source": [
    "# To know the top rating\n",
    "ratings.bookRating.value_counts()"
   ]
  },
  {
   "cell_type": "code",
   "execution_count": 59,
   "id": "c303728a",
   "metadata": {
    "ExecuteTime": {
     "end_time": "2023-06-07T05:28:23.107759Z",
     "start_time": "2023-06-07T05:28:22.766286Z"
    }
   },
   "outputs": [
    {
     "data": {
      "image/png": "[encoded data removed]",
      "text/plain": [
       "<Figure size 640x480 with 1 Axes>"
      ]
     },
     "metadata": {},
     "output_type": "display_data"
    }
   ],
   "source": [
    "sns.set_style('darkgrid')\n",
    "sns.countplot(data= ratings , x='bookRating')\n",
    "plt.show()"
   ]
  },
  {
   "cell_type": "markdown",
   "id": "1151eefe",
   "metadata": {},
   "source": [
    "- This countplot shows users have rated 0 the most, which can mean they haven't rated bokks at all. We have to separate the explicit ratings represented by 1–10 and implicit ratings represented by 0."
   ]
  },
  {
   "cell_type": "code",
   "execution_count": 60,
   "id": "bea3abcd",
   "metadata": {
    "ExecuteTime": {
     "end_time": "2023-06-07T05:28:23.186621Z",
     "start_time": "2023-06-07T05:28:23.110293Z"
    }
   },
   "outputs": [],
   "source": [
    "exp_rating= ratings[ratings['bookRating'] != 0]\n",
    "imp_rating= ratings[ratings['bookRating'] == 0]"
   ]
  },
  {
   "cell_type": "code",
   "execution_count": 61,
   "id": "4bb0a0bc",
   "metadata": {
    "ExecuteTime": {
     "end_time": "2023-06-07T05:28:23.409632Z",
     "start_time": "2023-06-07T05:28:23.190273Z"
    }
   },
   "outputs": [
    {
     "data": {
      "image/png": "[encoded data removed]",
      "text/plain": [
       "<Figure size 640x480 with 1 Axes>"
      ]
     },
     "metadata": {},
     "output_type": "display_data"
    }
   ],
   "source": [
    "sns.set_style('darkgrid')\n",
    "sns.countplot(data= exp_rating , x='bookRating')\n",
    "plt.show()"
   ]
  },
  {
   "cell_type": "markdown",
   "id": "755a8a82",
   "metadata": {
    "ExecuteTime": {
     "end_time": "2023-05-24T05:54:34.260653Z",
     "start_time": "2023-05-24T05:54:34.236083Z"
    }
   },
   "source": [
    "- From above graph we conclude the rating, users have giving 8 as the most rating."
   ]
  },
  {
   "cell_type": "markdown",
   "id": "f7d3ece2",
   "metadata": {},
   "source": [
    "# Merging the Dataset"
   ]
  },
  {
   "cell_type": "code",
   "execution_count": 62,
   "id": "7d4e342e",
   "metadata": {
    "ExecuteTime": {
     "end_time": "2023-06-07T05:28:24.505067Z",
     "start_time": "2023-06-07T05:28:23.409632Z"
    }
   },
   "outputs": [
    {
     "data": {
      "text/html": [
       "<div>\n",
       "<style scoped>\n",
       "    .dataframe tbody tr th:only-of-type {\n",
       "        vertical-align: middle;\n",
       "    }\n",
       "\n",
       "    .dataframe tbody tr th {\n",
       "        vertical-align: top;\n",
       "    }\n",
       "\n",
       "    .dataframe thead th {\n",
       "        text-align: right;\n",
       "    }\n",
       "</style>\n",
       "<table border=\"1\" class=\"dataframe\">\n",
       "  <thead>\n",
       "    <tr style=\"text-align: right;\">\n",
       "      <th></th>\n",
       "      <th>ISBN</th>\n",
       "      <th>bookTitle</th>\n",
       "      <th>bookAuthor</th>\n",
       "      <th>yearOfPublication</th>\n",
       "      <th>publisher</th>\n",
       "      <th>imageUrlM</th>\n",
       "      <th>userId</th>\n",
       "      <th>bookRating</th>\n",
       "    </tr>\n",
       "  </thead>\n",
       "  <tbody>\n",
       "    <tr>\n",
       "      <th>0</th>\n",
       "      <td>0195153448</td>\n",
       "      <td>Classical Mythology</td>\n",
       "      <td>Mark P. O. Morford</td>\n",
       "      <td>2002</td>\n",
       "      <td>Oxford University Press</td>\n",
       "      <td>http://images.amazon.com/images/P/0195153448.0...</td>\n",
       "      <td>2</td>\n",
       "      <td>0</td>\n",
       "    </tr>\n",
       "    <tr>\n",
       "      <th>1</th>\n",
       "      <td>0002005018</td>\n",
       "      <td>Clara Callan</td>\n",
       "      <td>Richard Bruce Wright</td>\n",
       "      <td>2001</td>\n",
       "      <td>HarperFlamingo Canada</td>\n",
       "      <td>http://images.amazon.com/images/P/0002005018.0...</td>\n",
       "      <td>8</td>\n",
       "      <td>5</td>\n",
       "    </tr>\n",
       "    <tr>\n",
       "      <th>2</th>\n",
       "      <td>0002005018</td>\n",
       "      <td>Clara Callan</td>\n",
       "      <td>Richard Bruce Wright</td>\n",
       "      <td>2001</td>\n",
       "      <td>HarperFlamingo Canada</td>\n",
       "      <td>http://images.amazon.com/images/P/0002005018.0...</td>\n",
       "      <td>11400</td>\n",
       "      <td>0</td>\n",
       "    </tr>\n",
       "    <tr>\n",
       "      <th>3</th>\n",
       "      <td>0002005018</td>\n",
       "      <td>Clara Callan</td>\n",
       "      <td>Richard Bruce Wright</td>\n",
       "      <td>2001</td>\n",
       "      <td>HarperFlamingo Canada</td>\n",
       "      <td>http://images.amazon.com/images/P/0002005018.0...</td>\n",
       "      <td>11676</td>\n",
       "      <td>8</td>\n",
       "    </tr>\n",
       "    <tr>\n",
       "      <th>4</th>\n",
       "      <td>0002005018</td>\n",
       "      <td>Clara Callan</td>\n",
       "      <td>Richard Bruce Wright</td>\n",
       "      <td>2001</td>\n",
       "      <td>HarperFlamingo Canada</td>\n",
       "      <td>http://images.amazon.com/images/P/0002005018.0...</td>\n",
       "      <td>41385</td>\n",
       "      <td>0</td>\n",
       "    </tr>\n",
       "  </tbody>\n",
       "</table>\n",
       "</div>"
      ],
      "text/plain": [
       "         ISBN            bookTitle            bookAuthor  yearOfPublication  \\\n",
       "0  0195153448  Classical Mythology    Mark P. O. Morford               2002   \n",
       "1  0002005018         Clara Callan  Richard Bruce Wright               2001   \n",
       "2  0002005018         Clara Callan  Richard Bruce Wright               2001   \n",
       "3  0002005018         Clara Callan  Richard Bruce Wright               2001   \n",
       "4  0002005018         Clara Callan  Richard Bruce Wright               2001   \n",
       "\n",
       "                 publisher                                          imageUrlM  \\\n",
       "0  Oxford University Press  http://images.amazon.com/images/P/0195153448.0...   \n",
       "1    HarperFlamingo Canada  http://images.amazon.com/images/P/0002005018.0...   \n",
       "2    HarperFlamingo Canada  http://images.amazon.com/images/P/0002005018.0...   \n",
       "3    HarperFlamingo Canada  http://images.amazon.com/images/P/0002005018.0...   \n",
       "4    HarperFlamingo Canada  http://images.amazon.com/images/P/0002005018.0...   \n",
       "\n",
       "   userId  bookRating  \n",
       "0       2           0  \n",
       "1       8           5  \n",
       "2   11400           0  \n",
       "3   11676           8  \n",
       "4   41385           0  "
      ]
     },
     "execution_count": 62,
     "metadata": {},
     "output_type": "execute_result"
    }
   ],
   "source": [
    "merged_data = pd.merge(books, ratings, on='ISBN')\n",
    "merged_data.head()"
   ]
  },
  {
   "cell_type": "code",
   "execution_count": 63,
   "id": "421aad02",
   "metadata": {
    "ExecuteTime": {
     "end_time": "2023-06-07T05:28:25.659467Z",
     "start_time": "2023-06-07T05:28:24.508593Z"
    }
   },
   "outputs": [
    {
     "data": {
      "text/html": [
       "<div>\n",
       "<style scoped>\n",
       "    .dataframe tbody tr th:only-of-type {\n",
       "        vertical-align: middle;\n",
       "    }\n",
       "\n",
       "    .dataframe tbody tr th {\n",
       "        vertical-align: top;\n",
       "    }\n",
       "\n",
       "    .dataframe thead th {\n",
       "        text-align: right;\n",
       "    }\n",
       "</style>\n",
       "<table border=\"1\" class=\"dataframe\">\n",
       "  <thead>\n",
       "    <tr style=\"text-align: right;\">\n",
       "      <th></th>\n",
       "      <th>ISBN</th>\n",
       "      <th>bookTitle</th>\n",
       "      <th>bookAuthor</th>\n",
       "      <th>yearOfPublication</th>\n",
       "      <th>publisher</th>\n",
       "      <th>imageUrlM</th>\n",
       "      <th>userId</th>\n",
       "      <th>bookRating</th>\n",
       "      <th>Location</th>\n",
       "      <th>Age</th>\n",
       "      <th>Age_group</th>\n",
       "      <th>country</th>\n",
       "    </tr>\n",
       "  </thead>\n",
       "  <tbody>\n",
       "    <tr>\n",
       "      <th>0</th>\n",
       "      <td>0195153448</td>\n",
       "      <td>Classical Mythology</td>\n",
       "      <td>Mark P. O. Morford</td>\n",
       "      <td>2002</td>\n",
       "      <td>Oxford University Press</td>\n",
       "      <td>http://images.amazon.com/images/P/0195153448.0...</td>\n",
       "      <td>2</td>\n",
       "      <td>0</td>\n",
       "      <td>stockton, california, usa</td>\n",
       "      <td>18</td>\n",
       "      <td>Youth</td>\n",
       "      <td>usa</td>\n",
       "    </tr>\n",
       "    <tr>\n",
       "      <th>1</th>\n",
       "      <td>0002005018</td>\n",
       "      <td>Clara Callan</td>\n",
       "      <td>Richard Bruce Wright</td>\n",
       "      <td>2001</td>\n",
       "      <td>HarperFlamingo Canada</td>\n",
       "      <td>http://images.amazon.com/images/P/0002005018.0...</td>\n",
       "      <td>8</td>\n",
       "      <td>5</td>\n",
       "      <td>timmins, ontario, canada</td>\n",
       "      <td>34</td>\n",
       "      <td>Youth</td>\n",
       "      <td>canada</td>\n",
       "    </tr>\n",
       "    <tr>\n",
       "      <th>2</th>\n",
       "      <td>0060973129</td>\n",
       "      <td>Decision in Normandy</td>\n",
       "      <td>Carlo D'Este</td>\n",
       "      <td>1991</td>\n",
       "      <td>HarperPerennial</td>\n",
       "      <td>http://images.amazon.com/images/P/0060973129.0...</td>\n",
       "      <td>8</td>\n",
       "      <td>0</td>\n",
       "      <td>timmins, ontario, canada</td>\n",
       "      <td>34</td>\n",
       "      <td>Youth</td>\n",
       "      <td>canada</td>\n",
       "    </tr>\n",
       "    <tr>\n",
       "      <th>3</th>\n",
       "      <td>0374157065</td>\n",
       "      <td>Flu: The Story of the Great Influenza Pandemic...</td>\n",
       "      <td>Gina Bari Kolata</td>\n",
       "      <td>1999</td>\n",
       "      <td>Farrar Straus Giroux</td>\n",
       "      <td>http://images.amazon.com/images/P/0374157065.0...</td>\n",
       "      <td>8</td>\n",
       "      <td>0</td>\n",
       "      <td>timmins, ontario, canada</td>\n",
       "      <td>34</td>\n",
       "      <td>Youth</td>\n",
       "      <td>canada</td>\n",
       "    </tr>\n",
       "    <tr>\n",
       "      <th>4</th>\n",
       "      <td>0393045218</td>\n",
       "      <td>The Mummies of Urumchi</td>\n",
       "      <td>E. J. W. Barber</td>\n",
       "      <td>1999</td>\n",
       "      <td>W. W. Norton &amp;amp; Company</td>\n",
       "      <td>http://images.amazon.com/images/P/0393045218.0...</td>\n",
       "      <td>8</td>\n",
       "      <td>0</td>\n",
       "      <td>timmins, ontario, canada</td>\n",
       "      <td>34</td>\n",
       "      <td>Youth</td>\n",
       "      <td>canada</td>\n",
       "    </tr>\n",
       "  </tbody>\n",
       "</table>\n",
       "</div>"
      ],
      "text/plain": [
       "         ISBN                                          bookTitle  \\\n",
       "0  0195153448                                Classical Mythology   \n",
       "1  0002005018                                       Clara Callan   \n",
       "2  0060973129                               Decision in Normandy   \n",
       "3  0374157065  Flu: The Story of the Great Influenza Pandemic...   \n",
       "4  0393045218                             The Mummies of Urumchi   \n",
       "\n",
       "             bookAuthor  yearOfPublication                   publisher  \\\n",
       "0    Mark P. O. Morford               2002     Oxford University Press   \n",
       "1  Richard Bruce Wright               2001       HarperFlamingo Canada   \n",
       "2          Carlo D'Este               1991             HarperPerennial   \n",
       "3      Gina Bari Kolata               1999        Farrar Straus Giroux   \n",
       "4       E. J. W. Barber               1999  W. W. Norton &amp; Company   \n",
       "\n",
       "                                           imageUrlM  userId  bookRating  \\\n",
       "0  http://images.amazon.com/images/P/0195153448.0...       2           0   \n",
       "1  http://images.amazon.com/images/P/0002005018.0...       8           5   \n",
       "2  http://images.amazon.com/images/P/0060973129.0...       8           0   \n",
       "3  http://images.amazon.com/images/P/0374157065.0...       8           0   \n",
       "4  http://images.amazon.com/images/P/0393045218.0...       8           0   \n",
       "\n",
       "                    Location  Age Age_group  country  \n",
       "0  stockton, california, usa   18     Youth      usa  \n",
       "1   timmins, ontario, canada   34     Youth   canada  \n",
       "2   timmins, ontario, canada   34     Youth   canada  \n",
       "3   timmins, ontario, canada   34     Youth   canada  \n",
       "4   timmins, ontario, canada   34     Youth   canada  "
      ]
     },
     "execution_count": 63,
     "metadata": {},
     "output_type": "execute_result"
    }
   ],
   "source": [
    "data = pd.merge(merged_data, new_user,  on='userId')\n",
    "data.head()"
   ]
  },
  {
   "cell_type": "markdown",
   "id": "eea2886c",
   "metadata": {},
   "source": [
    "# Data Visualization"
   ]
  },
  {
   "cell_type": "markdown",
   "id": "2d3bcf97",
   "metadata": {},
   "source": [
    "### Top rated books on the basis of Average Rating"
   ]
  },
  {
   "cell_type": "code",
   "execution_count": 64,
   "id": "bb4cade6",
   "metadata": {
    "ExecuteTime": {
     "end_time": "2023-06-07T05:28:27.135602Z",
     "start_time": "2023-06-07T05:28:25.663021Z"
    }
   },
   "outputs": [
    {
     "data": {
      "text/html": [
       "<div>\n",
       "<style scoped>\n",
       "    .dataframe tbody tr th:only-of-type {\n",
       "        vertical-align: middle;\n",
       "    }\n",
       "\n",
       "    .dataframe tbody tr th {\n",
       "        vertical-align: top;\n",
       "    }\n",
       "\n",
       "    .dataframe thead th {\n",
       "        text-align: right;\n",
       "    }\n",
       "</style>\n",
       "<table border=\"1\" class=\"dataframe\">\n",
       "  <thead>\n",
       "    <tr style=\"text-align: right;\">\n",
       "      <th></th>\n",
       "      <th>bookTitle</th>\n",
       "      <th>bookRating</th>\n",
       "    </tr>\n",
       "  </thead>\n",
       "  <tbody>\n",
       "    <tr>\n",
       "      <th>0</th>\n",
       "      <td>Usborne Greek Myths (Usborne Miniature Editions)</td>\n",
       "      <td>10.0</td>\n",
       "    </tr>\n",
       "    <tr>\n",
       "      <th>1</th>\n",
       "      <td>Facts on File Dictionary of Cultural and Histo...</td>\n",
       "      <td>10.0</td>\n",
       "    </tr>\n",
       "    <tr>\n",
       "      <th>2</th>\n",
       "      <td>Photomosaics</td>\n",
       "      <td>10.0</td>\n",
       "    </tr>\n",
       "    <tr>\n",
       "      <th>3</th>\n",
       "      <td>LÃ?Â©on</td>\n",
       "      <td>10.0</td>\n",
       "    </tr>\n",
       "    <tr>\n",
       "      <th>4</th>\n",
       "      <td>Fade to Black (Point Crime S.)</td>\n",
       "      <td>10.0</td>\n",
       "    </tr>\n",
       "  </tbody>\n",
       "</table>\n",
       "</div>"
      ],
      "text/plain": [
       "                                           bookTitle  bookRating\n",
       "0   Usborne Greek Myths (Usborne Miniature Editions)        10.0\n",
       "1  Facts on File Dictionary of Cultural and Histo...        10.0\n",
       "2                                       Photomosaics        10.0\n",
       "3                                            LÃ?Â©on        10.0\n",
       "4                     Fade to Black (Point Crime S.)        10.0"
      ]
     },
     "execution_count": 64,
     "metadata": {},
     "output_type": "execute_result"
    }
   ],
   "source": [
    "top_rated = data[['bookTitle','bookRating']]\n",
    "top_rated = top_rated.groupby('bookTitle', as_index=False)['bookRating'].mean()\n",
    "top_rated = top_rated.sort_values('bookRating',ascending=False).reset_index()\n",
    "top_rated = top_rated[['bookTitle','bookRating']]\n",
    "\n",
    "top_rated.head()"
   ]
  },
  {
   "cell_type": "code",
   "execution_count": 65,
   "id": "4fc4f8f7",
   "metadata": {
    "ExecuteTime": {
     "end_time": "2023-06-07T05:28:27.151653Z",
     "start_time": "2023-06-07T05:28:27.138335Z"
    }
   },
   "outputs": [
    {
     "data": {
      "text/html": [
       "<div>\n",
       "<style scoped>\n",
       "    .dataframe tbody tr th:only-of-type {\n",
       "        vertical-align: middle;\n",
       "    }\n",
       "\n",
       "    .dataframe tbody tr th {\n",
       "        vertical-align: top;\n",
       "    }\n",
       "\n",
       "    .dataframe thead th {\n",
       "        text-align: right;\n",
       "    }\n",
       "</style>\n",
       "<table border=\"1\" class=\"dataframe\">\n",
       "  <thead>\n",
       "    <tr style=\"text-align: right;\">\n",
       "      <th></th>\n",
       "      <th>bookTitle</th>\n",
       "      <th>bookRating</th>\n",
       "    </tr>\n",
       "  </thead>\n",
       "  <tbody>\n",
       "    <tr>\n",
       "      <th>240503</th>\n",
       "      <td>Deficit Ending</td>\n",
       "      <td>0.0</td>\n",
       "    </tr>\n",
       "    <tr>\n",
       "      <th>240504</th>\n",
       "      <td>Promise of Fire</td>\n",
       "      <td>0.0</td>\n",
       "    </tr>\n",
       "    <tr>\n",
       "      <th>240505</th>\n",
       "      <td>Promise in Paradise</td>\n",
       "      <td>0.0</td>\n",
       "    </tr>\n",
       "    <tr>\n",
       "      <th>240506</th>\n",
       "      <td>Promise Twice: A Murder Mystery</td>\n",
       "      <td>0.0</td>\n",
       "    </tr>\n",
       "    <tr>\n",
       "      <th>240507</th>\n",
       "      <td>Simple Signs (Picture Puffins)</td>\n",
       "      <td>0.0</td>\n",
       "    </tr>\n",
       "  </tbody>\n",
       "</table>\n",
       "</div>"
      ],
      "text/plain": [
       "                              bookTitle  bookRating\n",
       "240503                   Deficit Ending         0.0\n",
       "240504                  Promise of Fire         0.0\n",
       "240505              Promise in Paradise         0.0\n",
       "240506  Promise Twice: A Murder Mystery         0.0\n",
       "240507   Simple Signs (Picture Puffins)         0.0"
      ]
     },
     "execution_count": 65,
     "metadata": {},
     "output_type": "execute_result"
    }
   ],
   "source": [
    "top_rated.tail()"
   ]
  },
  {
   "cell_type": "markdown",
   "id": "e65a4a38",
   "metadata": {},
   "source": [
    "- What : I have made a different dataframe to store the top rated books on the basis of there average rating.\n",
    "- How : I have made a dataframe as top_rated with booktitle and take the average rating for the indiviual book to store it in bookrating column\n",
    "- Why : There are many books which are rate only once, so this cannot show us good visualization."
   ]
  },
  {
   "cell_type": "markdown",
   "id": "a96891c2",
   "metadata": {},
   "source": [
    "### Graph representing most frequently rated Authors"
   ]
  },
  {
   "cell_type": "code",
   "execution_count": 66,
   "id": "ee0987f4",
   "metadata": {
    "ExecuteTime": {
     "end_time": "2023-06-07T05:28:27.595437Z",
     "start_time": "2023-06-07T05:28:27.154087Z"
    }
   },
   "outputs": [],
   "source": [
    "# ratings count per author\n",
    "auth_rating=data.groupby(['bookAuthor'])['bookRating'].count().sort_values(ascending=False).reset_index()"
   ]
  },
  {
   "cell_type": "code",
   "execution_count": 67,
   "id": "2efa0e09",
   "metadata": {
    "ExecuteTime": {
     "end_time": "2023-06-07T05:28:27.881810Z",
     "start_time": "2023-06-07T05:28:27.600089Z"
    }
   },
   "outputs": [
    {
     "data": {
      "text/plain": [
       "(array([ 0,  1,  2,  3,  4,  5,  6,  7,  8,  9, 10]),\n",
       " [Text(0, 0, 'Stephen King'),\n",
       "  Text(1, 0, 'Nora Roberts'),\n",
       "  Text(2, 0, 'John Grisham'),\n",
       "  Text(3, 0, 'James Patterson'),\n",
       "  Text(4, 0, 'Mary Higgins Clark'),\n",
       "  Text(5, 0, 'Dean R. Koontz'),\n",
       "  Text(6, 0, 'Tom Clancy'),\n",
       "  Text(7, 0, 'Danielle Steel'),\n",
       "  Text(8, 0, 'Sue Grafton'),\n",
       "  Text(9, 0, 'Janet Evanovich'),\n",
       "  Text(10, 0, 'Anne Rice')])"
      ]
     },
     "execution_count": 67,
     "metadata": {},
     "output_type": "execute_result"
    },
    {
     "data": {
      "image/png": "[encoded data removed]",
      "text/plain": [
       "<Figure size 1200x800 with 1 Axes>"
      ]
     },
     "metadata": {},
     "output_type": "display_data"
    }
   ],
   "source": [
    "plt.figure(figsize=(12,8))\n",
    "sns.barplot(auth_rating[auth_rating['bookRating']>3000]['bookAuthor'],auth_rating[auth_rating['bookRating']>3000]['bookRating'])\n",
    "plt.title('Author V/S Ratings')\n",
    "plt.xticks(rotation=25)"
   ]
  },
  {
   "cell_type": "markdown",
   "id": "6aff8d56",
   "metadata": {},
   "source": [
    "- The purpose of creating this graph is to analyze and understand which authors have received the most ratings from readers or reviewers. By examining the frequency of ratings, you can gain insights into the popularity, influence, and reception of different authors' works."
   ]
  },
  {
   "cell_type": "markdown",
   "id": "8d750fbe",
   "metadata": {},
   "source": [
    "### Most frequently rated books by the users"
   ]
  },
  {
   "cell_type": "code",
   "execution_count": 68,
   "id": "fb160883",
   "metadata": {
    "ExecuteTime": {
     "end_time": "2023-06-07T05:28:28.818433Z",
     "start_time": "2023-06-07T05:28:27.884720Z"
    }
   },
   "outputs": [],
   "source": [
    "#Book ratings count using group by\n",
    "book_rating=data.groupby(['bookTitle'])['bookRating'].count().sort_values(ascending=False).reset_index()"
   ]
  },
  {
   "cell_type": "code",
   "execution_count": 69,
   "id": "734e366d",
   "metadata": {
    "ExecuteTime": {
     "end_time": "2023-06-07T05:28:29.181570Z",
     "start_time": "2023-06-07T05:28:28.820060Z"
    }
   },
   "outputs": [
    {
     "data": {
      "text/plain": [
       "Text(0, 0.5, 'Book-Titles')"
      ]
     },
     "execution_count": 69,
     "metadata": {},
     "output_type": "execute_result"
    },
    {
     "data": {
      "image/png": "[encoded data removed]",
      "text/plain": [
       "<Figure size 1500x800 with 1 Axes>"
      ]
     },
     "metadata": {},
     "output_type": "display_data"
    }
   ],
   "source": [
    "plt.figure(figsize=(15,8))\n",
    "sns.barplot(book_rating['bookRating'][:10],book_rating['bookTitle'][:10])\n",
    "plt.title('Book Ratings Count')\n",
    "plt.xlabel('Ratings-Count')\n",
    "plt.ylabel('Book-Titles')"
   ]
  },
  {
   "cell_type": "markdown",
   "id": "8ff1ca8e",
   "metadata": {},
   "source": [
    "- From the above graph we conclude the top 10 most rated books by the users."
   ]
  },
  {
   "cell_type": "markdown",
   "id": "1a96c330",
   "metadata": {},
   "source": [
    "### Country with most Reader"
   ]
  },
  {
   "cell_type": "code",
   "execution_count": 70,
   "id": "6fb883e9",
   "metadata": {
    "ExecuteTime": {
     "end_time": "2023-06-07T05:28:29.213763Z",
     "start_time": "2023-06-07T05:28:29.184595Z"
    }
   },
   "outputs": [],
   "source": [
    "## #Identifying what % of customers are coming from different countries\n",
    "new_user = pd.DataFrame(new_user.country.value_counts(normalize=True)).reset_index()\n",
    "new_user.columns = ['countries','value_counts']"
   ]
  },
  {
   "cell_type": "code",
   "execution_count": 71,
   "id": "044a4d77",
   "metadata": {
    "ExecuteTime": {
     "end_time": "2023-06-07T05:28:29.244925Z",
     "start_time": "2023-06-07T05:28:29.217535Z"
    }
   },
   "outputs": [],
   "source": [
    "#Labeling countries with low customer % as other\n",
    "new_user['countries'] = new_user.apply(lambda x: 'other' if (x['value_counts'] < 0.01 or x['countries'] == '') else x['countries'],axis=1)"
   ]
  },
  {
   "cell_type": "code",
   "execution_count": 72,
   "id": "99ac13cc",
   "metadata": {
    "ExecuteTime": {
     "end_time": "2023-06-07T05:28:29.260643Z",
     "start_time": "2023-06-07T05:28:29.244925Z"
    }
   },
   "outputs": [],
   "source": [
    "#Grouping the customer % from 'other' countries \n",
    "new_user = new_user.groupby('countries')['value_counts'].sum().reset_index()"
   ]
  },
  {
   "cell_type": "code",
   "execution_count": 73,
   "id": "301fbec8",
   "metadata": {
    "ExecuteTime": {
     "end_time": "2023-06-07T05:28:29.276284Z",
     "start_time": "2023-06-07T05:28:29.265015Z"
    },
    "scrolled": true
   },
   "outputs": [
    {
     "data": {
      "text/plain": [
       " australia         1\n",
       " canada            1\n",
       " france            1\n",
       " germany           1\n",
       " italy             1\n",
       " netherlands       1\n",
       " new zealand       1\n",
       " portugal          1\n",
       " spain             1\n",
       " united kingdom    1\n",
       " usa               1\n",
       "other              1\n",
       "Name: countries, dtype: int64"
      ]
     },
     "execution_count": 73,
     "metadata": {},
     "output_type": "execute_result"
    }
   ],
   "source": [
    "#Every country has now just one occurance\n",
    "new_user.countries.value_counts()"
   ]
  },
  {
   "cell_type": "code",
   "execution_count": 74,
   "id": "d809f898",
   "metadata": {
    "ExecuteTime": {
     "end_time": "2023-06-07T05:28:29.291600Z",
     "start_time": "2023-06-07T05:28:29.279621Z"
    }
   },
   "outputs": [
    {
     "data": {
      "text/plain": [
       "['Australia',\n",
       " 'Canada',\n",
       " 'France',\n",
       " 'Germany',\n",
       " 'Italy',\n",
       " 'Netherlands',\n",
       " 'New Zealand',\n",
       " 'Portugal',\n",
       " 'Spain',\n",
       " 'United Kingdom',\n",
       " 'USA']"
      ]
     },
     "execution_count": 74,
     "metadata": {},
     "output_type": "execute_result"
    }
   ],
   "source": [
    "country_list = ['Australia', 'Canada', 'France', 'Germany', 'Italy', 'Netherlands', 'New Zealand', 'Portugal', 'Spain', 'United Kingdom', 'USA']\n",
    "country_list"
   ]
  },
  {
   "cell_type": "code",
   "execution_count": 75,
   "id": "c0ee86eb",
   "metadata": {
    "ExecuteTime": {
     "end_time": "2023-06-07T05:28:29.496505Z",
     "start_time": "2023-06-07T05:28:29.293271Z"
    }
   },
   "outputs": [
    {
     "data": {
      "image/png": "[encoded data removed]",
      "text/plain": [
       "<Figure size 640x480 with 1 Axes>"
      ]
     },
     "metadata": {},
     "output_type": "display_data"
    }
   ],
   "source": [
    "#define Seaborn color palette to use\n",
    "colors = sns.color_palette('pastel')[0:5]\n",
    "\n",
    "import matplotlib.pyplot as plt\n",
    "\n",
    "plt.title(\"Country Representation in the Data Set\")\n",
    "plt.bar(new_user['countries'], new_user['value_counts'], color=colors)\n",
    "plt.xlabel(\"Country\")\n",
    "plt.ylabel(\"Count\")\n",
    "plt.xticks(rotation=45)\n",
    "plt.show()\n"
   ]
  },
  {
   "cell_type": "markdown",
   "id": "ad45a96b",
   "metadata": {},
   "source": [
    "### Plot to represent Age group that rated books the most"
   ]
  },
  {
   "cell_type": "code",
   "execution_count": 76,
   "id": "112265af",
   "metadata": {
    "ExecuteTime": {
     "end_time": "2023-06-07T05:28:30.351114Z",
     "start_time": "2023-06-07T05:28:29.500992Z"
    }
   },
   "outputs": [],
   "source": [
    "# Calculating the rating count given to each book by the user.\n",
    "rating_count = data.groupby('bookTitle')['bookRating'].count().to_frame()"
   ]
  },
  {
   "cell_type": "code",
   "execution_count": 77,
   "id": "e3f986c9",
   "metadata": {
    "ExecuteTime": {
     "end_time": "2023-06-07T05:28:30.589673Z",
     "start_time": "2023-06-07T05:28:30.351114Z"
    }
   },
   "outputs": [
    {
     "data": {
      "image/png": "[encoded data removed]",
      "text/plain": [
       "<Figure size 1000x600 with 1 Axes>"
      ]
     },
     "metadata": {},
     "output_type": "display_data"
    }
   ],
   "source": [
    "plt.figure(figsize=(10, 6))\n",
    "data.groupby('Age_group')['bookRating'].count().plot(kind='bar')\n",
    "plt.title(\"Number of Ratings by Age Group\")\n",
    "plt.xlabel(\"Age Group\")\n",
    "plt.ylabel(\"Count\")\n",
    "plt.xticks(rotation=45)\n",
    "plt.show()"
   ]
  },
  {
   "cell_type": "code",
   "execution_count": 78,
   "id": "6c4ebd80",
   "metadata": {
    "ExecuteTime": {
     "end_time": "2023-06-07T05:28:37.815384Z",
     "start_time": "2023-06-07T05:28:30.589673Z"
    }
   },
   "outputs": [
    {
     "data": {
      "image/png": "[encoded data removed]",
      "text/plain": [
       "<Figure size 1000x600 with 1 Axes>"
      ]
     },
     "metadata": {},
     "output_type": "display_data"
    }
   ],
   "source": [
    "plt.figure(figsize=(10, 6))\n",
    "data.groupby('country')['bookRating'].count().plot(kind='bar')\n",
    "plt.title(\"Number of Ratings by Age Group\")\n",
    "plt.xlabel(\"Age Group\")\n",
    "plt.ylabel(\"Count\")\n",
    "plt.xticks(rotation=45)\n",
    "plt.show()"
   ]
  },
  {
   "cell_type": "markdown",
   "id": "3d99f1d3",
   "metadata": {},
   "source": [
    "## Relationship between Rating Values and Year of Publication"
   ]
  },
  {
   "cell_type": "code",
   "execution_count": 79,
   "id": "d368bce4",
   "metadata": {
    "ExecuteTime": {
     "end_time": "2023-06-07T05:28:41.869834Z",
     "start_time": "2023-06-07T05:28:37.815384Z"
    }
   },
   "outputs": [
    {
     "data": {
      "image/png": "[encoded data removed]",
      "text/plain": [
       "<Figure size 640x480 with 1 Axes>"
      ]
     },
     "metadata": {},
     "output_type": "display_data"
    }
   ],
   "source": [
    "# Create the scatter plot\n",
    "plt.scatter(x='yearOfPublication', y='bookRating', data= data, alpha=0.5)\n",
    "\n",
    "# Set plot title and labels\n",
    "plt.title('Relationship between Rating Values and Year of Publication')\n",
    "plt.xlabel('Year of Publication')\n",
    "plt.ylabel('Rating Value')\n",
    "\n",
    "# Display the plot\n",
    "plt.show()"
   ]
  },
  {
   "cell_type": "markdown",
   "id": "853f39dd",
   "metadata": {},
   "source": [
    "- By plotting rating values against the year of publication, you can explore if there is any correlation or trend between the rating given and the publication year of the books."
   ]
  },
  {
   "cell_type": "markdown",
   "id": "31f7503f",
   "metadata": {
    "ExecuteTime": {
     "end_time": "2023-05-25T19:47:17.570573Z",
     "start_time": "2023-05-25T19:47:17.560098Z"
    }
   },
   "source": [
    "# Collaborative Filtering Based Recommender System"
   ]
  },
  {
   "cell_type": "markdown",
   "id": "5d4a5180",
   "metadata": {},
   "source": [
    "- This implementation focuses on finding similar items (books) based on user ratings and recommending books that are similar to a given book."
   ]
  },
  {
   "cell_type": "code",
   "execution_count": 80,
   "id": "eb78ebff",
   "metadata": {
    "ExecuteTime": {
     "end_time": "2023-06-07T05:28:43.653385Z",
     "start_time": "2023-06-07T05:28:41.869834Z"
    }
   },
   "outputs": [
    {
     "data": {
      "text/html": [
       "<div>\n",
       "<style scoped>\n",
       "    .dataframe tbody tr th:only-of-type {\n",
       "        vertical-align: middle;\n",
       "    }\n",
       "\n",
       "    .dataframe tbody tr th {\n",
       "        vertical-align: top;\n",
       "    }\n",
       "\n",
       "    .dataframe thead th {\n",
       "        text-align: right;\n",
       "    }\n",
       "</style>\n",
       "<table border=\"1\" class=\"dataframe\">\n",
       "  <thead>\n",
       "    <tr style=\"text-align: right;\">\n",
       "      <th></th>\n",
       "      <th>bookTitle</th>\n",
       "      <th>num_ratings</th>\n",
       "    </tr>\n",
       "  </thead>\n",
       "  <tbody>\n",
       "    <tr>\n",
       "      <th>0</th>\n",
       "      <td>A Light in the Storm: The Civil War Diary of ...</td>\n",
       "      <td>4</td>\n",
       "    </tr>\n",
       "    <tr>\n",
       "      <th>1</th>\n",
       "      <td>Always Have Popsicles</td>\n",
       "      <td>1</td>\n",
       "    </tr>\n",
       "    <tr>\n",
       "      <th>2</th>\n",
       "      <td>Apple Magic (The Collector's series)</td>\n",
       "      <td>1</td>\n",
       "    </tr>\n",
       "    <tr>\n",
       "      <th>3</th>\n",
       "      <td>Ask Lily (Young Women of Faith: Lily Series, ...</td>\n",
       "      <td>1</td>\n",
       "    </tr>\n",
       "    <tr>\n",
       "      <th>4</th>\n",
       "      <td>Beyond IBM: Leadership Marketing and Finance ...</td>\n",
       "      <td>1</td>\n",
       "    </tr>\n",
       "    <tr>\n",
       "      <th>...</th>\n",
       "      <td>...</td>\n",
       "      <td>...</td>\n",
       "    </tr>\n",
       "    <tr>\n",
       "      <th>240503</th>\n",
       "      <td>Ã?Â?lpiraten.</td>\n",
       "      <td>2</td>\n",
       "    </tr>\n",
       "    <tr>\n",
       "      <th>240504</th>\n",
       "      <td>Ã?Â?rger mit Produkt X. Roman.</td>\n",
       "      <td>4</td>\n",
       "    </tr>\n",
       "    <tr>\n",
       "      <th>240505</th>\n",
       "      <td>Ã?Â?sterlich leben.</td>\n",
       "      <td>1</td>\n",
       "    </tr>\n",
       "    <tr>\n",
       "      <th>240506</th>\n",
       "      <td>Ã?Â?stlich der Berge.</td>\n",
       "      <td>3</td>\n",
       "    </tr>\n",
       "    <tr>\n",
       "      <th>240507</th>\n",
       "      <td>Ã?Â?thique en toc</td>\n",
       "      <td>2</td>\n",
       "    </tr>\n",
       "  </tbody>\n",
       "</table>\n",
       "<p>240508 rows × 2 columns</p>\n",
       "</div>"
      ],
      "text/plain": [
       "                                                bookTitle  num_ratings\n",
       "0        A Light in the Storm: The Civil War Diary of ...            4\n",
       "1                                   Always Have Popsicles            1\n",
       "2                    Apple Magic (The Collector's series)            1\n",
       "3        Ask Lily (Young Women of Faith: Lily Series, ...            1\n",
       "4        Beyond IBM: Leadership Marketing and Finance ...            1\n",
       "...                                                   ...          ...\n",
       "240503                                      Ã?Â?lpiraten.            2\n",
       "240504                     Ã?Â?rger mit Produkt X. Roman.            4\n",
       "240505                                Ã?Â?sterlich leben.            1\n",
       "240506                              Ã?Â?stlich der Berge.            3\n",
       "240507                                  Ã?Â?thique en toc            2\n",
       "\n",
       "[240508 rows x 2 columns]"
      ]
     },
     "execution_count": 80,
     "metadata": {},
     "output_type": "execute_result"
    }
   ],
   "source": [
    "num_rating_df = data.groupby('bookTitle').count()['bookRating'].reset_index()\n",
    "num_rating_df.rename(columns={'bookRating':'num_ratings'},inplace=True)\n",
    "num_rating_df"
   ]
  },
  {
   "cell_type": "code",
   "execution_count": 81,
   "id": "cda5fb3f",
   "metadata": {
    "ExecuteTime": {
     "end_time": "2023-06-07T05:28:44.578346Z",
     "start_time": "2023-06-07T05:28:43.653385Z"
    }
   },
   "outputs": [
    {
     "data": {
      "text/html": [
       "<div>\n",
       "<style scoped>\n",
       "    .dataframe tbody tr th:only-of-type {\n",
       "        vertical-align: middle;\n",
       "    }\n",
       "\n",
       "    .dataframe tbody tr th {\n",
       "        vertical-align: top;\n",
       "    }\n",
       "\n",
       "    .dataframe thead th {\n",
       "        text-align: right;\n",
       "    }\n",
       "</style>\n",
       "<table border=\"1\" class=\"dataframe\">\n",
       "  <thead>\n",
       "    <tr style=\"text-align: right;\">\n",
       "      <th></th>\n",
       "      <th>bookTitle</th>\n",
       "      <th>avg_rating</th>\n",
       "    </tr>\n",
       "  </thead>\n",
       "  <tbody>\n",
       "    <tr>\n",
       "      <th>0</th>\n",
       "      <td>A Light in the Storm: The Civil War Diary of ...</td>\n",
       "      <td>2.250000</td>\n",
       "    </tr>\n",
       "    <tr>\n",
       "      <th>1</th>\n",
       "      <td>Always Have Popsicles</td>\n",
       "      <td>0.000000</td>\n",
       "    </tr>\n",
       "    <tr>\n",
       "      <th>2</th>\n",
       "      <td>Apple Magic (The Collector's series)</td>\n",
       "      <td>0.000000</td>\n",
       "    </tr>\n",
       "    <tr>\n",
       "      <th>3</th>\n",
       "      <td>Ask Lily (Young Women of Faith: Lily Series, ...</td>\n",
       "      <td>8.000000</td>\n",
       "    </tr>\n",
       "    <tr>\n",
       "      <th>4</th>\n",
       "      <td>Beyond IBM: Leadership Marketing and Finance ...</td>\n",
       "      <td>0.000000</td>\n",
       "    </tr>\n",
       "    <tr>\n",
       "      <th>...</th>\n",
       "      <td>...</td>\n",
       "      <td>...</td>\n",
       "    </tr>\n",
       "    <tr>\n",
       "      <th>240503</th>\n",
       "      <td>Ã?Â?lpiraten.</td>\n",
       "      <td>0.000000</td>\n",
       "    </tr>\n",
       "    <tr>\n",
       "      <th>240504</th>\n",
       "      <td>Ã?Â?rger mit Produkt X. Roman.</td>\n",
       "      <td>5.250000</td>\n",
       "    </tr>\n",
       "    <tr>\n",
       "      <th>240505</th>\n",
       "      <td>Ã?Â?sterlich leben.</td>\n",
       "      <td>7.000000</td>\n",
       "    </tr>\n",
       "    <tr>\n",
       "      <th>240506</th>\n",
       "      <td>Ã?Â?stlich der Berge.</td>\n",
       "      <td>2.666667</td>\n",
       "    </tr>\n",
       "    <tr>\n",
       "      <th>240507</th>\n",
       "      <td>Ã?Â?thique en toc</td>\n",
       "      <td>4.000000</td>\n",
       "    </tr>\n",
       "  </tbody>\n",
       "</table>\n",
       "<p>240508 rows × 2 columns</p>\n",
       "</div>"
      ],
      "text/plain": [
       "                                                bookTitle  avg_rating\n",
       "0        A Light in the Storm: The Civil War Diary of ...    2.250000\n",
       "1                                   Always Have Popsicles    0.000000\n",
       "2                    Apple Magic (The Collector's series)    0.000000\n",
       "3        Ask Lily (Young Women of Faith: Lily Series, ...    8.000000\n",
       "4        Beyond IBM: Leadership Marketing and Finance ...    0.000000\n",
       "...                                                   ...         ...\n",
       "240503                                      Ã?Â?lpiraten.    0.000000\n",
       "240504                     Ã?Â?rger mit Produkt X. Roman.    5.250000\n",
       "240505                                Ã?Â?sterlich leben.    7.000000\n",
       "240506                              Ã?Â?stlich der Berge.    2.666667\n",
       "240507                                  Ã?Â?thique en toc    4.000000\n",
       "\n",
       "[240508 rows x 2 columns]"
      ]
     },
     "execution_count": 81,
     "metadata": {},
     "output_type": "execute_result"
    }
   ],
   "source": [
    "avg_rating_df = data.groupby('bookTitle').mean()['bookRating'].reset_index()\n",
    "avg_rating_df.rename(columns={'bookRating':'avg_rating'},inplace=True)\n",
    "avg_rating_df"
   ]
  },
  {
   "cell_type": "code",
   "execution_count": 82,
   "id": "d8133ba3",
   "metadata": {
    "ExecuteTime": {
     "end_time": "2023-06-07T05:28:44.813885Z",
     "start_time": "2023-06-07T05:28:44.581255Z"
    }
   },
   "outputs": [
    {
     "data": {
      "text/html": [
       "<div>\n",
       "<style scoped>\n",
       "    .dataframe tbody tr th:only-of-type {\n",
       "        vertical-align: middle;\n",
       "    }\n",
       "\n",
       "    .dataframe tbody tr th {\n",
       "        vertical-align: top;\n",
       "    }\n",
       "\n",
       "    .dataframe thead th {\n",
       "        text-align: right;\n",
       "    }\n",
       "</style>\n",
       "<table border=\"1\" class=\"dataframe\">\n",
       "  <thead>\n",
       "    <tr style=\"text-align: right;\">\n",
       "      <th></th>\n",
       "      <th>bookTitle</th>\n",
       "      <th>num_ratings</th>\n",
       "      <th>avg_rating</th>\n",
       "    </tr>\n",
       "  </thead>\n",
       "  <tbody>\n",
       "    <tr>\n",
       "      <th>0</th>\n",
       "      <td>A Light in the Storm: The Civil War Diary of ...</td>\n",
       "      <td>4</td>\n",
       "      <td>2.250000</td>\n",
       "    </tr>\n",
       "    <tr>\n",
       "      <th>1</th>\n",
       "      <td>Always Have Popsicles</td>\n",
       "      <td>1</td>\n",
       "      <td>0.000000</td>\n",
       "    </tr>\n",
       "    <tr>\n",
       "      <th>2</th>\n",
       "      <td>Apple Magic (The Collector's series)</td>\n",
       "      <td>1</td>\n",
       "      <td>0.000000</td>\n",
       "    </tr>\n",
       "    <tr>\n",
       "      <th>3</th>\n",
       "      <td>Ask Lily (Young Women of Faith: Lily Series, ...</td>\n",
       "      <td>1</td>\n",
       "      <td>8.000000</td>\n",
       "    </tr>\n",
       "    <tr>\n",
       "      <th>4</th>\n",
       "      <td>Beyond IBM: Leadership Marketing and Finance ...</td>\n",
       "      <td>1</td>\n",
       "      <td>0.000000</td>\n",
       "    </tr>\n",
       "    <tr>\n",
       "      <th>...</th>\n",
       "      <td>...</td>\n",
       "      <td>...</td>\n",
       "      <td>...</td>\n",
       "    </tr>\n",
       "    <tr>\n",
       "      <th>240503</th>\n",
       "      <td>Ã?Â?lpiraten.</td>\n",
       "      <td>2</td>\n",
       "      <td>0.000000</td>\n",
       "    </tr>\n",
       "    <tr>\n",
       "      <th>240504</th>\n",
       "      <td>Ã?Â?rger mit Produkt X. Roman.</td>\n",
       "      <td>4</td>\n",
       "      <td>5.250000</td>\n",
       "    </tr>\n",
       "    <tr>\n",
       "      <th>240505</th>\n",
       "      <td>Ã?Â?sterlich leben.</td>\n",
       "      <td>1</td>\n",
       "      <td>7.000000</td>\n",
       "    </tr>\n",
       "    <tr>\n",
       "      <th>240506</th>\n",
       "      <td>Ã?Â?stlich der Berge.</td>\n",
       "      <td>3</td>\n",
       "      <td>2.666667</td>\n",
       "    </tr>\n",
       "    <tr>\n",
       "      <th>240507</th>\n",
       "      <td>Ã?Â?thique en toc</td>\n",
       "      <td>2</td>\n",
       "      <td>4.000000</td>\n",
       "    </tr>\n",
       "  </tbody>\n",
       "</table>\n",
       "<p>240508 rows × 3 columns</p>\n",
       "</div>"
      ],
      "text/plain": [
       "                                                bookTitle  num_ratings  \\\n",
       "0        A Light in the Storm: The Civil War Diary of ...            4   \n",
       "1                                   Always Have Popsicles            1   \n",
       "2                    Apple Magic (The Collector's series)            1   \n",
       "3        Ask Lily (Young Women of Faith: Lily Series, ...            1   \n",
       "4        Beyond IBM: Leadership Marketing and Finance ...            1   \n",
       "...                                                   ...          ...   \n",
       "240503                                      Ã?Â?lpiraten.            2   \n",
       "240504                     Ã?Â?rger mit Produkt X. Roman.            4   \n",
       "240505                                Ã?Â?sterlich leben.            1   \n",
       "240506                              Ã?Â?stlich der Berge.            3   \n",
       "240507                                  Ã?Â?thique en toc            2   \n",
       "\n",
       "        avg_rating  \n",
       "0         2.250000  \n",
       "1         0.000000  \n",
       "2         0.000000  \n",
       "3         8.000000  \n",
       "4         0.000000  \n",
       "...            ...  \n",
       "240503    0.000000  \n",
       "240504    5.250000  \n",
       "240505    7.000000  \n",
       "240506    2.666667  \n",
       "240507    4.000000  \n",
       "\n",
       "[240508 rows x 3 columns]"
      ]
     },
     "execution_count": 82,
     "metadata": {},
     "output_type": "execute_result"
    }
   ],
   "source": [
    "popular_df = num_rating_df.merge(avg_rating_df,on='bookTitle')\n",
    "popular_df"
   ]
  },
  {
   "cell_type": "code",
   "execution_count": 83,
   "id": "6e8b05be",
   "metadata": {
    "ExecuteTime": {
     "end_time": "2023-06-07T05:28:46.005738Z",
     "start_time": "2023-06-07T05:28:44.817246Z"
    }
   },
   "outputs": [],
   "source": [
    "x = data.groupby('userId').count()['bookRating'] > 200\n",
    "regular_reader = x[x].index"
   ]
  },
  {
   "cell_type": "markdown",
   "id": "7245d22e",
   "metadata": {},
   "source": [
    "Here we are using only that users who had rated more than 200 books to over come the sparsity issue."
   ]
  },
  {
   "cell_type": "code",
   "execution_count": 84,
   "id": "5886f0f6",
   "metadata": {
    "ExecuteTime": {
     "end_time": "2023-06-07T05:28:46.021873Z",
     "start_time": "2023-06-07T05:28:46.005738Z"
    }
   },
   "outputs": [
    {
     "data": {
      "text/plain": [
       "Int64Index([   254,   2276,   2766,   2977,   3363,   4017,   4385,   6251,\n",
       "              6323,   6543,\n",
       "            ...\n",
       "            271705, 273979, 274004, 274061, 274301, 274308, 275970, 277427,\n",
       "            277639, 278418],\n",
       "           dtype='int64', name='userId', length=807)"
      ]
     },
     "execution_count": 84,
     "metadata": {},
     "output_type": "execute_result"
    }
   ],
   "source": [
    "regular_reader"
   ]
  },
  {
   "cell_type": "code",
   "execution_count": 85,
   "id": "bdb0481e",
   "metadata": {
    "ExecuteTime": {
     "end_time": "2023-06-07T05:28:46.147057Z",
     "start_time": "2023-06-07T05:28:46.021873Z"
    }
   },
   "outputs": [],
   "source": [
    "filtered_rating = data[data['userId'].isin(regular_reader)]"
   ]
  },
  {
   "cell_type": "markdown",
   "id": "b8c8abc3",
   "metadata": {},
   "source": [
    "here we are getting only regular reader from the main data set"
   ]
  },
  {
   "cell_type": "code",
   "execution_count": 86,
   "id": "203a908e",
   "metadata": {
    "ExecuteTime": {
     "end_time": "2023-06-07T05:28:46.178612Z",
     "start_time": "2023-06-07T05:28:46.147057Z"
    }
   },
   "outputs": [
    {
     "data": {
      "text/html": [
       "<div>\n",
       "<style scoped>\n",
       "    .dataframe tbody tr th:only-of-type {\n",
       "        vertical-align: middle;\n",
       "    }\n",
       "\n",
       "    .dataframe tbody tr th {\n",
       "        vertical-align: top;\n",
       "    }\n",
       "\n",
       "    .dataframe thead th {\n",
       "        text-align: right;\n",
       "    }\n",
       "</style>\n",
       "<table border=\"1\" class=\"dataframe\">\n",
       "  <thead>\n",
       "    <tr style=\"text-align: right;\">\n",
       "      <th></th>\n",
       "      <th>ISBN</th>\n",
       "      <th>bookTitle</th>\n",
       "      <th>bookAuthor</th>\n",
       "      <th>yearOfPublication</th>\n",
       "      <th>publisher</th>\n",
       "      <th>imageUrlM</th>\n",
       "      <th>userId</th>\n",
       "      <th>bookRating</th>\n",
       "      <th>Location</th>\n",
       "      <th>Age</th>\n",
       "      <th>Age_group</th>\n",
       "      <th>country</th>\n",
       "    </tr>\n",
       "  </thead>\n",
       "  <tbody>\n",
       "    <tr>\n",
       "      <th>80</th>\n",
       "      <td>0002005018</td>\n",
       "      <td>Clara Callan</td>\n",
       "      <td>Richard Bruce Wright</td>\n",
       "      <td>2001</td>\n",
       "      <td>HarperFlamingo Canada</td>\n",
       "      <td>http://images.amazon.com/images/P/0002005018.0...</td>\n",
       "      <td>11676</td>\n",
       "      <td>8</td>\n",
       "      <td>n/a, n/a, n/a</td>\n",
       "      <td>34</td>\n",
       "      <td>Youth</td>\n",
       "      <td>n/a</td>\n",
       "    </tr>\n",
       "    <tr>\n",
       "      <th>81</th>\n",
       "      <td>0399135782</td>\n",
       "      <td>The Kitchen God's Wife</td>\n",
       "      <td>Amy Tan</td>\n",
       "      <td>1991</td>\n",
       "      <td>Putnam Pub Group</td>\n",
       "      <td>http://images.amazon.com/images/P/0399135782.0...</td>\n",
       "      <td>11676</td>\n",
       "      <td>9</td>\n",
       "      <td>n/a, n/a, n/a</td>\n",
       "      <td>34</td>\n",
       "      <td>Youth</td>\n",
       "      <td>n/a</td>\n",
       "    </tr>\n",
       "    <tr>\n",
       "      <th>82</th>\n",
       "      <td>0671870432</td>\n",
       "      <td>PLEADING GUILTY</td>\n",
       "      <td>Scott Turow</td>\n",
       "      <td>1993</td>\n",
       "      <td>Audioworks</td>\n",
       "      <td>http://images.amazon.com/images/P/0671870432.0...</td>\n",
       "      <td>11676</td>\n",
       "      <td>8</td>\n",
       "      <td>n/a, n/a, n/a</td>\n",
       "      <td>34</td>\n",
       "      <td>Youth</td>\n",
       "      <td>n/a</td>\n",
       "    </tr>\n",
       "    <tr>\n",
       "      <th>83</th>\n",
       "      <td>0771074670</td>\n",
       "      <td>Nights Below Station Street</td>\n",
       "      <td>David Adams Richards</td>\n",
       "      <td>1988</td>\n",
       "      <td>Emblem Editions</td>\n",
       "      <td>http://images.amazon.com/images/P/0771074670.0...</td>\n",
       "      <td>11676</td>\n",
       "      <td>0</td>\n",
       "      <td>n/a, n/a, n/a</td>\n",
       "      <td>34</td>\n",
       "      <td>Youth</td>\n",
       "      <td>n/a</td>\n",
       "    </tr>\n",
       "    <tr>\n",
       "      <th>84</th>\n",
       "      <td>0440234743</td>\n",
       "      <td>The Testament</td>\n",
       "      <td>John Grisham</td>\n",
       "      <td>1999</td>\n",
       "      <td>Dell</td>\n",
       "      <td>http://images.amazon.com/images/P/0440234743.0...</td>\n",
       "      <td>11676</td>\n",
       "      <td>9</td>\n",
       "      <td>n/a, n/a, n/a</td>\n",
       "      <td>34</td>\n",
       "      <td>Youth</td>\n",
       "      <td>n/a</td>\n",
       "    </tr>\n",
       "    <tr>\n",
       "      <th>...</th>\n",
       "      <td>...</td>\n",
       "      <td>...</td>\n",
       "      <td>...</td>\n",
       "      <td>...</td>\n",
       "      <td>...</td>\n",
       "      <td>...</td>\n",
       "      <td>...</td>\n",
       "      <td>...</td>\n",
       "      <td>...</td>\n",
       "      <td>...</td>\n",
       "      <td>...</td>\n",
       "      <td>...</td>\n",
       "    </tr>\n",
       "    <tr>\n",
       "      <th>893253</th>\n",
       "      <td>0451406184</td>\n",
       "      <td>Petticoats and Pistols (Topaz Historical Roman...</td>\n",
       "      <td>Margaret Brownley</td>\n",
       "      <td>1995</td>\n",
       "      <td>Topaz</td>\n",
       "      <td>http://images.amazon.com/images/P/0451406184.0...</td>\n",
       "      <td>72352</td>\n",
       "      <td>0</td>\n",
       "      <td>samieira, pontevedra, spain</td>\n",
       "      <td>49</td>\n",
       "      <td>Adults</td>\n",
       "      <td>spain</td>\n",
       "    </tr>\n",
       "    <tr>\n",
       "      <th>893254</th>\n",
       "      <td>0505521423</td>\n",
       "      <td>Savage Whispers (Savage)</td>\n",
       "      <td>Cassie Edwards</td>\n",
       "      <td>1996</td>\n",
       "      <td>Love Spell</td>\n",
       "      <td>http://images.amazon.com/images/P/0505521423.0...</td>\n",
       "      <td>72352</td>\n",
       "      <td>0</td>\n",
       "      <td>samieira, pontevedra, spain</td>\n",
       "      <td>49</td>\n",
       "      <td>Adults</td>\n",
       "      <td>spain</td>\n",
       "    </tr>\n",
       "    <tr>\n",
       "      <th>893255</th>\n",
       "      <td>0451408438</td>\n",
       "      <td>Silver Wing (Topaz Historical Romance)</td>\n",
       "      <td>Cassie Edwards</td>\n",
       "      <td>1999</td>\n",
       "      <td>Topaz</td>\n",
       "      <td>http://images.amazon.com/images/P/0451408438.0...</td>\n",
       "      <td>72352</td>\n",
       "      <td>0</td>\n",
       "      <td>samieira, pontevedra, spain</td>\n",
       "      <td>49</td>\n",
       "      <td>Adults</td>\n",
       "      <td>spain</td>\n",
       "    </tr>\n",
       "    <tr>\n",
       "      <th>893256</th>\n",
       "      <td>0821764667</td>\n",
       "      <td>Her Only Hero (Zebra Splendor Historical Roman...</td>\n",
       "      <td>Jo Ann Ferguson</td>\n",
       "      <td>2000</td>\n",
       "      <td>Kensington Publishing Corporation</td>\n",
       "      <td>http://images.amazon.com/images/P/0821764667.0...</td>\n",
       "      <td>72352</td>\n",
       "      <td>8</td>\n",
       "      <td>samieira, pontevedra, spain</td>\n",
       "      <td>49</td>\n",
       "      <td>Adults</td>\n",
       "      <td>spain</td>\n",
       "    </tr>\n",
       "    <tr>\n",
       "      <th>893257</th>\n",
       "      <td>0263775771</td>\n",
       "      <td>Blossoming Love</td>\n",
       "      <td>Deborah Davis</td>\n",
       "      <td>1992</td>\n",
       "      <td>Harlequin Mills &amp;amp; Boon Ltd</td>\n",
       "      <td>http://images.amazon.com/images/P/0263775771.0...</td>\n",
       "      <td>72352</td>\n",
       "      <td>7</td>\n",
       "      <td>samieira, pontevedra, spain</td>\n",
       "      <td>49</td>\n",
       "      <td>Adults</td>\n",
       "      <td>spain</td>\n",
       "    </tr>\n",
       "  </tbody>\n",
       "</table>\n",
       "<p>472158 rows × 12 columns</p>\n",
       "</div>"
      ],
      "text/plain": [
       "              ISBN                                          bookTitle  \\\n",
       "80      0002005018                                       Clara Callan   \n",
       "81      0399135782                             The Kitchen God's Wife   \n",
       "82      0671870432                                    PLEADING GUILTY   \n",
       "83      0771074670                        Nights Below Station Street   \n",
       "84      0440234743                                      The Testament   \n",
       "...            ...                                                ...   \n",
       "893253  0451406184  Petticoats and Pistols (Topaz Historical Roman...   \n",
       "893254  0505521423                           Savage Whispers (Savage)   \n",
       "893255  0451408438             Silver Wing (Topaz Historical Romance)   \n",
       "893256  0821764667  Her Only Hero (Zebra Splendor Historical Roman...   \n",
       "893257  0263775771                                    Blossoming Love   \n",
       "\n",
       "                  bookAuthor  yearOfPublication  \\\n",
       "80      Richard Bruce Wright               2001   \n",
       "81                   Amy Tan               1991   \n",
       "82               Scott Turow               1993   \n",
       "83      David Adams Richards               1988   \n",
       "84              John Grisham               1999   \n",
       "...                      ...                ...   \n",
       "893253     Margaret Brownley               1995   \n",
       "893254        Cassie Edwards               1996   \n",
       "893255        Cassie Edwards               1999   \n",
       "893256       Jo Ann Ferguson               2000   \n",
       "893257         Deborah Davis               1992   \n",
       "\n",
       "                                publisher  \\\n",
       "80                  HarperFlamingo Canada   \n",
       "81                       Putnam Pub Group   \n",
       "82                             Audioworks   \n",
       "83                        Emblem Editions   \n",
       "84                                   Dell   \n",
       "...                                   ...   \n",
       "893253                              Topaz   \n",
       "893254                         Love Spell   \n",
       "893255                              Topaz   \n",
       "893256  Kensington Publishing Corporation   \n",
       "893257     Harlequin Mills &amp; Boon Ltd   \n",
       "\n",
       "                                                imageUrlM  userId  bookRating  \\\n",
       "80      http://images.amazon.com/images/P/0002005018.0...   11676           8   \n",
       "81      http://images.amazon.com/images/P/0399135782.0...   11676           9   \n",
       "82      http://images.amazon.com/images/P/0671870432.0...   11676           8   \n",
       "83      http://images.amazon.com/images/P/0771074670.0...   11676           0   \n",
       "84      http://images.amazon.com/images/P/0440234743.0...   11676           9   \n",
       "...                                                   ...     ...         ...   \n",
       "893253  http://images.amazon.com/images/P/0451406184.0...   72352           0   \n",
       "893254  http://images.amazon.com/images/P/0505521423.0...   72352           0   \n",
       "893255  http://images.amazon.com/images/P/0451408438.0...   72352           0   \n",
       "893256  http://images.amazon.com/images/P/0821764667.0...   72352           8   \n",
       "893257  http://images.amazon.com/images/P/0263775771.0...   72352           7   \n",
       "\n",
       "                           Location  Age Age_group country  \n",
       "80                    n/a, n/a, n/a   34     Youth     n/a  \n",
       "81                    n/a, n/a, n/a   34     Youth     n/a  \n",
       "82                    n/a, n/a, n/a   34     Youth     n/a  \n",
       "83                    n/a, n/a, n/a   34     Youth     n/a  \n",
       "84                    n/a, n/a, n/a   34     Youth     n/a  \n",
       "...                             ...  ...       ...     ...  \n",
       "893253  samieira, pontevedra, spain   49    Adults   spain  \n",
       "893254  samieira, pontevedra, spain   49    Adults   spain  \n",
       "893255  samieira, pontevedra, spain   49    Adults   spain  \n",
       "893256  samieira, pontevedra, spain   49    Adults   spain  \n",
       "893257  samieira, pontevedra, spain   49    Adults   spain  \n",
       "\n",
       "[472158 rows x 12 columns]"
      ]
     },
     "execution_count": 86,
     "metadata": {},
     "output_type": "execute_result"
    }
   ],
   "source": [
    "filtered_rating"
   ]
  },
  {
   "cell_type": "code",
   "execution_count": 87,
   "id": "0cedc875",
   "metadata": {
    "ExecuteTime": {
     "end_time": "2023-06-07T05:28:47.039512Z",
     "start_time": "2023-06-07T05:28:46.178612Z"
    }
   },
   "outputs": [
    {
     "data": {
      "text/plain": [
       "Index(['1984', '1st to Die: A Novel', '2nd Chance', '4 Blondes',\n",
       "       'A Bend in the Road', 'A Case of Need',\n",
       "       'A Child Called \\It\\\": One Child's Courage to Survive\"',\n",
       "       'A Civil Action', 'A Day Late and a Dollar Short', 'A Fine Balance',\n",
       "       ...\n",
       "       'Winter Solstice', 'Wish You Well', 'Without Remorse',\n",
       "       'Wizard and Glass (The Dark Tower, Book 4)', 'Wuthering Heights',\n",
       "       'Year of Wonders', 'You Belong To Me',\n",
       "       'Zen and the Art of Motorcycle Maintenance: An Inquiry into Values',\n",
       "       'Zoya', '\\O\\\" Is for Outlaw\"'],\n",
       "      dtype='object', name='bookTitle', length=699)"
      ]
     },
     "execution_count": 87,
     "metadata": {},
     "output_type": "execute_result"
    }
   ],
   "source": [
    "# here we are getting only those books which are rated more than 50 times\n",
    "y = filtered_rating.groupby('bookTitle').count()['bookRating']>=50\n",
    "famous_books = y[y].index\n",
    "famous_books"
   ]
  },
  {
   "cell_type": "code",
   "execution_count": 88,
   "id": "5d92f6e2",
   "metadata": {
    "ExecuteTime": {
     "end_time": "2023-06-07T05:28:47.133983Z",
     "start_time": "2023-06-07T05:28:47.039512Z"
    }
   },
   "outputs": [
    {
     "data": {
      "text/html": [
       "<div>\n",
       "<style scoped>\n",
       "    .dataframe tbody tr th:only-of-type {\n",
       "        vertical-align: middle;\n",
       "    }\n",
       "\n",
       "    .dataframe tbody tr th {\n",
       "        vertical-align: top;\n",
       "    }\n",
       "\n",
       "    .dataframe thead th {\n",
       "        text-align: right;\n",
       "    }\n",
       "</style>\n",
       "<table border=\"1\" class=\"dataframe\">\n",
       "  <thead>\n",
       "    <tr style=\"text-align: right;\">\n",
       "      <th></th>\n",
       "      <th>ISBN</th>\n",
       "      <th>bookTitle</th>\n",
       "      <th>bookAuthor</th>\n",
       "      <th>yearOfPublication</th>\n",
       "      <th>publisher</th>\n",
       "      <th>imageUrlM</th>\n",
       "      <th>userId</th>\n",
       "      <th>bookRating</th>\n",
       "      <th>Location</th>\n",
       "      <th>Age</th>\n",
       "      <th>Age_group</th>\n",
       "      <th>country</th>\n",
       "    </tr>\n",
       "  </thead>\n",
       "  <tbody>\n",
       "    <tr>\n",
       "      <th>81</th>\n",
       "      <td>0399135782</td>\n",
       "      <td>The Kitchen God's Wife</td>\n",
       "      <td>Amy Tan</td>\n",
       "      <td>1991</td>\n",
       "      <td>Putnam Pub Group</td>\n",
       "      <td>http://images.amazon.com/images/P/0399135782.0...</td>\n",
       "      <td>11676</td>\n",
       "      <td>9</td>\n",
       "      <td>n/a, n/a, n/a</td>\n",
       "      <td>34</td>\n",
       "      <td>Youth</td>\n",
       "      <td>n/a</td>\n",
       "    </tr>\n",
       "    <tr>\n",
       "      <th>84</th>\n",
       "      <td>0440234743</td>\n",
       "      <td>The Testament</td>\n",
       "      <td>John Grisham</td>\n",
       "      <td>1999</td>\n",
       "      <td>Dell</td>\n",
       "      <td>http://images.amazon.com/images/P/0440234743.0...</td>\n",
       "      <td>11676</td>\n",
       "      <td>9</td>\n",
       "      <td>n/a, n/a, n/a</td>\n",
       "      <td>34</td>\n",
       "      <td>Youth</td>\n",
       "      <td>n/a</td>\n",
       "    </tr>\n",
       "    <tr>\n",
       "      <th>85</th>\n",
       "      <td>0452264464</td>\n",
       "      <td>Beloved (Plume Contemporary Fiction)</td>\n",
       "      <td>Toni Morrison</td>\n",
       "      <td>1994</td>\n",
       "      <td>Plume</td>\n",
       "      <td>http://images.amazon.com/images/P/0452264464.0...</td>\n",
       "      <td>11676</td>\n",
       "      <td>8</td>\n",
       "      <td>n/a, n/a, n/a</td>\n",
       "      <td>34</td>\n",
       "      <td>Youth</td>\n",
       "      <td>n/a</td>\n",
       "    </tr>\n",
       "    <tr>\n",
       "      <th>88</th>\n",
       "      <td>0971880107</td>\n",
       "      <td>Wild Animus</td>\n",
       "      <td>Rich Shapero</td>\n",
       "      <td>2004</td>\n",
       "      <td>Too Far</td>\n",
       "      <td>http://images.amazon.com/images/P/0971880107.0...</td>\n",
       "      <td>11676</td>\n",
       "      <td>6</td>\n",
       "      <td>n/a, n/a, n/a</td>\n",
       "      <td>34</td>\n",
       "      <td>Youth</td>\n",
       "      <td>n/a</td>\n",
       "    </tr>\n",
       "    <tr>\n",
       "      <th>89</th>\n",
       "      <td>0345402871</td>\n",
       "      <td>Airframe</td>\n",
       "      <td>Michael Crichton</td>\n",
       "      <td>1997</td>\n",
       "      <td>Ballantine Books</td>\n",
       "      <td>http://images.amazon.com/images/P/0345402871.0...</td>\n",
       "      <td>11676</td>\n",
       "      <td>0</td>\n",
       "      <td>n/a, n/a, n/a</td>\n",
       "      <td>34</td>\n",
       "      <td>Youth</td>\n",
       "      <td>n/a</td>\n",
       "    </tr>\n",
       "    <tr>\n",
       "      <th>...</th>\n",
       "      <td>...</td>\n",
       "      <td>...</td>\n",
       "      <td>...</td>\n",
       "      <td>...</td>\n",
       "      <td>...</td>\n",
       "      <td>...</td>\n",
       "      <td>...</td>\n",
       "      <td>...</td>\n",
       "      <td>...</td>\n",
       "      <td>...</td>\n",
       "      <td>...</td>\n",
       "      <td>...</td>\n",
       "    </tr>\n",
       "    <tr>\n",
       "      <th>819056</th>\n",
       "      <td>0670894184</td>\n",
       "      <td>Back Roads</td>\n",
       "      <td>Tawni O'Dell</td>\n",
       "      <td>2000</td>\n",
       "      <td>Viking Books</td>\n",
       "      <td>http://images.amazon.com/images/P/0670894184.0...</td>\n",
       "      <td>165232</td>\n",
       "      <td>5</td>\n",
       "      <td>saint albans, west virginia, usa</td>\n",
       "      <td>23</td>\n",
       "      <td>Youth</td>\n",
       "      <td>usa</td>\n",
       "    </tr>\n",
       "    <tr>\n",
       "      <th>819061</th>\n",
       "      <td>0670858692</td>\n",
       "      <td>Rose Madder</td>\n",
       "      <td>Stephen King</td>\n",
       "      <td>1995</td>\n",
       "      <td>Viking Books</td>\n",
       "      <td>http://images.amazon.com/images/P/0670858692.0...</td>\n",
       "      <td>165232</td>\n",
       "      <td>0</td>\n",
       "      <td>saint albans, west virginia, usa</td>\n",
       "      <td>23</td>\n",
       "      <td>Youth</td>\n",
       "      <td>usa</td>\n",
       "    </tr>\n",
       "    <tr>\n",
       "      <th>893069</th>\n",
       "      <td>1551668874</td>\n",
       "      <td>Heartbreaker</td>\n",
       "      <td>Linda Howard</td>\n",
       "      <td>2002</td>\n",
       "      <td>Mira</td>\n",
       "      <td>http://images.amazon.com/images/P/1551668874.0...</td>\n",
       "      <td>72352</td>\n",
       "      <td>0</td>\n",
       "      <td>samieira, pontevedra, spain</td>\n",
       "      <td>49</td>\n",
       "      <td>Adults</td>\n",
       "      <td>spain</td>\n",
       "    </tr>\n",
       "    <tr>\n",
       "      <th>893106</th>\n",
       "      <td>0671670069</td>\n",
       "      <td>Guardian Angel</td>\n",
       "      <td>Julie Garwood</td>\n",
       "      <td>1990</td>\n",
       "      <td>Pocket</td>\n",
       "      <td>http://images.amazon.com/images/P/0671670069.0...</td>\n",
       "      <td>72352</td>\n",
       "      <td>10</td>\n",
       "      <td>samieira, pontevedra, spain</td>\n",
       "      <td>49</td>\n",
       "      <td>Adults</td>\n",
       "      <td>spain</td>\n",
       "    </tr>\n",
       "    <tr>\n",
       "      <th>893214</th>\n",
       "      <td>0786002832</td>\n",
       "      <td>Dangerous</td>\n",
       "      <td>Fabio</td>\n",
       "      <td>1996</td>\n",
       "      <td>Pinnacle Books</td>\n",
       "      <td>http://images.amazon.com/images/P/0786002832.0...</td>\n",
       "      <td>72352</td>\n",
       "      <td>5</td>\n",
       "      <td>samieira, pontevedra, spain</td>\n",
       "      <td>49</td>\n",
       "      <td>Adults</td>\n",
       "      <td>spain</td>\n",
       "    </tr>\n",
       "  </tbody>\n",
       "</table>\n",
       "<p>57977 rows × 12 columns</p>\n",
       "</div>"
      ],
      "text/plain": [
       "              ISBN                             bookTitle        bookAuthor  \\\n",
       "81      0399135782                The Kitchen God's Wife           Amy Tan   \n",
       "84      0440234743                         The Testament      John Grisham   \n",
       "85      0452264464  Beloved (Plume Contemporary Fiction)     Toni Morrison   \n",
       "88      0971880107                           Wild Animus      Rich Shapero   \n",
       "89      0345402871                              Airframe  Michael Crichton   \n",
       "...            ...                                   ...               ...   \n",
       "819056  0670894184                            Back Roads      Tawni O'Dell   \n",
       "819061  0670858692                           Rose Madder      Stephen King   \n",
       "893069  1551668874                          Heartbreaker      Linda Howard   \n",
       "893106  0671670069                        Guardian Angel     Julie Garwood   \n",
       "893214  0786002832                             Dangerous             Fabio   \n",
       "\n",
       "        yearOfPublication         publisher  \\\n",
       "81                   1991  Putnam Pub Group   \n",
       "84                   1999              Dell   \n",
       "85                   1994             Plume   \n",
       "88                   2004           Too Far   \n",
       "89                   1997  Ballantine Books   \n",
       "...                   ...               ...   \n",
       "819056               2000      Viking Books   \n",
       "819061               1995      Viking Books   \n",
       "893069               2002              Mira   \n",
       "893106               1990            Pocket   \n",
       "893214               1996    Pinnacle Books   \n",
       "\n",
       "                                                imageUrlM  userId  bookRating  \\\n",
       "81      http://images.amazon.com/images/P/0399135782.0...   11676           9   \n",
       "84      http://images.amazon.com/images/P/0440234743.0...   11676           9   \n",
       "85      http://images.amazon.com/images/P/0452264464.0...   11676           8   \n",
       "88      http://images.amazon.com/images/P/0971880107.0...   11676           6   \n",
       "89      http://images.amazon.com/images/P/0345402871.0...   11676           0   \n",
       "...                                                   ...     ...         ...   \n",
       "819056  http://images.amazon.com/images/P/0670894184.0...  165232           5   \n",
       "819061  http://images.amazon.com/images/P/0670858692.0...  165232           0   \n",
       "893069  http://images.amazon.com/images/P/1551668874.0...   72352           0   \n",
       "893106  http://images.amazon.com/images/P/0671670069.0...   72352          10   \n",
       "893214  http://images.amazon.com/images/P/0786002832.0...   72352           5   \n",
       "\n",
       "                                Location  Age Age_group country  \n",
       "81                         n/a, n/a, n/a   34     Youth     n/a  \n",
       "84                         n/a, n/a, n/a   34     Youth     n/a  \n",
       "85                         n/a, n/a, n/a   34     Youth     n/a  \n",
       "88                         n/a, n/a, n/a   34     Youth     n/a  \n",
       "89                         n/a, n/a, n/a   34     Youth     n/a  \n",
       "...                                  ...  ...       ...     ...  \n",
       "819056  saint albans, west virginia, usa   23     Youth     usa  \n",
       "819061  saint albans, west virginia, usa   23     Youth     usa  \n",
       "893069       samieira, pontevedra, spain   49    Adults   spain  \n",
       "893106       samieira, pontevedra, spain   49    Adults   spain  \n",
       "893214       samieira, pontevedra, spain   49    Adults   spain  \n",
       "\n",
       "[57977 rows x 12 columns]"
      ]
     },
     "execution_count": 88,
     "metadata": {},
     "output_type": "execute_result"
    }
   ],
   "source": [
    "# here we have the final data with readers who have rated more than 200 books and books with more than 50 ratings\n",
    "final_ratings = filtered_rating[filtered_rating['bookTitle'].isin(famous_books)]\n",
    "final_ratings"
   ]
  },
  {
   "cell_type": "code",
   "execution_count": 89,
   "id": "622611bc",
   "metadata": {
    "ExecuteTime": {
     "end_time": "2023-06-07T05:28:47.149680Z",
     "start_time": "2023-06-07T05:28:47.133983Z"
    },
    "scrolled": true
   },
   "outputs": [
    {
     "data": {
      "text/plain": [
       "array([ 11676,  85526,  96054, 177458, 110912, 137688, 197659,  36836,\n",
       "        46398, 113270, 113519, 200674, 211919, 230522, 238557, 245827,\n",
       "        52614, 166596,   3363, 174304, 177090,   2977,   7346,  13552,\n",
       "        14521,  16795,  23768,  26544,  26593,  30487,  30533,  31315,\n",
       "        31556,  35857,  35859,  36606,  39646,  40889,  52584,  55492,\n",
       "        69232,  76352,  76942,  78834,  78973,  79186,  82893,  84024,\n",
       "        91832,  93363, 101209, 102647, 102967, 105979, 107784, 110973,\n",
       "       112001, 115003, 115120, 123790, 123981, 124363, 124487, 125039,\n",
       "       125519, 126492, 127200, 131046, 131837, 135149, 135831, 137589,\n",
       "       142093, 143253, 144531, 145619, 146113, 147965, 153718, 155495,\n",
       "       160819, 164323, 167800, 170518, 172742, 173415, 173684, 185384,\n",
       "       186570, 195694, 197364, 198711, 203968, 207782, 208147, 214786,\n",
       "       216683, 217375, 221445, 224435, 225810, 225989, 229011, 231237,\n",
       "       232131, 232945, 234623, 235842, 235935, 236172, 240144, 240567,\n",
       "       241548, 241666, 241980, 244349, 245963, 246655, 250184, 251613,\n",
       "       254971, 256407, 258534, 260897, 261829, 263163, 263877, 265115,\n",
       "       265313, 268330, 269566, 271284, 273979, 274308, 278418,  22625,\n",
       "        36907,  61619,  80683,  82407,  85656,  86243,  87746,  91931,\n",
       "        92810,  95932, 100459, 101851, 105517, 108005, 112026, 125774,\n",
       "       127429, 129716, 136205, 148744, 150968, 153662, 156150, 157273,\n",
       "       160032, 165319, 175003, 178667, 184299, 187145, 196457, 204864,\n",
       "       224138, 230249, 231210, 238120, 250764,  59971,  60244,  98758,\n",
       "       113817, 126604, 146348, 164533, 182987, 217740, 164027, 174791,\n",
       "       277427,   2766,   6251,   6543,   7158,   7286,   8681,  10819,\n",
       "        11993,  15418,  16634,  17950,  19085,  20201,  21252,  21576,\n",
       "        21659,  23902,  24194,  24921,  26583,  28204,  28360,  28591,\n",
       "        29259,  29855,  30972,  31826,  32440,  32721,  32773,  37567,\n",
       "        37712,  37950,  38023,  39281,  39773,  40943,  41841,  42914,\n",
       "        43246,  43806,  43842,  44728,  48494,  49109,  49460,  52917,\n",
       "        53174,  53628,  55187,  55734,  55892,  56271,  56399,  56856,\n",
       "        56959,  60277,  62891,  63714,  64436,  65258,  67840,  68555,\n",
       "        69042,  69405,  69971,  70052,  70415,  72992,  73394,  76151,\n",
       "        76223,  77809,  78553,  81045,  81492,  82831,  85701,  85993,\n",
       "        87143,  87555,  88283,  88693,  88733,  91342,  92652,  93047,\n",
       "        93085,  94853,  94923,  95359,  95903, 102275, 106816, 107301,\n",
       "       109461, 110029, 111947, 113904, 114178, 114414, 114444, 114988,\n",
       "       122429, 122793, 122881, 124078, 124079, 126736, 127359, 129465,\n",
       "       129851, 130474, 131855, 133747, 136010, 136139, 136382, 138844,\n",
       "       140000, 140036, 141493, 141710, 142524, 145449, 147847, 149934,\n",
       "       150124, 152186, 155147, 159033, 162052, 162639, 164675, 167471,\n",
       "       168047, 168064, 169699, 170513, 170634, 170947, 171118, 172512,\n",
       "       173632, 174216, 175886, 178199, 179733, 179772, 180957, 181176,\n",
       "       182085, 185233, 187256, 187517, 189334, 189516, 190708, 190925,\n",
       "       194669, 196047, 196077, 196160, 201017, 201447, 201674, 203240,\n",
       "       203799, 205473, 206074, 206979, 208141, 208406, 208829, 209373,\n",
       "       209756, 209875, 210485, 210959, 211426, 211430, 212645, 213350,\n",
       "       217106, 218608, 219546, 222050, 224349, 224646, 225087, 225763,\n",
       "       225986, 227447, 227520, 227705, 228681, 229329, 229551, 229741,\n",
       "       231857, 236283, 239594, 242006, 242106, 242646, 242824, 243077,\n",
       "       245371, 245410, 246513, 247429, 249862, 250405, 251394, 251422,\n",
       "       251843, 252820, 253821, 254206, 254465, 255218, 256167, 256402,\n",
       "       257028, 257204, 258938, 261105, 263460, 264031, 264317, 264321,\n",
       "       265595, 266056, 266865, 268032, 269719, 269890, 270820, 271195,\n",
       "       271448, 274301,  35050,  41084,  55548,  62272,  70594,  78783,\n",
       "        87141, 124942, 204591, 210792, 212898, 234828, 249628, 252695,\n",
       "       259629, 262399, 266226, 274061,  28523,  31846,  59172,  69078,\n",
       "        80538,  89602,  95991, 100846, 105374, 112881, 127233, 131027,\n",
       "       135045, 135458, 159858, 167349, 177432, 201290, 204522, 206534,\n",
       "       210035, 226545, 233917, 246156, 255092, 255489, 264082, 267635,\n",
       "       192093,  75591, 268030, 275970, 193499,   4017,  11601,  12538,\n",
       "        13850,  21014,  27617,  50225,  51350,  53729,  76626,  98741,\n",
       "       100906, 104636, 110934, 114868, 115490, 123883, 129074, 146230,\n",
       "       147451, 155014, 168144, 170229, 173291, 180917, 200226, 201526,\n",
       "       207246, 209516, 211847, 220278, 222296, 235105, 236058, 236340,\n",
       "       242083, 247447, 251844, 252222, 268932, 271705,   6575,  25981,\n",
       "        85757, 104665, 117251, 128696, 130571, 143792, 147141, 169663,\n",
       "       182993, 236757, 239584, 246311, 268110,  30735,  94347, 145641,\n",
       "       150979, 205735, 223087, 238781,  47316, 153563,  12982,  16916,\n",
       "       127914, 144555, 145451, 158295, 198621, 216466, 228764, 235282,\n",
       "       247752, 104399, 120093, 133571, 136252, 150498, 218552, 238541,\n",
       "       252071,   2276,   8936,  38273,  38781,  69355,  88937, 101876,\n",
       "       163804, 163973, 212923, 216444, 228998,   8067,  30276,  44595,\n",
       "        69697,  75860,  98391, 114368, 138441, 156269, 156467, 170575,\n",
       "       170742, 172030, 177374, 207349, 235392, 258185,  51450,  71712,\n",
       "       208671, 224430, 230496, 245645,  30711,  56447, 108352, 139742,\n",
       "       166123, 233911, 242299,  62895,  82926, 106225, 138097, 143415,\n",
       "       149908, 161752, 177072, 180586, 180651, 183995, 201783, 206567,\n",
       "       238545, 128835, 117539, 139467,  93629, 214272, 238526,  76499,\n",
       "       152249,  32195,   7915,  19664,  30511,  33974,  36609,  51883,\n",
       "       129358, 223154, 236959, 252848,    254,   6323,  15408,  52199,\n",
       "        60707,  63394,  76818,  86202,  95193, 108285, 178181, 179978,\n",
       "       188010, 196502, 205980, 229313, 231827, 262998, 270713,  85426,\n",
       "       189835, 226965, 249894,   6563,  10447,  16106,  25601,  51386,\n",
       "       107021, 155219, 111174, 143175, 250962,  79441, 110483, 165308,\n",
       "        96448, 107453,  18067, 179744, 258152,  60337,  66680,  87974,\n",
       "        92979, 149069, 199416,  52853, 190807, 222941, 140358, 182086,\n",
       "        97874, 190459,  20115, 120548, 133689, 226879, 230708, 113983,\n",
       "        39616, 169233, 234359,   4385,   8245,  26516,  49889, 109574,\n",
       "       151790, 181687, 236948,  86641, 183196,  95316, 109955,  23288,\n",
       "        35836, 119575,  14422,  81977,  92547, 100644, 115002, 132083,\n",
       "       197775, 244688, 266753, 240568, 173835,  51094,  83637, 238961,\n",
       "       148258,  63938, 125692, 131402, 217121, 238699, 244736, 201768,\n",
       "       264637, 265889, 274004,  26535, 189973,  55490, 253556, 246671,\n",
       "       207499, 129008, 208410, 199772, 178950, 107951, 138578, 191187,\n",
       "       177690,  16966, 162738, 135265, 133868, 208568, 102702, 168245,\n",
       "       225199, 149907, 194600, 198699,  91203, 180348, 212965,  31391,\n",
       "        94242, 254899, 259260,  81560, 157811, 234721, 248718,  25409,\n",
       "       116599,  39467,  77940, 104429, 259380, 242409, 159376, 130554,\n",
       "        73651,  13082, 154992,  12824, 204167, 222204, 151806,  23872,\n",
       "        18401, 249111,  69808,  88677, 216012, 277639, 164465,  54218,\n",
       "       241198, 148199, 193560, 164828, 165232,  72352], dtype=int64)"
      ]
     },
     "execution_count": 89,
     "metadata": {},
     "output_type": "execute_result"
    }
   ],
   "source": [
    "final_ratings['userId'].unique()"
   ]
  },
  {
   "cell_type": "code",
   "execution_count": 90,
   "id": "45a1b31b",
   "metadata": {
    "ExecuteTime": {
     "end_time": "2023-06-07T05:28:47.228647Z",
     "start_time": "2023-06-07T05:28:47.153253Z"
    }
   },
   "outputs": [],
   "source": [
    "pt = final_ratings.pivot_table(index='bookTitle',columns='userId',values='bookRating')"
   ]
  },
  {
   "cell_type": "code",
   "execution_count": 91,
   "id": "ce9725d3",
   "metadata": {
    "ExecuteTime": {
     "end_time": "2023-06-07T05:28:47.244776Z",
     "start_time": "2023-06-07T05:28:47.228647Z"
    }
   },
   "outputs": [],
   "source": [
    "pt.fillna(0,inplace=True)"
   ]
  },
  {
   "cell_type": "code",
   "execution_count": 92,
   "id": "1978fb74",
   "metadata": {
    "ExecuteTime": {
     "end_time": "2023-06-07T05:28:47.291647Z",
     "start_time": "2023-06-07T05:28:47.244776Z"
    }
   },
   "outputs": [
    {
     "data": {
      "text/html": [
       "<div>\n",
       "<style scoped>\n",
       "    .dataframe tbody tr th:only-of-type {\n",
       "        vertical-align: middle;\n",
       "    }\n",
       "\n",
       "    .dataframe tbody tr th {\n",
       "        vertical-align: top;\n",
       "    }\n",
       "\n",
       "    .dataframe thead th {\n",
       "        text-align: right;\n",
       "    }\n",
       "</style>\n",
       "<table border=\"1\" class=\"dataframe\">\n",
       "  <thead>\n",
       "    <tr style=\"text-align: right;\">\n",
       "      <th>userId</th>\n",
       "      <th>254</th>\n",
       "      <th>2276</th>\n",
       "      <th>2766</th>\n",
       "      <th>2977</th>\n",
       "      <th>3363</th>\n",
       "      <th>4017</th>\n",
       "      <th>4385</th>\n",
       "      <th>6251</th>\n",
       "      <th>6323</th>\n",
       "      <th>6543</th>\n",
       "      <th>...</th>\n",
       "      <th>271705</th>\n",
       "      <th>273979</th>\n",
       "      <th>274004</th>\n",
       "      <th>274061</th>\n",
       "      <th>274301</th>\n",
       "      <th>274308</th>\n",
       "      <th>275970</th>\n",
       "      <th>277427</th>\n",
       "      <th>277639</th>\n",
       "      <th>278418</th>\n",
       "    </tr>\n",
       "    <tr>\n",
       "      <th>bookTitle</th>\n",
       "      <th></th>\n",
       "      <th></th>\n",
       "      <th></th>\n",
       "      <th></th>\n",
       "      <th></th>\n",
       "      <th></th>\n",
       "      <th></th>\n",
       "      <th></th>\n",
       "      <th></th>\n",
       "      <th></th>\n",
       "      <th></th>\n",
       "      <th></th>\n",
       "      <th></th>\n",
       "      <th></th>\n",
       "      <th></th>\n",
       "      <th></th>\n",
       "      <th></th>\n",
       "      <th></th>\n",
       "      <th></th>\n",
       "      <th></th>\n",
       "      <th></th>\n",
       "    </tr>\n",
       "  </thead>\n",
       "  <tbody>\n",
       "    <tr>\n",
       "      <th>1984</th>\n",
       "      <td>9.0</td>\n",
       "      <td>0.0</td>\n",
       "      <td>0.0</td>\n",
       "      <td>0.0</td>\n",
       "      <td>0.0</td>\n",
       "      <td>0.0</td>\n",
       "      <td>0.0</td>\n",
       "      <td>0.0</td>\n",
       "      <td>0.0</td>\n",
       "      <td>0.0</td>\n",
       "      <td>...</td>\n",
       "      <td>10.0</td>\n",
       "      <td>0.0</td>\n",
       "      <td>0.0</td>\n",
       "      <td>0.0</td>\n",
       "      <td>0.0</td>\n",
       "      <td>0.0</td>\n",
       "      <td>0.0</td>\n",
       "      <td>0.0</td>\n",
       "      <td>0.0</td>\n",
       "      <td>0.0</td>\n",
       "    </tr>\n",
       "    <tr>\n",
       "      <th>1st to Die: A Novel</th>\n",
       "      <td>0.0</td>\n",
       "      <td>0.0</td>\n",
       "      <td>0.0</td>\n",
       "      <td>0.0</td>\n",
       "      <td>0.0</td>\n",
       "      <td>0.0</td>\n",
       "      <td>0.0</td>\n",
       "      <td>0.0</td>\n",
       "      <td>0.0</td>\n",
       "      <td>9.0</td>\n",
       "      <td>...</td>\n",
       "      <td>0.0</td>\n",
       "      <td>0.0</td>\n",
       "      <td>0.0</td>\n",
       "      <td>0.0</td>\n",
       "      <td>0.0</td>\n",
       "      <td>0.0</td>\n",
       "      <td>0.0</td>\n",
       "      <td>0.0</td>\n",
       "      <td>0.0</td>\n",
       "      <td>0.0</td>\n",
       "    </tr>\n",
       "    <tr>\n",
       "      <th>2nd Chance</th>\n",
       "      <td>0.0</td>\n",
       "      <td>10.0</td>\n",
       "      <td>0.0</td>\n",
       "      <td>0.0</td>\n",
       "      <td>0.0</td>\n",
       "      <td>0.0</td>\n",
       "      <td>0.0</td>\n",
       "      <td>0.0</td>\n",
       "      <td>0.0</td>\n",
       "      <td>0.0</td>\n",
       "      <td>...</td>\n",
       "      <td>0.0</td>\n",
       "      <td>0.0</td>\n",
       "      <td>0.0</td>\n",
       "      <td>0.0</td>\n",
       "      <td>0.0</td>\n",
       "      <td>0.0</td>\n",
       "      <td>0.0</td>\n",
       "      <td>0.0</td>\n",
       "      <td>0.0</td>\n",
       "      <td>0.0</td>\n",
       "    </tr>\n",
       "    <tr>\n",
       "      <th>4 Blondes</th>\n",
       "      <td>0.0</td>\n",
       "      <td>0.0</td>\n",
       "      <td>0.0</td>\n",
       "      <td>0.0</td>\n",
       "      <td>0.0</td>\n",
       "      <td>0.0</td>\n",
       "      <td>0.0</td>\n",
       "      <td>0.0</td>\n",
       "      <td>0.0</td>\n",
       "      <td>0.0</td>\n",
       "      <td>...</td>\n",
       "      <td>0.0</td>\n",
       "      <td>0.0</td>\n",
       "      <td>0.0</td>\n",
       "      <td>0.0</td>\n",
       "      <td>0.0</td>\n",
       "      <td>0.0</td>\n",
       "      <td>0.0</td>\n",
       "      <td>0.0</td>\n",
       "      <td>0.0</td>\n",
       "      <td>0.0</td>\n",
       "    </tr>\n",
       "    <tr>\n",
       "      <th>A Bend in the Road</th>\n",
       "      <td>0.0</td>\n",
       "      <td>0.0</td>\n",
       "      <td>7.0</td>\n",
       "      <td>0.0</td>\n",
       "      <td>0.0</td>\n",
       "      <td>0.0</td>\n",
       "      <td>0.0</td>\n",
       "      <td>0.0</td>\n",
       "      <td>0.0</td>\n",
       "      <td>0.0</td>\n",
       "      <td>...</td>\n",
       "      <td>0.0</td>\n",
       "      <td>0.0</td>\n",
       "      <td>0.0</td>\n",
       "      <td>0.0</td>\n",
       "      <td>0.0</td>\n",
       "      <td>0.0</td>\n",
       "      <td>0.0</td>\n",
       "      <td>0.0</td>\n",
       "      <td>0.0</td>\n",
       "      <td>0.0</td>\n",
       "    </tr>\n",
       "    <tr>\n",
       "      <th>...</th>\n",
       "      <td>...</td>\n",
       "      <td>...</td>\n",
       "      <td>...</td>\n",
       "      <td>...</td>\n",
       "      <td>...</td>\n",
       "      <td>...</td>\n",
       "      <td>...</td>\n",
       "      <td>...</td>\n",
       "      <td>...</td>\n",
       "      <td>...</td>\n",
       "      <td>...</td>\n",
       "      <td>...</td>\n",
       "      <td>...</td>\n",
       "      <td>...</td>\n",
       "      <td>...</td>\n",
       "      <td>...</td>\n",
       "      <td>...</td>\n",
       "      <td>...</td>\n",
       "      <td>...</td>\n",
       "      <td>...</td>\n",
       "      <td>...</td>\n",
       "    </tr>\n",
       "    <tr>\n",
       "      <th>Year of Wonders</th>\n",
       "      <td>0.0</td>\n",
       "      <td>0.0</td>\n",
       "      <td>0.0</td>\n",
       "      <td>7.0</td>\n",
       "      <td>0.0</td>\n",
       "      <td>0.0</td>\n",
       "      <td>0.0</td>\n",
       "      <td>0.0</td>\n",
       "      <td>0.0</td>\n",
       "      <td>0.0</td>\n",
       "      <td>...</td>\n",
       "      <td>0.0</td>\n",
       "      <td>9.0</td>\n",
       "      <td>0.0</td>\n",
       "      <td>0.0</td>\n",
       "      <td>0.0</td>\n",
       "      <td>0.0</td>\n",
       "      <td>0.0</td>\n",
       "      <td>0.0</td>\n",
       "      <td>0.0</td>\n",
       "      <td>0.0</td>\n",
       "    </tr>\n",
       "    <tr>\n",
       "      <th>You Belong To Me</th>\n",
       "      <td>0.0</td>\n",
       "      <td>0.0</td>\n",
       "      <td>0.0</td>\n",
       "      <td>0.0</td>\n",
       "      <td>0.0</td>\n",
       "      <td>0.0</td>\n",
       "      <td>0.0</td>\n",
       "      <td>0.0</td>\n",
       "      <td>0.0</td>\n",
       "      <td>0.0</td>\n",
       "      <td>...</td>\n",
       "      <td>0.0</td>\n",
       "      <td>0.0</td>\n",
       "      <td>0.0</td>\n",
       "      <td>0.0</td>\n",
       "      <td>0.0</td>\n",
       "      <td>0.0</td>\n",
       "      <td>0.0</td>\n",
       "      <td>0.0</td>\n",
       "      <td>0.0</td>\n",
       "      <td>0.0</td>\n",
       "    </tr>\n",
       "    <tr>\n",
       "      <th>Zen and the Art of Motorcycle Maintenance: An Inquiry into Values</th>\n",
       "      <td>0.0</td>\n",
       "      <td>0.0</td>\n",
       "      <td>0.0</td>\n",
       "      <td>0.0</td>\n",
       "      <td>0.0</td>\n",
       "      <td>0.0</td>\n",
       "      <td>0.0</td>\n",
       "      <td>0.0</td>\n",
       "      <td>0.0</td>\n",
       "      <td>0.0</td>\n",
       "      <td>...</td>\n",
       "      <td>0.0</td>\n",
       "      <td>0.0</td>\n",
       "      <td>0.0</td>\n",
       "      <td>0.0</td>\n",
       "      <td>0.0</td>\n",
       "      <td>0.0</td>\n",
       "      <td>0.0</td>\n",
       "      <td>0.0</td>\n",
       "      <td>0.0</td>\n",
       "      <td>0.0</td>\n",
       "    </tr>\n",
       "    <tr>\n",
       "      <th>Zoya</th>\n",
       "      <td>0.0</td>\n",
       "      <td>0.0</td>\n",
       "      <td>0.0</td>\n",
       "      <td>0.0</td>\n",
       "      <td>0.0</td>\n",
       "      <td>0.0</td>\n",
       "      <td>0.0</td>\n",
       "      <td>0.0</td>\n",
       "      <td>0.0</td>\n",
       "      <td>0.0</td>\n",
       "      <td>...</td>\n",
       "      <td>0.0</td>\n",
       "      <td>0.0</td>\n",
       "      <td>0.0</td>\n",
       "      <td>0.0</td>\n",
       "      <td>0.0</td>\n",
       "      <td>0.0</td>\n",
       "      <td>0.0</td>\n",
       "      <td>0.0</td>\n",
       "      <td>0.0</td>\n",
       "      <td>0.0</td>\n",
       "    </tr>\n",
       "    <tr>\n",
       "      <th>\\O\\\" Is for Outlaw\"</th>\n",
       "      <td>0.0</td>\n",
       "      <td>0.0</td>\n",
       "      <td>0.0</td>\n",
       "      <td>0.0</td>\n",
       "      <td>0.0</td>\n",
       "      <td>0.0</td>\n",
       "      <td>0.0</td>\n",
       "      <td>0.0</td>\n",
       "      <td>0.0</td>\n",
       "      <td>0.0</td>\n",
       "      <td>...</td>\n",
       "      <td>0.0</td>\n",
       "      <td>0.0</td>\n",
       "      <td>0.0</td>\n",
       "      <td>0.0</td>\n",
       "      <td>8.0</td>\n",
       "      <td>0.0</td>\n",
       "      <td>0.0</td>\n",
       "      <td>0.0</td>\n",
       "      <td>0.0</td>\n",
       "      <td>0.0</td>\n",
       "    </tr>\n",
       "  </tbody>\n",
       "</table>\n",
       "<p>699 rows × 806 columns</p>\n",
       "</div>"
      ],
      "text/plain": [
       "userId                                              254     2276    2766    \\\n",
       "bookTitle                                                                    \n",
       "1984                                                   9.0     0.0     0.0   \n",
       "1st to Die: A Novel                                    0.0     0.0     0.0   \n",
       "2nd Chance                                             0.0    10.0     0.0   \n",
       "4 Blondes                                              0.0     0.0     0.0   \n",
       "A Bend in the Road                                     0.0     0.0     7.0   \n",
       "...                                                    ...     ...     ...   \n",
       "Year of Wonders                                        0.0     0.0     0.0   \n",
       "You Belong To Me                                       0.0     0.0     0.0   \n",
       "Zen and the Art of Motorcycle Maintenance: An I...     0.0     0.0     0.0   \n",
       "Zoya                                                   0.0     0.0     0.0   \n",
       "\\O\\\" Is for Outlaw\"                                    0.0     0.0     0.0   \n",
       "\n",
       "userId                                              2977    3363    4017    \\\n",
       "bookTitle                                                                    \n",
       "1984                                                   0.0     0.0     0.0   \n",
       "1st to Die: A Novel                                    0.0     0.0     0.0   \n",
       "2nd Chance                                             0.0     0.0     0.0   \n",
       "4 Blondes                                              0.0     0.0     0.0   \n",
       "A Bend in the Road                                     0.0     0.0     0.0   \n",
       "...                                                    ...     ...     ...   \n",
       "Year of Wonders                                        7.0     0.0     0.0   \n",
       "You Belong To Me                                       0.0     0.0     0.0   \n",
       "Zen and the Art of Motorcycle Maintenance: An I...     0.0     0.0     0.0   \n",
       "Zoya                                                   0.0     0.0     0.0   \n",
       "\\O\\\" Is for Outlaw\"                                    0.0     0.0     0.0   \n",
       "\n",
       "userId                                              4385    6251    6323    \\\n",
       "bookTitle                                                                    \n",
       "1984                                                   0.0     0.0     0.0   \n",
       "1st to Die: A Novel                                    0.0     0.0     0.0   \n",
       "2nd Chance                                             0.0     0.0     0.0   \n",
       "4 Blondes                                              0.0     0.0     0.0   \n",
       "A Bend in the Road                                     0.0     0.0     0.0   \n",
       "...                                                    ...     ...     ...   \n",
       "Year of Wonders                                        0.0     0.0     0.0   \n",
       "You Belong To Me                                       0.0     0.0     0.0   \n",
       "Zen and the Art of Motorcycle Maintenance: An I...     0.0     0.0     0.0   \n",
       "Zoya                                                   0.0     0.0     0.0   \n",
       "\\O\\\" Is for Outlaw\"                                    0.0     0.0     0.0   \n",
       "\n",
       "userId                                              6543    ...  271705  \\\n",
       "bookTitle                                                   ...           \n",
       "1984                                                   0.0  ...    10.0   \n",
       "1st to Die: A Novel                                    9.0  ...     0.0   \n",
       "2nd Chance                                             0.0  ...     0.0   \n",
       "4 Blondes                                              0.0  ...     0.0   \n",
       "A Bend in the Road                                     0.0  ...     0.0   \n",
       "...                                                    ...  ...     ...   \n",
       "Year of Wonders                                        0.0  ...     0.0   \n",
       "You Belong To Me                                       0.0  ...     0.0   \n",
       "Zen and the Art of Motorcycle Maintenance: An I...     0.0  ...     0.0   \n",
       "Zoya                                                   0.0  ...     0.0   \n",
       "\\O\\\" Is for Outlaw\"                                    0.0  ...     0.0   \n",
       "\n",
       "userId                                              273979  274004  274061  \\\n",
       "bookTitle                                                                    \n",
       "1984                                                   0.0     0.0     0.0   \n",
       "1st to Die: A Novel                                    0.0     0.0     0.0   \n",
       "2nd Chance                                             0.0     0.0     0.0   \n",
       "4 Blondes                                              0.0     0.0     0.0   \n",
       "A Bend in the Road                                     0.0     0.0     0.0   \n",
       "...                                                    ...     ...     ...   \n",
       "Year of Wonders                                        9.0     0.0     0.0   \n",
       "You Belong To Me                                       0.0     0.0     0.0   \n",
       "Zen and the Art of Motorcycle Maintenance: An I...     0.0     0.0     0.0   \n",
       "Zoya                                                   0.0     0.0     0.0   \n",
       "\\O\\\" Is for Outlaw\"                                    0.0     0.0     0.0   \n",
       "\n",
       "userId                                              274301  274308  275970  \\\n",
       "bookTitle                                                                    \n",
       "1984                                                   0.0     0.0     0.0   \n",
       "1st to Die: A Novel                                    0.0     0.0     0.0   \n",
       "2nd Chance                                             0.0     0.0     0.0   \n",
       "4 Blondes                                              0.0     0.0     0.0   \n",
       "A Bend in the Road                                     0.0     0.0     0.0   \n",
       "...                                                    ...     ...     ...   \n",
       "Year of Wonders                                        0.0     0.0     0.0   \n",
       "You Belong To Me                                       0.0     0.0     0.0   \n",
       "Zen and the Art of Motorcycle Maintenance: An I...     0.0     0.0     0.0   \n",
       "Zoya                                                   0.0     0.0     0.0   \n",
       "\\O\\\" Is for Outlaw\"                                    8.0     0.0     0.0   \n",
       "\n",
       "userId                                              277427  277639  278418  \n",
       "bookTitle                                                                   \n",
       "1984                                                   0.0     0.0     0.0  \n",
       "1st to Die: A Novel                                    0.0     0.0     0.0  \n",
       "2nd Chance                                             0.0     0.0     0.0  \n",
       "4 Blondes                                              0.0     0.0     0.0  \n",
       "A Bend in the Road                                     0.0     0.0     0.0  \n",
       "...                                                    ...     ...     ...  \n",
       "Year of Wonders                                        0.0     0.0     0.0  \n",
       "You Belong To Me                                       0.0     0.0     0.0  \n",
       "Zen and the Art of Motorcycle Maintenance: An I...     0.0     0.0     0.0  \n",
       "Zoya                                                   0.0     0.0     0.0  \n",
       "\\O\\\" Is for Outlaw\"                                    0.0     0.0     0.0  \n",
       "\n",
       "[699 rows x 806 columns]"
      ]
     },
     "execution_count": 92,
     "metadata": {},
     "output_type": "execute_result"
    }
   ],
   "source": [
    "pt"
   ]
  },
  {
   "cell_type": "code",
   "execution_count": 93,
   "id": "8ae15e1f",
   "metadata": {
    "ExecuteTime": {
     "end_time": "2023-06-07T05:28:47.640432Z",
     "start_time": "2023-06-07T05:28:47.291647Z"
    }
   },
   "outputs": [],
   "source": [
    "from sklearn.metrics.pairwise import cosine_similarity"
   ]
  },
  {
   "cell_type": "code",
   "execution_count": 94,
   "id": "032ec78d",
   "metadata": {
    "ExecuteTime": {
     "end_time": "2023-06-07T05:28:47.704296Z",
     "start_time": "2023-06-07T05:28:47.641558Z"
    }
   },
   "outputs": [],
   "source": [
    "#here we are finding cosine similarity of every rows with each other. \n",
    "#Basically we are finding euclidean distance of each book with other book.\n",
    "similarity_scores = cosine_similarity(pt)"
   ]
  },
  {
   "cell_type": "code",
   "execution_count": 95,
   "id": "9ac071d9",
   "metadata": {
    "ExecuteTime": {
     "end_time": "2023-06-07T05:28:47.720018Z",
     "start_time": "2023-06-07T05:28:47.704296Z"
    }
   },
   "outputs": [
    {
     "data": {
      "text/plain": [
       "array([[1.        , 0.10377079, 0.01220856, ..., 0.12110367, 0.07347567,\n",
       "        0.04316046],\n",
       "       [0.10377079, 1.        , 0.23927158, ..., 0.07534752, 0.16973515,\n",
       "        0.14433158],\n",
       "       [0.01220856, 0.23927158, 1.        , ..., 0.04558758, 0.04938579,\n",
       "        0.10796119],\n",
       "       ...,\n",
       "       [0.12110367, 0.07534752, 0.04558758, ..., 1.        , 0.07085128,\n",
       "        0.0196177 ],\n",
       "       [0.07347567, 0.16973515, 0.04938579, ..., 0.07085128, 1.        ,\n",
       "        0.10602962],\n",
       "       [0.04316046, 0.14433158, 0.10796119, ..., 0.0196177 , 0.10602962,\n",
       "        1.        ]])"
      ]
     },
     "execution_count": 95,
     "metadata": {},
     "output_type": "execute_result"
    }
   ],
   "source": [
    "similarity_scores"
   ]
  },
  {
   "cell_type": "code",
   "execution_count": 96,
   "id": "0d17fb9b",
   "metadata": {
    "ExecuteTime": {
     "end_time": "2023-06-07T05:28:47.735346Z",
     "start_time": "2023-06-07T05:28:47.720018Z"
    }
   },
   "outputs": [
    {
     "data": {
      "text/plain": [
       "(699, 699)"
      ]
     },
     "execution_count": 96,
     "metadata": {},
     "output_type": "execute_result"
    }
   ],
   "source": [
    "similarity_scores.shape"
   ]
  }
 ],
 "metadata": {
  "kernelspec": {
   "display_name": "Python 3 (ipykernel)",
   "language": "python",
   "name": "python3"
  },
  "language_info": {
   "codemirror_mode": {
    "name": "ipython",
    "version": 3
   },
   "file_extension": ".py",
   "mimetype": "text/x-python",
   "name": "python",
   "nbconvert_exporter": "python",
   "pygments_lexer": "ipython3",
   "version": "3.9.13"
  }
 },
 "nbformat": 4,
 "nbformat_minor": 5
}
